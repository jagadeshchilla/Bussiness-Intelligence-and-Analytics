{
 "cells": [
  {
   "cell_type": "markdown",
   "id": "f94567a8",
   "metadata": {
    "papermill": {
     "duration": 0.020966,
     "end_time": "2025-02-12T19:13:02.706525",
     "exception": false,
     "start_time": "2025-02-12T19:13:02.685559",
     "status": "completed"
    },
    "tags": []
   },
   "source": [
    "## Importing Libraries"
   ]
  },
  {
   "cell_type": "code",
   "execution_count": 1,
   "id": "b47bf469",
   "metadata": {
    "execution": {
     "iopub.execute_input": "2025-02-12T19:13:02.747514Z",
     "iopub.status.busy": "2025-02-12T19:13:02.747052Z",
     "iopub.status.idle": "2025-02-12T19:13:08.344394Z",
     "shell.execute_reply": "2025-02-12T19:13:08.343086Z"
    },
    "papermill": {
     "duration": 5.62013,
     "end_time": "2025-02-12T19:13:08.346361",
     "exception": false,
     "start_time": "2025-02-12T19:13:02.726231",
     "status": "completed"
    },
    "tags": []
   },
   "outputs": [
    {
     "name": "stdout",
     "output_type": "stream",
     "text": [
      "Requirement already satisfied: xgboost in /usr/local/lib/python3.10/dist-packages (2.0.3)\r\n",
      "Requirement already satisfied: numpy in /usr/local/lib/python3.10/dist-packages (from xgboost) (1.26.4)\r\n",
      "Requirement already satisfied: scipy in /usr/local/lib/python3.10/dist-packages (from xgboost) (1.13.1)\r\n",
      "Requirement already satisfied: mkl_fft in /usr/local/lib/python3.10/dist-packages (from numpy->xgboost) (1.3.8)\r\n",
      "Requirement already satisfied: mkl_random in /usr/local/lib/python3.10/dist-packages (from numpy->xgboost) (1.2.4)\r\n",
      "Requirement already satisfied: mkl_umath in /usr/local/lib/python3.10/dist-packages (from numpy->xgboost) (0.1.1)\r\n",
      "Requirement already satisfied: mkl in /usr/local/lib/python3.10/dist-packages (from numpy->xgboost) (2025.0.1)\r\n",
      "Requirement already satisfied: tbb4py in /usr/local/lib/python3.10/dist-packages (from numpy->xgboost) (2022.0.0)\r\n",
      "Requirement already satisfied: mkl-service in /usr/local/lib/python3.10/dist-packages (from numpy->xgboost) (2.4.1)\r\n",
      "Requirement already satisfied: intel-openmp>=2024 in /usr/local/lib/python3.10/dist-packages (from mkl->numpy->xgboost) (2024.2.0)\r\n",
      "Requirement already satisfied: tbb==2022.* in /usr/local/lib/python3.10/dist-packages (from mkl->numpy->xgboost) (2022.0.0)\r\n",
      "Requirement already satisfied: tcmlib==1.* in /usr/local/lib/python3.10/dist-packages (from tbb==2022.*->mkl->numpy->xgboost) (1.2.0)\r\n",
      "Requirement already satisfied: intel-cmplr-lib-rt in /usr/local/lib/python3.10/dist-packages (from mkl_umath->numpy->xgboost) (2024.2.0)\r\n",
      "Requirement already satisfied: intel-cmplr-lib-ur==2024.2.0 in /usr/local/lib/python3.10/dist-packages (from intel-openmp>=2024->mkl->numpy->xgboost) (2024.2.0)\r\n",
      "Note: you may need to restart the kernel to use updated packages.\n"
     ]
    }
   ],
   "source": [
    "pip install xgboost"
   ]
  },
  {
   "cell_type": "code",
   "execution_count": 2,
   "id": "a7316448",
   "metadata": {
    "execution": {
     "iopub.execute_input": "2025-02-12T19:13:08.393418Z",
     "iopub.status.busy": "2025-02-12T19:13:08.392899Z",
     "iopub.status.idle": "2025-02-12T19:13:11.999919Z",
     "shell.execute_reply": "2025-02-12T19:13:11.998791Z"
    },
    "papermill": {
     "duration": 3.632766,
     "end_time": "2025-02-12T19:13:12.002010",
     "exception": false,
     "start_time": "2025-02-12T19:13:08.369244",
     "status": "completed"
    },
    "tags": []
   },
   "outputs": [],
   "source": [
    "# Data manipulation and analysis\n",
    "import pandas as pd\n",
    "import numpy as np\n",
    "\n",
    "# Data visualization\n",
    "import matplotlib.pyplot as plt\n",
    "import seaborn as sns\n",
    "\n",
    "# Machine learning models\n",
    "from sklearn.model_selection import train_test_split, GridSearchCV\n",
    "from sklearn.preprocessing import StandardScaler, LabelEncoder\n",
    "from sklearn.linear_model import LogisticRegression\n",
    "from sklearn.ensemble import RandomForestClassifier, IsolationForest\n",
    "from xgboost import XGBClassifier\n",
    "\n",
    "# Model evaluation\n",
    "from sklearn.metrics import classification_report, confusion_matrix, accuracy_score, roc_auc_score, roc_curve, precision_recall_curve\n",
    "\n",
    "# For handling JSON files\n",
    "import json\n",
    "\n",
    "# Ignore warnings\n",
    "import warnings\n",
    "warnings.filterwarnings('ignore')\n",
    "\n",
    "# Set display options\n",
    "pd.set_option('display.max_columns', None)"
   ]
  },
  {
   "cell_type": "markdown",
   "id": "b77db6dd",
   "metadata": {
    "papermill": {
     "duration": 0.019921,
     "end_time": "2025-02-12T19:13:12.042134",
     "exception": false,
     "start_time": "2025-02-12T19:13:12.022213",
     "status": "completed"
    },
    "tags": []
   },
   "source": [
    "## Loading and Merging Datasets"
   ]
  },
  {
   "cell_type": "code",
   "execution_count": 3,
   "id": "7135ce28",
   "metadata": {
    "execution": {
     "iopub.execute_input": "2025-02-12T19:13:12.082130Z",
     "iopub.status.busy": "2025-02-12T19:13:12.081546Z",
     "iopub.status.idle": "2025-02-12T19:14:01.356732Z",
     "shell.execute_reply": "2025-02-12T19:14:01.355559Z"
    },
    "papermill": {
     "duration": 49.297396,
     "end_time": "2025-02-12T19:14:01.358836",
     "exception": false,
     "start_time": "2025-02-12T19:13:12.061440",
     "status": "completed"
    },
    "tags": []
   },
   "outputs": [],
   "source": [
    "# Load transactions data\n",
    "transactions_df = pd.read_csv('/kaggle/input/transactions-fraud-datasets/transactions_data.csv')\n",
    "\n",
    "# Load fraud labels (JSON)\n",
    "with open('/kaggle/input/transactions-fraud-datasets/train_fraud_labels.json', 'r') as f:\n",
    "    fraud_labels_json = json.load(f)\n",
    "\n",
    "# Load MCC codes (JSON)\n",
    "with open('/kaggle/input/transactions-fraud-datasets/mcc_codes.json', 'r') as f:\n",
    "    mcc_codes_json = json.load(f)"
   ]
  },
  {
   "cell_type": "markdown",
   "id": "8f3193ec",
   "metadata": {
    "papermill": {
     "duration": 0.019683,
     "end_time": "2025-02-12T19:14:01.398190",
     "exception": false,
     "start_time": "2025-02-12T19:14:01.378507",
     "status": "completed"
    },
    "tags": []
   },
   "source": [
    "### Convert Fraud Labels JSON to DataFrame\n",
    "\n",
    "\n"
   ]
  },
  {
   "cell_type": "code",
   "execution_count": 4,
   "id": "f642869c",
   "metadata": {
    "execution": {
     "iopub.execute_input": "2025-02-12T19:14:01.438719Z",
     "iopub.status.busy": "2025-02-12T19:14:01.438322Z",
     "iopub.status.idle": "2025-02-12T19:14:01.442508Z",
     "shell.execute_reply": "2025-02-12T19:14:01.441487Z"
    },
    "papermill": {
     "duration": 0.026933,
     "end_time": "2025-02-12T19:14:01.444417",
     "exception": false,
     "start_time": "2025-02-12T19:14:01.417484",
     "status": "completed"
    },
    "tags": []
   },
   "outputs": [],
   "source": [
    "# Access 'target' directly\n",
    "fraud_labels_dict = fraud_labels_json['target']"
   ]
  },
  {
   "cell_type": "code",
   "execution_count": 5,
   "id": "3e9d7ab5",
   "metadata": {
    "execution": {
     "iopub.execute_input": "2025-02-12T19:14:01.484895Z",
     "iopub.status.busy": "2025-02-12T19:14:01.484541Z",
     "iopub.status.idle": "2025-02-12T19:14:01.852346Z",
     "shell.execute_reply": "2025-02-12T19:14:01.850972Z"
    },
    "papermill": {
     "duration": 0.390205,
     "end_time": "2025-02-12T19:14:01.854418",
     "exception": false,
     "start_time": "2025-02-12T19:14:01.464213",
     "status": "completed"
    },
    "tags": []
   },
   "outputs": [
    {
     "name": "stdout",
     "output_type": "stream",
     "text": [
      "Sample of Fraud Labels:\n",
      "10649266: No\n",
      "23410063: No\n",
      "9316588: No\n",
      "12478022: No\n",
      "9558530: No\n"
     ]
    }
   ],
   "source": [
    "print('Sample of Fraud Labels:')\n",
    "for key in list(fraud_labels_dict.keys())[:5]:\n",
    "    print(f'{key}: {fraud_labels_dict[key]}')"
   ]
  },
  {
   "cell_type": "code",
   "execution_count": 6,
   "id": "6f5d4df0",
   "metadata": {
    "execution": {
     "iopub.execute_input": "2025-02-12T19:14:01.895854Z",
     "iopub.status.busy": "2025-02-12T19:14:01.895443Z",
     "iopub.status.idle": "2025-02-12T19:14:06.609589Z",
     "shell.execute_reply": "2025-02-12T19:14:06.608472Z"
    },
    "papermill": {
     "duration": 4.737099,
     "end_time": "2025-02-12T19:14:06.611292",
     "exception": false,
     "start_time": "2025-02-12T19:14:01.874193",
     "status": "completed"
    },
    "tags": []
   },
   "outputs": [
    {
     "name": "stdout",
     "output_type": "stream",
     "text": [
      "Fraud Labels DataFrame:\n"
     ]
    },
    {
     "data": {
      "text/html": [
       "<div>\n",
       "<style scoped>\n",
       "    .dataframe tbody tr th:only-of-type {\n",
       "        vertical-align: middle;\n",
       "    }\n",
       "\n",
       "    .dataframe tbody tr th {\n",
       "        vertical-align: top;\n",
       "    }\n",
       "\n",
       "    .dataframe thead th {\n",
       "        text-align: right;\n",
       "    }\n",
       "</style>\n",
       "<table border=\"1\" class=\"dataframe\">\n",
       "  <thead>\n",
       "    <tr style=\"text-align: right;\">\n",
       "      <th></th>\n",
       "      <th>id</th>\n",
       "      <th>is_fraud</th>\n",
       "    </tr>\n",
       "  </thead>\n",
       "  <tbody>\n",
       "    <tr>\n",
       "      <th>0</th>\n",
       "      <td>10649266</td>\n",
       "      <td>0</td>\n",
       "    </tr>\n",
       "    <tr>\n",
       "      <th>1</th>\n",
       "      <td>23410063</td>\n",
       "      <td>0</td>\n",
       "    </tr>\n",
       "    <tr>\n",
       "      <th>2</th>\n",
       "      <td>9316588</td>\n",
       "      <td>0</td>\n",
       "    </tr>\n",
       "    <tr>\n",
       "      <th>3</th>\n",
       "      <td>12478022</td>\n",
       "      <td>0</td>\n",
       "    </tr>\n",
       "    <tr>\n",
       "      <th>4</th>\n",
       "      <td>9558530</td>\n",
       "      <td>0</td>\n",
       "    </tr>\n",
       "  </tbody>\n",
       "</table>\n",
       "</div>"
      ],
      "text/plain": [
       "         id  is_fraud\n",
       "0  10649266         0\n",
       "1  23410063         0\n",
       "2   9316588         0\n",
       "3  12478022         0\n",
       "4   9558530         0"
      ]
     },
     "execution_count": 6,
     "metadata": {},
     "output_type": "execute_result"
    }
   ],
   "source": [
    "# Convert to DataFrame\n",
    "fraud_labels_df = pd.DataFrame(list(fraud_labels_dict.items()), columns=['id', 'is_fraud'])\n",
    "\n",
    "# Convert 'id' to int and map 'is_fraud' to binary\n",
    "fraud_labels_df['id'] = fraud_labels_df['id'].astype(int)\n",
    "fraud_labels_df['is_fraud'] = fraud_labels_df['is_fraud'].map({'Yes': 1, 'No': 0})\n",
    "\n",
    "print('Fraud Labels DataFrame:')\n",
    "fraud_labels_df.head()"
   ]
  },
  {
   "cell_type": "markdown",
   "id": "e7215615",
   "metadata": {
    "papermill": {
     "duration": 0.020154,
     "end_time": "2025-02-12T19:14:06.652361",
     "exception": false,
     "start_time": "2025-02-12T19:14:06.632207",
     "status": "completed"
    },
    "tags": []
   },
   "source": [
    "### Convert MCC Codes JSON to DataFrame"
   ]
  },
  {
   "cell_type": "code",
   "execution_count": 7,
   "id": "fd6482de",
   "metadata": {
    "execution": {
     "iopub.execute_input": "2025-02-12T19:14:06.692860Z",
     "iopub.status.busy": "2025-02-12T19:14:06.692506Z",
     "iopub.status.idle": "2025-02-12T19:14:06.696706Z",
     "shell.execute_reply": "2025-02-12T19:14:06.695724Z"
    },
    "papermill": {
     "duration": 0.026526,
     "end_time": "2025-02-12T19:14:06.698460",
     "exception": false,
     "start_time": "2025-02-12T19:14:06.671934",
     "status": "completed"
    },
    "tags": []
   },
   "outputs": [],
   "source": [
    "# Use mcc_codes_json directly\n",
    "mcc_codes_dict = mcc_codes_json"
   ]
  },
  {
   "cell_type": "code",
   "execution_count": 8,
   "id": "31f2043a",
   "metadata": {
    "execution": {
     "iopub.execute_input": "2025-02-12T19:14:06.739623Z",
     "iopub.status.busy": "2025-02-12T19:14:06.739246Z",
     "iopub.status.idle": "2025-02-12T19:14:06.746519Z",
     "shell.execute_reply": "2025-02-12T19:14:06.745176Z"
    },
    "papermill": {
     "duration": 0.029982,
     "end_time": "2025-02-12T19:14:06.748333",
     "exception": false,
     "start_time": "2025-02-12T19:14:06.718351",
     "status": "completed"
    },
    "tags": []
   },
   "outputs": [
    {
     "name": "stdout",
     "output_type": "stream",
     "text": [
      "Sample of MCC Codes:\n",
      "5812: Eating Places and Restaurants\n",
      "5541: Service Stations\n",
      "7996: Amusement Parks, Carnivals, Circuses\n",
      "5411: Grocery Stores, Supermarkets\n",
      "4784: Tolls and Bridge Fees\n"
     ]
    }
   ],
   "source": [
    "print('Sample of MCC Codes:')\n",
    "for key in list(mcc_codes_dict.keys())[:5]:\n",
    "    print(f'{key}: {mcc_codes_dict[key]}')"
   ]
  },
  {
   "cell_type": "code",
   "execution_count": 9,
   "id": "39c719d7",
   "metadata": {
    "execution": {
     "iopub.execute_input": "2025-02-12T19:14:06.789796Z",
     "iopub.status.busy": "2025-02-12T19:14:06.789440Z",
     "iopub.status.idle": "2025-02-12T19:14:06.798703Z",
     "shell.execute_reply": "2025-02-12T19:14:06.797375Z"
    },
    "papermill": {
     "duration": 0.032136,
     "end_time": "2025-02-12T19:14:06.800520",
     "exception": false,
     "start_time": "2025-02-12T19:14:06.768384",
     "status": "completed"
    },
    "tags": []
   },
   "outputs": [
    {
     "name": "stdout",
     "output_type": "stream",
     "text": [
      "MCC Codes DataFrame:\n",
      "    mcc                       mcc_description\n",
      "0  5812         Eating Places and Restaurants\n",
      "1  5541                      Service Stations\n",
      "2  7996  Amusement Parks, Carnivals, Circuses\n",
      "3  5411          Grocery Stores, Supermarkets\n",
      "4  4784                 Tolls and Bridge Fees\n"
     ]
    }
   ],
   "source": [
    "# Convert to DataFrame\n",
    "mcc_codes_df = pd.DataFrame(list(mcc_codes_dict.items()), columns=['mcc', 'mcc_description'])\n",
    "\n",
    "# Convert 'mcc' to int\n",
    "mcc_codes_df['mcc'] = pd.to_numeric(mcc_codes_df['mcc'], errors='coerce').astype(int)\n",
    "\n",
    "print('MCC Codes DataFrame:')\n",
    "print(mcc_codes_df.head())"
   ]
  },
  {
   "cell_type": "markdown",
   "id": "ad55b281",
   "metadata": {
    "papermill": {
     "duration": 0.019679,
     "end_time": "2025-02-12T19:14:06.840149",
     "exception": false,
     "start_time": "2025-02-12T19:14:06.820470",
     "status": "completed"
    },
    "tags": []
   },
   "source": [
    "## Merging Datasets\n",
    "### Merge Fraud Labels with Transactions Data"
   ]
  },
  {
   "cell_type": "code",
   "execution_count": 10,
   "id": "0720802d",
   "metadata": {
    "execution": {
     "iopub.execute_input": "2025-02-12T19:14:06.881971Z",
     "iopub.status.busy": "2025-02-12T19:14:06.881590Z",
     "iopub.status.idle": "2025-02-12T19:14:13.973031Z",
     "shell.execute_reply": "2025-02-12T19:14:13.972037Z"
    },
    "papermill": {
     "duration": 7.11447,
     "end_time": "2025-02-12T19:14:13.975076",
     "exception": false,
     "start_time": "2025-02-12T19:14:06.860606",
     "status": "completed"
    },
    "tags": []
   },
   "outputs": [],
   "source": [
    "# Merge transactions with fraud labels\n",
    "transactions_labeled_df = transactions_df.merge(fraud_labels_df, on='id', how='left')"
   ]
  },
  {
   "cell_type": "code",
   "execution_count": 11,
   "id": "93ee835e",
   "metadata": {
    "execution": {
     "iopub.execute_input": "2025-02-12T19:14:14.016345Z",
     "iopub.status.busy": "2025-02-12T19:14:14.015914Z",
     "iopub.status.idle": "2025-02-12T19:14:16.794494Z",
     "shell.execute_reply": "2025-02-12T19:14:16.793416Z"
    },
    "papermill": {
     "duration": 2.801112,
     "end_time": "2025-02-12T19:14:16.796401",
     "exception": false,
     "start_time": "2025-02-12T19:14:13.995289",
     "status": "completed"
    },
    "tags": []
   },
   "outputs": [],
   "source": [
    "# Convert 'mcc' in transactions to int\n",
    "transactions_labeled_df['mcc'] = pd.to_numeric(transactions_labeled_df['mcc'], errors='coerce').astype('Int64')\n",
    "\n",
    "# Merge transactions with MCC codes\n",
    "transactions_labeled_df = transactions_labeled_df.merge(mcc_codes_df, on='mcc', how='left')"
   ]
  },
  {
   "cell_type": "code",
   "execution_count": 12,
   "id": "4a438684",
   "metadata": {
    "execution": {
     "iopub.execute_input": "2025-02-12T19:14:16.897764Z",
     "iopub.status.busy": "2025-02-12T19:14:16.897399Z",
     "iopub.status.idle": "2025-02-12T19:14:16.914390Z",
     "shell.execute_reply": "2025-02-12T19:14:16.913320Z"
    },
    "papermill": {
     "duration": 0.039623,
     "end_time": "2025-02-12T19:14:16.916087",
     "exception": false,
     "start_time": "2025-02-12T19:14:16.876464",
     "status": "completed"
    },
    "tags": []
   },
   "outputs": [
    {
     "name": "stdout",
     "output_type": "stream",
     "text": [
      "Transactions with Labels and MCC Codes:\n"
     ]
    },
    {
     "data": {
      "text/html": [
       "<div>\n",
       "<style scoped>\n",
       "    .dataframe tbody tr th:only-of-type {\n",
       "        vertical-align: middle;\n",
       "    }\n",
       "\n",
       "    .dataframe tbody tr th {\n",
       "        vertical-align: top;\n",
       "    }\n",
       "\n",
       "    .dataframe thead th {\n",
       "        text-align: right;\n",
       "    }\n",
       "</style>\n",
       "<table border=\"1\" class=\"dataframe\">\n",
       "  <thead>\n",
       "    <tr style=\"text-align: right;\">\n",
       "      <th></th>\n",
       "      <th>id</th>\n",
       "      <th>date</th>\n",
       "      <th>client_id</th>\n",
       "      <th>card_id</th>\n",
       "      <th>amount</th>\n",
       "      <th>use_chip</th>\n",
       "      <th>merchant_id</th>\n",
       "      <th>merchant_city</th>\n",
       "      <th>merchant_state</th>\n",
       "      <th>zip</th>\n",
       "      <th>mcc</th>\n",
       "      <th>errors</th>\n",
       "      <th>is_fraud</th>\n",
       "      <th>mcc_description</th>\n",
       "    </tr>\n",
       "  </thead>\n",
       "  <tbody>\n",
       "    <tr>\n",
       "      <th>0</th>\n",
       "      <td>7475327</td>\n",
       "      <td>2010-01-01 00:01:00</td>\n",
       "      <td>1556</td>\n",
       "      <td>2972</td>\n",
       "      <td>$-77.00</td>\n",
       "      <td>Swipe Transaction</td>\n",
       "      <td>59935</td>\n",
       "      <td>Beulah</td>\n",
       "      <td>ND</td>\n",
       "      <td>58523.0</td>\n",
       "      <td>5499</td>\n",
       "      <td>NaN</td>\n",
       "      <td>0.0</td>\n",
       "      <td>Miscellaneous Food Stores</td>\n",
       "    </tr>\n",
       "    <tr>\n",
       "      <th>1</th>\n",
       "      <td>7475328</td>\n",
       "      <td>2010-01-01 00:02:00</td>\n",
       "      <td>561</td>\n",
       "      <td>4575</td>\n",
       "      <td>$14.57</td>\n",
       "      <td>Swipe Transaction</td>\n",
       "      <td>67570</td>\n",
       "      <td>Bettendorf</td>\n",
       "      <td>IA</td>\n",
       "      <td>52722.0</td>\n",
       "      <td>5311</td>\n",
       "      <td>NaN</td>\n",
       "      <td>0.0</td>\n",
       "      <td>Department Stores</td>\n",
       "    </tr>\n",
       "    <tr>\n",
       "      <th>2</th>\n",
       "      <td>7475329</td>\n",
       "      <td>2010-01-01 00:02:00</td>\n",
       "      <td>1129</td>\n",
       "      <td>102</td>\n",
       "      <td>$80.00</td>\n",
       "      <td>Swipe Transaction</td>\n",
       "      <td>27092</td>\n",
       "      <td>Vista</td>\n",
       "      <td>CA</td>\n",
       "      <td>92084.0</td>\n",
       "      <td>4829</td>\n",
       "      <td>NaN</td>\n",
       "      <td>0.0</td>\n",
       "      <td>Money Transfer</td>\n",
       "    </tr>\n",
       "    <tr>\n",
       "      <th>3</th>\n",
       "      <td>7475331</td>\n",
       "      <td>2010-01-01 00:05:00</td>\n",
       "      <td>430</td>\n",
       "      <td>2860</td>\n",
       "      <td>$200.00</td>\n",
       "      <td>Swipe Transaction</td>\n",
       "      <td>27092</td>\n",
       "      <td>Crown Point</td>\n",
       "      <td>IN</td>\n",
       "      <td>46307.0</td>\n",
       "      <td>4829</td>\n",
       "      <td>NaN</td>\n",
       "      <td>NaN</td>\n",
       "      <td>Money Transfer</td>\n",
       "    </tr>\n",
       "    <tr>\n",
       "      <th>4</th>\n",
       "      <td>7475332</td>\n",
       "      <td>2010-01-01 00:06:00</td>\n",
       "      <td>848</td>\n",
       "      <td>3915</td>\n",
       "      <td>$46.41</td>\n",
       "      <td>Swipe Transaction</td>\n",
       "      <td>13051</td>\n",
       "      <td>Harwood</td>\n",
       "      <td>MD</td>\n",
       "      <td>20776.0</td>\n",
       "      <td>5813</td>\n",
       "      <td>NaN</td>\n",
       "      <td>0.0</td>\n",
       "      <td>Drinking Places (Alcoholic Beverages)</td>\n",
       "    </tr>\n",
       "  </tbody>\n",
       "</table>\n",
       "</div>"
      ],
      "text/plain": [
       "        id                 date  client_id  card_id   amount  \\\n",
       "0  7475327  2010-01-01 00:01:00       1556     2972  $-77.00   \n",
       "1  7475328  2010-01-01 00:02:00        561     4575   $14.57   \n",
       "2  7475329  2010-01-01 00:02:00       1129      102   $80.00   \n",
       "3  7475331  2010-01-01 00:05:00        430     2860  $200.00   \n",
       "4  7475332  2010-01-01 00:06:00        848     3915   $46.41   \n",
       "\n",
       "            use_chip  merchant_id merchant_city merchant_state      zip   mcc  \\\n",
       "0  Swipe Transaction        59935        Beulah             ND  58523.0  5499   \n",
       "1  Swipe Transaction        67570    Bettendorf             IA  52722.0  5311   \n",
       "2  Swipe Transaction        27092         Vista             CA  92084.0  4829   \n",
       "3  Swipe Transaction        27092   Crown Point             IN  46307.0  4829   \n",
       "4  Swipe Transaction        13051       Harwood             MD  20776.0  5813   \n",
       "\n",
       "  errors  is_fraud                        mcc_description  \n",
       "0    NaN       0.0              Miscellaneous Food Stores  \n",
       "1    NaN       0.0                      Department Stores  \n",
       "2    NaN       0.0                         Money Transfer  \n",
       "3    NaN       NaN                         Money Transfer  \n",
       "4    NaN       0.0  Drinking Places (Alcoholic Beverages)  "
      ]
     },
     "execution_count": 12,
     "metadata": {},
     "output_type": "execute_result"
    }
   ],
   "source": [
    "print('Transactions with Labels and MCC Codes:')\n",
    "transactions_labeled_df.head()"
   ]
  },
  {
   "cell_type": "markdown",
   "id": "23164c19",
   "metadata": {
    "papermill": {
     "duration": 0.01966,
     "end_time": "2025-02-12T19:14:16.956022",
     "exception": false,
     "start_time": "2025-02-12T19:14:16.936362",
     "status": "completed"
    },
    "tags": []
   },
   "source": [
    "##  Data Preprocessing"
   ]
  },
  {
   "cell_type": "markdown",
   "id": "2974cd1c",
   "metadata": {
    "papermill": {
     "duration": 0.019954,
     "end_time": "2025-02-12T19:14:16.997289",
     "exception": false,
     "start_time": "2025-02-12T19:14:16.977335",
     "status": "completed"
    },
    "tags": []
   },
   "source": [
    "### Clean and Prepare Transactions Data"
   ]
  },
  {
   "cell_type": "code",
   "execution_count": 13,
   "id": "0a0b4667",
   "metadata": {
    "execution": {
     "iopub.execute_input": "2025-02-12T19:14:17.039767Z",
     "iopub.status.busy": "2025-02-12T19:14:17.039387Z",
     "iopub.status.idle": "2025-02-12T19:14:34.809081Z",
     "shell.execute_reply": "2025-02-12T19:14:34.803747Z"
    },
    "papermill": {
     "duration": 17.799347,
     "end_time": "2025-02-12T19:14:34.817946",
     "exception": false,
     "start_time": "2025-02-12T19:14:17.018599",
     "status": "completed"
    },
    "tags": []
   },
   "outputs": [],
   "source": [
    "# Remove dollar signs and commas, then convert to float\n",
    "transactions_labeled_df['amount'] = (\n",
    "    transactions_labeled_df['amount'].replace('[\\$,]', '', regex=True).astype(float)\n",
    ")"
   ]
  },
  {
   "cell_type": "markdown",
   "id": "d55a8fc2",
   "metadata": {
    "papermill": {
     "duration": 0.083427,
     "end_time": "2025-02-12T19:14:34.996089",
     "exception": false,
     "start_time": "2025-02-12T19:14:34.912662",
     "status": "completed"
    },
    "tags": []
   },
   "source": [
    "Convert 'date' column to datetime:"
   ]
  },
  {
   "cell_type": "code",
   "execution_count": 14,
   "id": "6f390fee",
   "metadata": {
    "execution": {
     "iopub.execute_input": "2025-02-12T19:14:35.165331Z",
     "iopub.status.busy": "2025-02-12T19:14:35.163509Z",
     "iopub.status.idle": "2025-02-12T19:14:47.747615Z",
     "shell.execute_reply": "2025-02-12T19:14:47.746505Z"
    },
    "papermill": {
     "duration": 12.671947,
     "end_time": "2025-02-12T19:14:47.749765",
     "exception": false,
     "start_time": "2025-02-12T19:14:35.077818",
     "status": "completed"
    },
    "tags": []
   },
   "outputs": [],
   "source": [
    "transactions_labeled_df['date'] = pd.to_datetime(transactions_labeled_df['date'])"
   ]
  },
  {
   "cell_type": "code",
   "execution_count": 15,
   "id": "06b52547",
   "metadata": {
    "execution": {
     "iopub.execute_input": "2025-02-12T19:14:47.792069Z",
     "iopub.status.busy": "2025-02-12T19:14:47.791668Z",
     "iopub.status.idle": "2025-02-12T19:14:58.018838Z",
     "shell.execute_reply": "2025-02-12T19:14:58.017650Z"
    },
    "papermill": {
     "duration": 10.250568,
     "end_time": "2025-02-12T19:14:58.020992",
     "exception": false,
     "start_time": "2025-02-12T19:14:47.770424",
     "status": "completed"
    },
    "tags": []
   },
   "outputs": [
    {
     "name": "stdout",
     "output_type": "stream",
     "text": [
      "Missing values before handling:\n",
      "id                        0\n",
      "date                      0\n",
      "client_id                 0\n",
      "card_id                   0\n",
      "amount                    0\n",
      "use_chip                  0\n",
      "merchant_id               0\n",
      "merchant_city             0\n",
      "merchant_state      1563700\n",
      "zip                 1652706\n",
      "mcc                       0\n",
      "errors             13094522\n",
      "is_fraud            4390952\n",
      "mcc_description           0\n",
      "dtype: int64\n"
     ]
    }
   ],
   "source": [
    "# Check for missing values\n",
    "print('Missing values before handling:')\n",
    "print(transactions_labeled_df.isnull().sum())\n",
    "\n",
    "# Drop rows with missing 'amount' or 'date'\n",
    "transactions_labeled_df.dropna(subset=['amount', 'date'], inplace=True)\n",
    "\n",
    "# Fill missing 'use_chip' values with 'Unknown'\n",
    "transactions_labeled_df['use_chip'] = transactions_labeled_df['use_chip'].fillna('Unknown')\n",
    "\n",
    "# Fill missing 'is_fraud' labels with -1 (for unlabeled data)\n",
    "transactions_labeled_df['is_fraud'] = transactions_labeled_df['is_fraud'].fillna(-1)\n",
    "transactions_labeled_df['is_fraud'] = transactions_labeled_df['is_fraud'].astype(int)"
   ]
  },
  {
   "cell_type": "markdown",
   "id": "a033be62",
   "metadata": {
    "papermill": {
     "duration": 0.020251,
     "end_time": "2025-02-12T19:14:58.062461",
     "exception": false,
     "start_time": "2025-02-12T19:14:58.042210",
     "status": "completed"
    },
    "tags": []
   },
   "source": [
    "### Encoding categorical variables:"
   ]
  },
  {
   "cell_type": "code",
   "execution_count": 16,
   "id": "4298ae7e",
   "metadata": {
    "execution": {
     "iopub.execute_input": "2025-02-12T19:14:58.105145Z",
     "iopub.status.busy": "2025-02-12T19:14:58.104738Z",
     "iopub.status.idle": "2025-02-12T19:15:14.653176Z",
     "shell.execute_reply": "2025-02-12T19:15:14.650981Z"
    },
    "papermill": {
     "duration": 16.574508,
     "end_time": "2025-02-12T19:15:14.657482",
     "exception": false,
     "start_time": "2025-02-12T19:14:58.082974",
     "status": "completed"
    },
    "tags": []
   },
   "outputs": [],
   "source": [
    "# List of categorical columns to encode\n",
    "categorical_cols = ['use_chip', 'merchant_city', 'merchant_state', 'mcc_description']\n",
    "\n",
    "# Label encode high-cardinality categorical variables\n",
    "label_enc_cols = ['merchant_city', 'merchant_state', 'mcc_description']\n",
    "\n",
    "for col in label_enc_cols:\n",
    "    le = LabelEncoder()\n",
    "    transactions_labeled_df[col] = le.fit_transform(transactions_labeled_df[col].astype(str))\n",
    "\n",
    "# One-hot encode 'use_chip' since it has few categories\n",
    "transactions_labeled_df = pd.get_dummies(transactions_labeled_df, columns=['use_chip'], drop_first=True)"
   ]
  },
  {
   "cell_type": "markdown",
   "id": "c2c7225f",
   "metadata": {
    "papermill": {
     "duration": 0.022369,
     "end_time": "2025-02-12T19:15:14.704567",
     "exception": false,
     "start_time": "2025-02-12T19:15:14.682198",
     "status": "completed"
    },
    "tags": []
   },
   "source": [
    "## Feature engineering:"
   ]
  },
  {
   "cell_type": "code",
   "execution_count": 17,
   "id": "83a36c93",
   "metadata": {
    "execution": {
     "iopub.execute_input": "2025-02-12T19:15:14.746804Z",
     "iopub.status.busy": "2025-02-12T19:15:14.746408Z",
     "iopub.status.idle": "2025-02-12T19:15:15.559921Z",
     "shell.execute_reply": "2025-02-12T19:15:15.558742Z"
    },
    "papermill": {
     "duration": 0.837334,
     "end_time": "2025-02-12T19:15:15.562033",
     "exception": false,
     "start_time": "2025-02-12T19:15:14.724699",
     "status": "completed"
    },
    "tags": []
   },
   "outputs": [],
   "source": [
    "# Extract time-based features\n",
    "transactions_labeled_df['transaction_hour'] = transactions_labeled_df['date'].dt.hour\n",
    "transactions_labeled_df['transaction_dayofweek'] = transactions_labeled_df['date'].dt.dayofweek"
   ]
  },
  {
   "cell_type": "code",
   "execution_count": 18,
   "id": "7c874220",
   "metadata": {
    "execution": {
     "iopub.execute_input": "2025-02-12T19:15:15.604895Z",
     "iopub.status.busy": "2025-02-12T19:15:15.604474Z",
     "iopub.status.idle": "2025-02-12T19:15:16.735902Z",
     "shell.execute_reply": "2025-02-12T19:15:16.734650Z"
    },
    "papermill": {
     "duration": 1.155103,
     "end_time": "2025-02-12T19:15:16.738048",
     "exception": false,
     "start_time": "2025-02-12T19:15:15.582945",
     "status": "completed"
    },
    "tags": []
   },
   "outputs": [],
   "source": [
    "transactions_labeled_df.fillna(0, inplace=True)"
   ]
  },
  {
   "cell_type": "markdown",
   "id": "1269a63a",
   "metadata": {
    "papermill": {
     "duration": 0.020308,
     "end_time": "2025-02-12T19:15:16.778972",
     "exception": false,
     "start_time": "2025-02-12T19:15:16.758664",
     "status": "completed"
    },
    "tags": []
   },
   "source": [
    "## Exploratory Data Analysis (EDA)"
   ]
  },
  {
   "cell_type": "code",
   "execution_count": 19,
   "id": "7d78e1ce",
   "metadata": {
    "execution": {
     "iopub.execute_input": "2025-02-12T19:15:16.821607Z",
     "iopub.status.busy": "2025-02-12T19:15:16.821169Z",
     "iopub.status.idle": "2025-02-12T19:15:18.310442Z",
     "shell.execute_reply": "2025-02-12T19:15:18.309256Z"
    },
    "papermill": {
     "duration": 1.51307,
     "end_time": "2025-02-12T19:15:18.312361",
     "exception": false,
     "start_time": "2025-02-12T19:15:16.799291",
     "status": "completed"
    },
    "tags": []
   },
   "outputs": [
    {
     "data": {
      "image/png": "[encoded data removed]",
      "text/plain": [
       "<Figure size 600x400 with 1 Axes>"
      ]
     },
     "metadata": {},
     "output_type": "display_data"
    }
   ],
   "source": [
    "# Class distribution\n",
    "plt.figure(figsize=(6, 4))\n",
    "sns.countplot(x='is_fraud', data=transactions_labeled_df)\n",
    "plt.title('Class Distribution of Fraud Labels')\n",
    "plt.show()"
   ]
  },
  {
   "cell_type": "code",
   "execution_count": 20,
   "id": "f6baf916",
   "metadata": {
    "execution": {
     "iopub.execute_input": "2025-02-12T19:15:18.357266Z",
     "iopub.status.busy": "2025-02-12T19:15:18.356799Z",
     "iopub.status.idle": "2025-02-12T19:15:18.463584Z",
     "shell.execute_reply": "2025-02-12T19:15:18.462090Z"
    },
    "papermill": {
     "duration": 0.13174,
     "end_time": "2025-02-12T19:15:18.465570",
     "exception": false,
     "start_time": "2025-02-12T19:15:18.333830",
     "status": "completed"
    },
    "tags": []
   },
   "outputs": [
    {
     "name": "stdout",
     "output_type": "stream",
     "text": [
      "Fraud Label Counts:\n",
      "is_fraud\n",
      " 0    8901631\n",
      "-1    4390952\n",
      " 1      13332\n",
      "Name: count, dtype: int64\n"
     ]
    }
   ],
   "source": [
    "# Count of fraud vs. non-fraud\n",
    "fraud_counts = transactions_labeled_df['is_fraud'].value_counts()\n",
    "print('Fraud Label Counts:')\n",
    "print(fraud_counts)"
   ]
  },
  {
   "cell_type": "markdown",
   "id": "246f19c2",
   "metadata": {
    "papermill": {
     "duration": 0.021808,
     "end_time": "2025-02-12T19:15:18.508342",
     "exception": false,
     "start_time": "2025-02-12T19:15:18.486534",
     "status": "completed"
    },
    "tags": []
   },
   "source": [
    "## Supervised Fraud Detection\n",
    "### Data Preparation"
   ]
  },
  {
   "cell_type": "code",
   "execution_count": 21,
   "id": "0051f477",
   "metadata": {
    "execution": {
     "iopub.execute_input": "2025-02-12T19:15:18.551496Z",
     "iopub.status.busy": "2025-02-12T19:15:18.551066Z",
     "iopub.status.idle": "2025-02-12T19:15:19.586401Z",
     "shell.execute_reply": "2025-02-12T19:15:19.585077Z"
    },
    "papermill": {
     "duration": 1.059204,
     "end_time": "2025-02-12T19:15:19.588508",
     "exception": false,
     "start_time": "2025-02-12T19:15:18.529304",
     "status": "completed"
    },
    "tags": []
   },
   "outputs": [],
   "source": [
    "# Include only labeled data for supervised learning\n",
    "supervised_df = transactions_labeled_df[transactions_labeled_df['is_fraud'] != -1]\n",
    "\n",
    "# Define features and target variable\n",
    "features = [\n",
    "    'amount',\n",
    "    'merchant_city',\n",
    "    'merchant_state',\n",
    "    'mcc_description',\n",
    "    'transaction_hour',\n",
    "    'transaction_dayofweek',\n",
    "    'use_chip_Swipe Transaction',  # Adjust as per your one-hot encoded column\n",
    "]\n",
    "\n",
    "X = supervised_df[features]\n",
    "y = supervised_df['is_fraud']"
   ]
  },
  {
   "cell_type": "code",
   "execution_count": 22,
   "id": "088e9853",
   "metadata": {
    "execution": {
     "iopub.execute_input": "2025-02-12T19:15:19.631057Z",
     "iopub.status.busy": "2025-02-12T19:15:19.630700Z",
     "iopub.status.idle": "2025-02-12T19:15:19.657379Z",
     "shell.execute_reply": "2025-02-12T19:15:19.656233Z"
    },
    "papermill": {
     "duration": 0.050188,
     "end_time": "2025-02-12T19:15:19.659549",
     "exception": false,
     "start_time": "2025-02-12T19:15:19.609361",
     "status": "completed"
    },
    "tags": []
   },
   "outputs": [],
   "source": [
    "X.fillna(0, inplace=True)"
   ]
  },
  {
   "cell_type": "code",
   "execution_count": 23,
   "id": "36e6fafe",
   "metadata": {
    "execution": {
     "iopub.execute_input": "2025-02-12T19:15:19.704656Z",
     "iopub.status.busy": "2025-02-12T19:15:19.704058Z",
     "iopub.status.idle": "2025-02-12T19:15:23.634453Z",
     "shell.execute_reply": "2025-02-12T19:15:23.633050Z"
    },
    "papermill": {
     "duration": 3.955176,
     "end_time": "2025-02-12T19:15:23.636608",
     "exception": false,
     "start_time": "2025-02-12T19:15:19.681432",
     "status": "completed"
    },
    "tags": []
   },
   "outputs": [],
   "source": [
    "# Standardize features for Logistic Regression\n",
    "scaler = StandardScaler()\n",
    "X_scaled = scaler.fit_transform(X)"
   ]
  },
  {
   "cell_type": "markdown",
   "id": "b3e6f4a1",
   "metadata": {
    "papermill": {
     "duration": 0.020267,
     "end_time": "2025-02-12T19:15:23.677660",
     "exception": false,
     "start_time": "2025-02-12T19:15:23.657393",
     "status": "completed"
    },
    "tags": []
   },
   "source": [
    "### Model Training\n",
    "Split data into training and testing sets:"
   ]
  },
  {
   "cell_type": "code",
   "execution_count": 24,
   "id": "a5e29d8a",
   "metadata": {
    "execution": {
     "iopub.execute_input": "2025-02-12T19:15:23.721270Z",
     "iopub.status.busy": "2025-02-12T19:15:23.720745Z",
     "iopub.status.idle": "2025-02-12T19:15:34.373038Z",
     "shell.execute_reply": "2025-02-12T19:15:34.372017Z"
    },
    "papermill": {
     "duration": 10.677089,
     "end_time": "2025-02-12T19:15:34.375016",
     "exception": false,
     "start_time": "2025-02-12T19:15:23.697927",
     "status": "completed"
    },
    "tags": []
   },
   "outputs": [],
   "source": [
    "# For Logistic Regression\n",
    "X_train_lr, X_test_lr, y_train_lr, y_test_lr = train_test_split(\n",
    "    X_scaled, y, test_size=0.2, stratify=y, random_state=42\n",
    ")\n",
    "\n",
    "# For Random Forest and XGBoost (no scaling needed)\n",
    "X_train, X_test, y_train, y_test = train_test_split(\n",
    "    X, y, test_size=0.2, stratify=y, random_state=42\n",
    ")"
   ]
  },
  {
   "cell_type": "markdown",
   "id": "25479456",
   "metadata": {
    "papermill": {
     "duration": 0.020497,
     "end_time": "2025-02-12T19:15:34.416535",
     "exception": false,
     "start_time": "2025-02-12T19:15:34.396038",
     "status": "completed"
    },
    "tags": []
   },
   "source": [
    "Train Logistic Regression model:"
   ]
  },
  {
   "cell_type": "code",
   "execution_count": 25,
   "id": "b12008a9",
   "metadata": {
    "execution": {
     "iopub.execute_input": "2025-02-12T19:15:34.459956Z",
     "iopub.status.busy": "2025-02-12T19:15:34.459526Z",
     "iopub.status.idle": "2025-02-12T19:15:42.994465Z",
     "shell.execute_reply": "2025-02-12T19:15:42.993243Z"
    },
    "papermill": {
     "duration": 8.558917,
     "end_time": "2025-02-12T19:15:42.996399",
     "exception": false,
     "start_time": "2025-02-12T19:15:34.437482",
     "status": "completed"
    },
    "tags": []
   },
   "outputs": [
    {
     "data": {
      "text/html": [
       "<style>#sk-container-id-1 {color: black;background-color: white;}#sk-container-id-1 pre{padding: 0;}#sk-container-id-1 div.sk-toggleable {background-color: white;}#sk-container-id-1 label.sk-toggleable__label {cursor: pointer;display: block;width: 100%;margin-bottom: 0;padding: 0.3em;box-sizing: border-box;text-align: center;}#sk-container-id-1 label.sk-toggleable__label-arrow:before {content: \"▸\";float: left;margin-right: 0.25em;color: #696969;}#sk-container-id-1 label.sk-toggleable__label-arrow:hover:before {color: black;}#sk-container-id-1 div.sk-estimator:hover label.sk-toggleable__label-arrow:before {color: black;}#sk-container-id-1 div.sk-toggleable__content {max-height: 0;max-width: 0;overflow: hidden;text-align: left;background-color: #f0f8ff;}#sk-container-id-1 div.sk-toggleable__content pre {margin: 0.2em;color: black;border-radius: 0.25em;background-color: #f0f8ff;}#sk-container-id-1 input.sk-toggleable__control:checked~div.sk-toggleable__content {max-height: 200px;max-width: 100%;overflow: auto;}#sk-container-id-1 input.sk-toggleable__control:checked~label.sk-toggleable__label-arrow:before {content: \"▾\";}#sk-container-id-1 div.sk-estimator input.sk-toggleable__control:checked~label.sk-toggleable__label {background-color: #d4ebff;}#sk-container-id-1 div.sk-label input.sk-toggleable__control:checked~label.sk-toggleable__label {background-color: #d4ebff;}#sk-container-id-1 input.sk-hidden--visually {border: 0;clip: rect(1px 1px 1px 1px);clip: rect(1px, 1px, 1px, 1px);height: 1px;margin: -1px;overflow: hidden;padding: 0;position: absolute;width: 1px;}#sk-container-id-1 div.sk-estimator {font-family: monospace;background-color: #f0f8ff;border: 1px dotted black;border-radius: 0.25em;box-sizing: border-box;margin-bottom: 0.5em;}#sk-container-id-1 div.sk-estimator:hover {background-color: #d4ebff;}#sk-container-id-1 div.sk-parallel-item::after {content: \"\";width: 100%;border-bottom: 1px solid gray;flex-grow: 1;}#sk-container-id-1 div.sk-label:hover label.sk-toggleable__label {background-color: #d4ebff;}#sk-container-id-1 div.sk-serial::before {content: \"\";position: absolute;border-left: 1px solid gray;box-sizing: border-box;top: 0;bottom: 0;left: 50%;z-index: 0;}#sk-container-id-1 div.sk-serial {display: flex;flex-direction: column;align-items: center;background-color: white;padding-right: 0.2em;padding-left: 0.2em;position: relative;}#sk-container-id-1 div.sk-item {position: relative;z-index: 1;}#sk-container-id-1 div.sk-parallel {display: flex;align-items: stretch;justify-content: center;background-color: white;position: relative;}#sk-container-id-1 div.sk-item::before, #sk-container-id-1 div.sk-parallel-item::before {content: \"\";position: absolute;border-left: 1px solid gray;box-sizing: border-box;top: 0;bottom: 0;left: 50%;z-index: -1;}#sk-container-id-1 div.sk-parallel-item {display: flex;flex-direction: column;z-index: 1;position: relative;background-color: white;}#sk-container-id-1 div.sk-parallel-item:first-child::after {align-self: flex-end;width: 50%;}#sk-container-id-1 div.sk-parallel-item:last-child::after {align-self: flex-start;width: 50%;}#sk-container-id-1 div.sk-parallel-item:only-child::after {width: 0;}#sk-container-id-1 div.sk-dashed-wrapped {border: 1px dashed gray;margin: 0 0.4em 0.5em 0.4em;box-sizing: border-box;padding-bottom: 0.4em;background-color: white;}#sk-container-id-1 div.sk-label label {font-family: monospace;font-weight: bold;display: inline-block;line-height: 1.2em;}#sk-container-id-1 div.sk-label-container {text-align: center;}#sk-container-id-1 div.sk-container {/* jupyter's `normalize.less` sets `[hidden] { display: none; }` but bootstrap.min.css set `[hidden] { display: none !important; }` so we also need the `!important` here to be able to override the default hidden behavior on the sphinx rendered scikit-learn.org. See: https://github.com/scikit-learn/scikit-learn/issues/21755 */display: inline-block !important;position: relative;}#sk-container-id-1 div.sk-text-repr-fallback {display: none;}</style><div id=\"sk-container-id-1\" class=\"sk-top-container\"><div class=\"sk-text-repr-fallback\"><pre>LogisticRegression(max_iter=1000)</pre><b>In a Jupyter environment, please rerun this cell to show the HTML representation or trust the notebook. <br />On GitHub, the HTML representation is unable to render, please try loading this page with nbviewer.org.</b></div><div class=\"sk-container\" hidden><div class=\"sk-item\"><div class=\"sk-estimator sk-toggleable\"><input class=\"sk-toggleable__control sk-hidden--visually\" id=\"sk-estimator-id-1\" type=\"checkbox\" checked><label for=\"sk-estimator-id-1\" class=\"sk-toggleable__label sk-toggleable__label-arrow\">LogisticRegression</label><div class=\"sk-toggleable__content\"><pre>LogisticRegression(max_iter=1000)</pre></div></div></div></div></div>"
      ],
      "text/plain": [
       "LogisticRegression(max_iter=1000)"
      ]
     },
     "execution_count": 25,
     "metadata": {},
     "output_type": "execute_result"
    }
   ],
   "source": [
    "# Initialize Logistic Regression\n",
    "lr_model = LogisticRegression(max_iter=1000)\n",
    "\n",
    "# Train the model\n",
    "lr_model.fit(X_train_lr, y_train_lr)"
   ]
  },
  {
   "cell_type": "markdown",
   "id": "90c3f2c8",
   "metadata": {
    "papermill": {
     "duration": 0.020725,
     "end_time": "2025-02-12T19:15:43.039475",
     "exception": false,
     "start_time": "2025-02-12T19:15:43.018750",
     "status": "completed"
    },
    "tags": []
   },
   "source": [
    "Train Random Forest model:"
   ]
  },
  {
   "cell_type": "code",
   "execution_count": 26,
   "id": "0d393356",
   "metadata": {
    "execution": {
     "iopub.execute_input": "2025-02-12T19:15:43.083416Z",
     "iopub.status.busy": "2025-02-12T19:15:43.082995Z",
     "iopub.status.idle": "2025-02-12T19:50:49.813888Z",
     "shell.execute_reply": "2025-02-12T19:50:49.811620Z"
    },
    "papermill": {
     "duration": 2106.778531,
     "end_time": "2025-02-12T19:50:49.839263",
     "exception": false,
     "start_time": "2025-02-12T19:15:43.060732",
     "status": "completed"
    },
    "tags": []
   },
   "outputs": [
    {
     "data": {
      "text/html": [
       "<style>#sk-container-id-2 {color: black;background-color: white;}#sk-container-id-2 pre{padding: 0;}#sk-container-id-2 div.sk-toggleable {background-color: white;}#sk-container-id-2 label.sk-toggleable__label {cursor: pointer;display: block;width: 100%;margin-bottom: 0;padding: 0.3em;box-sizing: border-box;text-align: center;}#sk-container-id-2 label.sk-toggleable__label-arrow:before {content: \"▸\";float: left;margin-right: 0.25em;color: #696969;}#sk-container-id-2 label.sk-toggleable__label-arrow:hover:before {color: black;}#sk-container-id-2 div.sk-estimator:hover label.sk-toggleable__label-arrow:before {color: black;}#sk-container-id-2 div.sk-toggleable__content {max-height: 0;max-width: 0;overflow: hidden;text-align: left;background-color: #f0f8ff;}#sk-container-id-2 div.sk-toggleable__content pre {margin: 0.2em;color: black;border-radius: 0.25em;background-color: #f0f8ff;}#sk-container-id-2 input.sk-toggleable__control:checked~div.sk-toggleable__content {max-height: 200px;max-width: 100%;overflow: auto;}#sk-container-id-2 input.sk-toggleable__control:checked~label.sk-toggleable__label-arrow:before {content: \"▾\";}#sk-container-id-2 div.sk-estimator input.sk-toggleable__control:checked~label.sk-toggleable__label {background-color: #d4ebff;}#sk-container-id-2 div.sk-label input.sk-toggleable__control:checked~label.sk-toggleable__label {background-color: #d4ebff;}#sk-container-id-2 input.sk-hidden--visually {border: 0;clip: rect(1px 1px 1px 1px);clip: rect(1px, 1px, 1px, 1px);height: 1px;margin: -1px;overflow: hidden;padding: 0;position: absolute;width: 1px;}#sk-container-id-2 div.sk-estimator {font-family: monospace;background-color: #f0f8ff;border: 1px dotted black;border-radius: 0.25em;box-sizing: border-box;margin-bottom: 0.5em;}#sk-container-id-2 div.sk-estimator:hover {background-color: #d4ebff;}#sk-container-id-2 div.sk-parallel-item::after {content: \"\";width: 100%;border-bottom: 1px solid gray;flex-grow: 1;}#sk-container-id-2 div.sk-label:hover label.sk-toggleable__label {background-color: #d4ebff;}#sk-container-id-2 div.sk-serial::before {content: \"\";position: absolute;border-left: 1px solid gray;box-sizing: border-box;top: 0;bottom: 0;left: 50%;z-index: 0;}#sk-container-id-2 div.sk-serial {display: flex;flex-direction: column;align-items: center;background-color: white;padding-right: 0.2em;padding-left: 0.2em;position: relative;}#sk-container-id-2 div.sk-item {position: relative;z-index: 1;}#sk-container-id-2 div.sk-parallel {display: flex;align-items: stretch;justify-content: center;background-color: white;position: relative;}#sk-container-id-2 div.sk-item::before, #sk-container-id-2 div.sk-parallel-item::before {content: \"\";position: absolute;border-left: 1px solid gray;box-sizing: border-box;top: 0;bottom: 0;left: 50%;z-index: -1;}#sk-container-id-2 div.sk-parallel-item {display: flex;flex-direction: column;z-index: 1;position: relative;background-color: white;}#sk-container-id-2 div.sk-parallel-item:first-child::after {align-self: flex-end;width: 50%;}#sk-container-id-2 div.sk-parallel-item:last-child::after {align-self: flex-start;width: 50%;}#sk-container-id-2 div.sk-parallel-item:only-child::after {width: 0;}#sk-container-id-2 div.sk-dashed-wrapped {border: 1px dashed gray;margin: 0 0.4em 0.5em 0.4em;box-sizing: border-box;padding-bottom: 0.4em;background-color: white;}#sk-container-id-2 div.sk-label label {font-family: monospace;font-weight: bold;display: inline-block;line-height: 1.2em;}#sk-container-id-2 div.sk-label-container {text-align: center;}#sk-container-id-2 div.sk-container {/* jupyter's `normalize.less` sets `[hidden] { display: none; }` but bootstrap.min.css set `[hidden] { display: none !important; }` so we also need the `!important` here to be able to override the default hidden behavior on the sphinx rendered scikit-learn.org. See: https://github.com/scikit-learn/scikit-learn/issues/21755 */display: inline-block !important;position: relative;}#sk-container-id-2 div.sk-text-repr-fallback {display: none;}</style><div id=\"sk-container-id-2\" class=\"sk-top-container\"><div class=\"sk-text-repr-fallback\"><pre>RandomForestClassifier(random_state=42)</pre><b>In a Jupyter environment, please rerun this cell to show the HTML representation or trust the notebook. <br />On GitHub, the HTML representation is unable to render, please try loading this page with nbviewer.org.</b></div><div class=\"sk-container\" hidden><div class=\"sk-item\"><div class=\"sk-estimator sk-toggleable\"><input class=\"sk-toggleable__control sk-hidden--visually\" id=\"sk-estimator-id-2\" type=\"checkbox\" checked><label for=\"sk-estimator-id-2\" class=\"sk-toggleable__label sk-toggleable__label-arrow\">RandomForestClassifier</label><div class=\"sk-toggleable__content\"><pre>RandomForestClassifier(random_state=42)</pre></div></div></div></div></div>"
      ],
      "text/plain": [
       "RandomForestClassifier(random_state=42)"
      ]
     },
     "execution_count": 26,
     "metadata": {},
     "output_type": "execute_result"
    }
   ],
   "source": [
    "# Initialize Random Forest\n",
    "rf_model = RandomForestClassifier(n_estimators=100, random_state=42)\n",
    "\n",
    "# Train the model\n",
    "rf_model.fit(X_train, y_train)"
   ]
  },
  {
   "cell_type": "markdown",
   "id": "5ec4cc48",
   "metadata": {
    "papermill": {
     "duration": 0.021178,
     "end_time": "2025-02-12T19:50:49.882671",
     "exception": false,
     "start_time": "2025-02-12T19:50:49.861493",
     "status": "completed"
    },
    "tags": []
   },
   "source": [
    "Train XGBoost model:"
   ]
  },
  {
   "cell_type": "code",
   "execution_count": 27,
   "id": "be6940a0",
   "metadata": {
    "execution": {
     "iopub.execute_input": "2025-02-12T19:50:49.927898Z",
     "iopub.status.busy": "2025-02-12T19:50:49.927395Z",
     "iopub.status.idle": "2025-02-12T19:51:30.418812Z",
     "shell.execute_reply": "2025-02-12T19:51:30.417769Z"
    },
    "papermill": {
     "duration": 40.538181,
     "end_time": "2025-02-12T19:51:30.442622",
     "exception": false,
     "start_time": "2025-02-12T19:50:49.904441",
     "status": "completed"
    },
    "tags": []
   },
   "outputs": [
    {
     "data": {
      "text/html": [
       "<style>#sk-container-id-3 {color: black;background-color: white;}#sk-container-id-3 pre{padding: 0;}#sk-container-id-3 div.sk-toggleable {background-color: white;}#sk-container-id-3 label.sk-toggleable__label {cursor: pointer;display: block;width: 100%;margin-bottom: 0;padding: 0.3em;box-sizing: border-box;text-align: center;}#sk-container-id-3 label.sk-toggleable__label-arrow:before {content: \"▸\";float: left;margin-right: 0.25em;color: #696969;}#sk-container-id-3 label.sk-toggleable__label-arrow:hover:before {color: black;}#sk-container-id-3 div.sk-estimator:hover label.sk-toggleable__label-arrow:before {color: black;}#sk-container-id-3 div.sk-toggleable__content {max-height: 0;max-width: 0;overflow: hidden;text-align: left;background-color: #f0f8ff;}#sk-container-id-3 div.sk-toggleable__content pre {margin: 0.2em;color: black;border-radius: 0.25em;background-color: #f0f8ff;}#sk-container-id-3 input.sk-toggleable__control:checked~div.sk-toggleable__content {max-height: 200px;max-width: 100%;overflow: auto;}#sk-container-id-3 input.sk-toggleable__control:checked~label.sk-toggleable__label-arrow:before {content: \"▾\";}#sk-container-id-3 div.sk-estimator input.sk-toggleable__control:checked~label.sk-toggleable__label {background-color: #d4ebff;}#sk-container-id-3 div.sk-label input.sk-toggleable__control:checked~label.sk-toggleable__label {background-color: #d4ebff;}#sk-container-id-3 input.sk-hidden--visually {border: 0;clip: rect(1px 1px 1px 1px);clip: rect(1px, 1px, 1px, 1px);height: 1px;margin: -1px;overflow: hidden;padding: 0;position: absolute;width: 1px;}#sk-container-id-3 div.sk-estimator {font-family: monospace;background-color: #f0f8ff;border: 1px dotted black;border-radius: 0.25em;box-sizing: border-box;margin-bottom: 0.5em;}#sk-container-id-3 div.sk-estimator:hover {background-color: #d4ebff;}#sk-container-id-3 div.sk-parallel-item::after {content: \"\";width: 100%;border-bottom: 1px solid gray;flex-grow: 1;}#sk-container-id-3 div.sk-label:hover label.sk-toggleable__label {background-color: #d4ebff;}#sk-container-id-3 div.sk-serial::before {content: \"\";position: absolute;border-left: 1px solid gray;box-sizing: border-box;top: 0;bottom: 0;left: 50%;z-index: 0;}#sk-container-id-3 div.sk-serial {display: flex;flex-direction: column;align-items: center;background-color: white;padding-right: 0.2em;padding-left: 0.2em;position: relative;}#sk-container-id-3 div.sk-item {position: relative;z-index: 1;}#sk-container-id-3 div.sk-parallel {display: flex;align-items: stretch;justify-content: center;background-color: white;position: relative;}#sk-container-id-3 div.sk-item::before, #sk-container-id-3 div.sk-parallel-item::before {content: \"\";position: absolute;border-left: 1px solid gray;box-sizing: border-box;top: 0;bottom: 0;left: 50%;z-index: -1;}#sk-container-id-3 div.sk-parallel-item {display: flex;flex-direction: column;z-index: 1;position: relative;background-color: white;}#sk-container-id-3 div.sk-parallel-item:first-child::after {align-self: flex-end;width: 50%;}#sk-container-id-3 div.sk-parallel-item:last-child::after {align-self: flex-start;width: 50%;}#sk-container-id-3 div.sk-parallel-item:only-child::after {width: 0;}#sk-container-id-3 div.sk-dashed-wrapped {border: 1px dashed gray;margin: 0 0.4em 0.5em 0.4em;box-sizing: border-box;padding-bottom: 0.4em;background-color: white;}#sk-container-id-3 div.sk-label label {font-family: monospace;font-weight: bold;display: inline-block;line-height: 1.2em;}#sk-container-id-3 div.sk-label-container {text-align: center;}#sk-container-id-3 div.sk-container {/* jupyter's `normalize.less` sets `[hidden] { display: none; }` but bootstrap.min.css set `[hidden] { display: none !important; }` so we also need the `!important` here to be able to override the default hidden behavior on the sphinx rendered scikit-learn.org. See: https://github.com/scikit-learn/scikit-learn/issues/21755 */display: inline-block !important;position: relative;}#sk-container-id-3 div.sk-text-repr-fallback {display: none;}</style><div id=\"sk-container-id-3\" class=\"sk-top-container\"><div class=\"sk-text-repr-fallback\"><pre>XGBClassifier(base_score=None, booster=None, callbacks=None,\n",
       "              colsample_bylevel=None, colsample_bynode=None,\n",
       "              colsample_bytree=None, device=None, early_stopping_rounds=None,\n",
       "              enable_categorical=False, eval_metric=&#x27;logloss&#x27;,\n",
       "              feature_types=None, gamma=None, grow_policy=None,\n",
       "              importance_type=None, interaction_constraints=None,\n",
       "              learning_rate=None, max_bin=None, max_cat_threshold=None,\n",
       "              max_cat_to_onehot=None, max_delta_step=None, max_depth=None,\n",
       "              max_leaves=None, min_child_weight=None, missing=nan,\n",
       "              monotone_constraints=None, multi_strategy=None, n_estimators=None,\n",
       "              n_jobs=None, num_parallel_tree=None, random_state=42, ...)</pre><b>In a Jupyter environment, please rerun this cell to show the HTML representation or trust the notebook. <br />On GitHub, the HTML representation is unable to render, please try loading this page with nbviewer.org.</b></div><div class=\"sk-container\" hidden><div class=\"sk-item\"><div class=\"sk-estimator sk-toggleable\"><input class=\"sk-toggleable__control sk-hidden--visually\" id=\"sk-estimator-id-3\" type=\"checkbox\" checked><label for=\"sk-estimator-id-3\" class=\"sk-toggleable__label sk-toggleable__label-arrow\">XGBClassifier</label><div class=\"sk-toggleable__content\"><pre>XGBClassifier(base_score=None, booster=None, callbacks=None,\n",
       "              colsample_bylevel=None, colsample_bynode=None,\n",
       "              colsample_bytree=None, device=None, early_stopping_rounds=None,\n",
       "              enable_categorical=False, eval_metric=&#x27;logloss&#x27;,\n",
       "              feature_types=None, gamma=None, grow_policy=None,\n",
       "              importance_type=None, interaction_constraints=None,\n",
       "              learning_rate=None, max_bin=None, max_cat_threshold=None,\n",
       "              max_cat_to_onehot=None, max_delta_step=None, max_depth=None,\n",
       "              max_leaves=None, min_child_weight=None, missing=nan,\n",
       "              monotone_constraints=None, multi_strategy=None, n_estimators=None,\n",
       "              n_jobs=None, num_parallel_tree=None, random_state=42, ...)</pre></div></div></div></div></div>"
      ],
      "text/plain": [
       "XGBClassifier(base_score=None, booster=None, callbacks=None,\n",
       "              colsample_bylevel=None, colsample_bynode=None,\n",
       "              colsample_bytree=None, device=None, early_stopping_rounds=None,\n",
       "              enable_categorical=False, eval_metric='logloss',\n",
       "              feature_types=None, gamma=None, grow_policy=None,\n",
       "              importance_type=None, interaction_constraints=None,\n",
       "              learning_rate=None, max_bin=None, max_cat_threshold=None,\n",
       "              max_cat_to_onehot=None, max_delta_step=None, max_depth=None,\n",
       "              max_leaves=None, min_child_weight=None, missing=nan,\n",
       "              monotone_constraints=None, multi_strategy=None, n_estimators=None,\n",
       "              n_jobs=None, num_parallel_tree=None, random_state=42, ...)"
      ]
     },
     "execution_count": 27,
     "metadata": {},
     "output_type": "execute_result"
    }
   ],
   "source": [
    "# Initialize XGBoost\n",
    "xgb_model = XGBClassifier(use_label_encoder=False, eval_metric='logloss', random_state=42)\n",
    "\n",
    "# Train the model\n",
    "xgb_model.fit(X_train, y_train)"
   ]
  },
  {
   "cell_type": "markdown",
   "id": "b184e9df",
   "metadata": {
    "papermill": {
     "duration": 0.021145,
     "end_time": "2025-02-12T19:51:30.485332",
     "exception": false,
     "start_time": "2025-02-12T19:51:30.464187",
     "status": "completed"
    },
    "tags": []
   },
   "source": [
    "### Model Evaluation\n",
    "Evaluate Logistic Regression model:"
   ]
  },
  {
   "cell_type": "code",
   "execution_count": 28,
   "id": "3afa8b2f",
   "metadata": {
    "execution": {
     "iopub.execute_input": "2025-02-12T19:51:30.530351Z",
     "iopub.status.busy": "2025-02-12T19:51:30.529912Z",
     "iopub.status.idle": "2025-02-12T19:51:34.661198Z",
     "shell.execute_reply": "2025-02-12T19:51:34.659859Z"
    },
    "papermill": {
     "duration": 4.155792,
     "end_time": "2025-02-12T19:51:34.663058",
     "exception": false,
     "start_time": "2025-02-12T19:51:30.507266",
     "status": "completed"
    },
    "tags": []
   },
   "outputs": [
    {
     "name": "stdout",
     "output_type": "stream",
     "text": [
      "Logistic Regression Classification Report:\n",
      "              precision    recall  f1-score   support\n",
      "\n",
      "           0       1.00      1.00      1.00   1780327\n",
      "           1       0.29      0.00      0.01      2666\n",
      "\n",
      "    accuracy                           1.00   1782993\n",
      "   macro avg       0.64      0.50      0.50   1782993\n",
      "weighted avg       1.00      1.00      1.00   1782993\n",
      "\n",
      "Confusion Matrix:\n",
      "[[1780307      20]\n",
      " [   2658       8]]\n",
      "ROC AUC Score: 0.8550054837675747\n"
     ]
    }
   ],
   "source": [
    "# Predict on test data\n",
    "y_pred_lr = lr_model.predict(X_test_lr)\n",
    "y_proba_lr = lr_model.predict_proba(X_test_lr)[:, 1]\n",
    "\n",
    "# Evaluate the model\n",
    "print('Logistic Regression Classification Report:')\n",
    "print(classification_report(y_test_lr, y_pred_lr))\n",
    "\n",
    "print('Confusion Matrix:')\n",
    "print(confusion_matrix(y_test_lr, y_pred_lr))\n",
    "\n",
    "print('ROC AUC Score:', roc_auc_score(y_test_lr, y_proba_lr))"
   ]
  },
  {
   "cell_type": "markdown",
   "id": "d776f80e",
   "metadata": {
    "papermill": {
     "duration": 0.021323,
     "end_time": "2025-02-12T19:51:34.706774",
     "exception": false,
     "start_time": "2025-02-12T19:51:34.685451",
     "status": "completed"
    },
    "tags": []
   },
   "source": [
    "Evaluate Random Forest model:"
   ]
  },
  {
   "cell_type": "code",
   "execution_count": 29,
   "id": "6ad559bd",
   "metadata": {
    "execution": {
     "iopub.execute_input": "2025-02-12T19:51:34.752080Z",
     "iopub.status.busy": "2025-02-12T19:51:34.751698Z",
     "iopub.status.idle": "2025-02-12T19:52:34.195763Z",
     "shell.execute_reply": "2025-02-12T19:52:34.194526Z"
    },
    "papermill": {
     "duration": 59.468954,
     "end_time": "2025-02-12T19:52:34.197699",
     "exception": false,
     "start_time": "2025-02-12T19:51:34.728745",
     "status": "completed"
    },
    "tags": []
   },
   "outputs": [
    {
     "name": "stdout",
     "output_type": "stream",
     "text": [
      "Random Forest Classification Report:\n",
      "              precision    recall  f1-score   support\n",
      "\n",
      "           0       1.00      1.00      1.00   1780327\n",
      "           1       0.84      0.61      0.71      2666\n",
      "\n",
      "    accuracy                           1.00   1782993\n",
      "   macro avg       0.92      0.80      0.85   1782993\n",
      "weighted avg       1.00      1.00      1.00   1782993\n",
      "\n",
      "Confusion Matrix:\n",
      "[[1780011     316]\n",
      " [   1042    1624]]\n",
      "ROC AUC Score: 0.9197039287215647\n"
     ]
    }
   ],
   "source": [
    "# Predict on test data\n",
    "y_pred_rf = rf_model.predict(X_test)\n",
    "y_proba_rf = rf_model.predict_proba(X_test)[:, 1]\n",
    "\n",
    "# Evaluate the model\n",
    "print('Random Forest Classification Report:')\n",
    "print(classification_report(y_test, y_pred_rf))\n",
    "\n",
    "print('Confusion Matrix:')\n",
    "print(confusion_matrix(y_test, y_pred_rf))\n",
    "\n",
    "print('ROC AUC Score:', roc_auc_score(y_test, y_proba_rf))"
   ]
  },
  {
   "cell_type": "markdown",
   "id": "46af3693",
   "metadata": {
    "papermill": {
     "duration": 0.021815,
     "end_time": "2025-02-12T19:52:34.242054",
     "exception": false,
     "start_time": "2025-02-12T19:52:34.220239",
     "status": "completed"
    },
    "tags": []
   },
   "source": [
    "Evaluate XGBoost model:"
   ]
  },
  {
   "cell_type": "code",
   "execution_count": 30,
   "id": "cce9af79",
   "metadata": {
    "execution": {
     "iopub.execute_input": "2025-02-12T19:52:34.289226Z",
     "iopub.status.busy": "2025-02-12T19:52:34.288797Z",
     "iopub.status.idle": "2025-02-12T19:52:43.625915Z",
     "shell.execute_reply": "2025-02-12T19:52:43.624451Z"
    },
    "papermill": {
     "duration": 9.363142,
     "end_time": "2025-02-12T19:52:43.628214",
     "exception": false,
     "start_time": "2025-02-12T19:52:34.265072",
     "status": "completed"
    },
    "tags": []
   },
   "outputs": [
    {
     "name": "stdout",
     "output_type": "stream",
     "text": [
      "XGBoost Classification Report:\n",
      "              precision    recall  f1-score   support\n",
      "\n",
      "           0       1.00      1.00      1.00   1780327\n",
      "           1       0.95      0.66      0.78      2666\n",
      "\n",
      "    accuracy                           1.00   1782993\n",
      "   macro avg       0.97      0.83      0.89   1782993\n",
      "weighted avg       1.00      1.00      1.00   1782993\n",
      "\n",
      "Confusion Matrix:\n",
      "[[1780228      99]\n",
      " [    904    1762]]\n",
      "ROC AUC Score: 0.9902295180319612\n"
     ]
    }
   ],
   "source": [
    "# Predict on test data\n",
    "y_pred_xgb = xgb_model.predict(X_test)\n",
    "y_proba_xgb = xgb_model.predict_proba(X_test)[:, 1]\n",
    "\n",
    "# Evaluate the model\n",
    "print('XGBoost Classification Report:')\n",
    "print(classification_report(y_test, y_pred_xgb))\n",
    "\n",
    "print('Confusion Matrix:')\n",
    "print(confusion_matrix(y_test, y_pred_xgb))\n",
    "\n",
    "print('ROC AUC Score:', roc_auc_score(y_test, y_proba_xgb))"
   ]
  },
  {
   "cell_type": "markdown",
   "id": "c61575d4",
   "metadata": {
    "papermill": {
     "duration": 0.022181,
     "end_time": "2025-02-12T19:52:43.673471",
     "exception": false,
     "start_time": "2025-02-12T19:52:43.651290",
     "status": "completed"
    },
    "tags": []
   },
   "source": [
    "Plot ROC curves:"
   ]
  },
  {
   "cell_type": "code",
   "execution_count": 31,
   "id": "e78d7482",
   "metadata": {
    "execution": {
     "iopub.execute_input": "2025-02-12T19:52:43.720906Z",
     "iopub.status.busy": "2025-02-12T19:52:43.720472Z",
     "iopub.status.idle": "2025-02-12T19:52:46.099022Z",
     "shell.execute_reply": "2025-02-12T19:52:46.097871Z"
    },
    "papermill": {
     "duration": 2.404853,
     "end_time": "2025-02-12T19:52:46.100786",
     "exception": false,
     "start_time": "2025-02-12T19:52:43.695933",
     "status": "completed"
    },
    "tags": []
   },
   "outputs": [
    {
     "data": {
      "image/png": "[encoded data removed]",
      "text/plain": [
       "<Figure size 800x600 with 1 Axes>"
      ]
     },
     "metadata": {},
     "output_type": "display_data"
    }
   ],
   "source": [
    "# Plot ROC curves\n",
    "plt.figure(figsize=(8, 6))\n",
    "\n",
    "# Logistic Regression\n",
    "fpr_lr, tpr_lr, _ = roc_curve(y_test_lr, y_proba_lr)\n",
    "plt.plot(fpr_lr, tpr_lr, label='Logistic Regression')\n",
    "\n",
    "# Random Forest\n",
    "fpr_rf, tpr_rf, _ = roc_curve(y_test, y_proba_rf)\n",
    "plt.plot(fpr_rf, tpr_rf, label='Random Forest')\n",
    "\n",
    "# XGBoost\n",
    "fpr_xgb, tpr_xgb, _ = roc_curve(y_test, y_proba_xgb)\n",
    "plt.plot(fpr_xgb, tpr_xgb, label='XGBoost')\n",
    "\n",
    "# Diagonal line\n",
    "plt.plot([0, 1], [0, 1], 'k--')\n",
    "\n",
    "plt.title('ROC Curves')\n",
    "plt.xlabel('False Positive Rate')\n",
    "plt.ylabel('True Positive Rate')\n",
    "plt.legend()\n",
    "plt.show()"
   ]
  },
  {
   "cell_type": "markdown",
   "id": "159aaf3a",
   "metadata": {
    "papermill": {
     "duration": 0.023894,
     "end_time": "2025-02-12T19:52:46.148864",
     "exception": false,
     "start_time": "2025-02-12T19:52:46.124970",
     "status": "completed"
    },
    "tags": []
   },
   "source": [
    "Feature importance for Random Forest:"
   ]
  },
  {
   "cell_type": "code",
   "execution_count": 32,
   "id": "fcff7686",
   "metadata": {
    "execution": {
     "iopub.execute_input": "2025-02-12T19:52:46.198267Z",
     "iopub.status.busy": "2025-02-12T19:52:46.197817Z",
     "iopub.status.idle": "2025-02-12T19:52:46.434779Z",
     "shell.execute_reply": "2025-02-12T19:52:46.433667Z"
    },
    "papermill": {
     "duration": 0.263751,
     "end_time": "2025-02-12T19:52:46.436709",
     "exception": false,
     "start_time": "2025-02-12T19:52:46.172958",
     "status": "completed"
    },
    "tags": []
   },
   "outputs": [
    {
     "data": {
      "image/png": "[encoded data removed]",
      "text/plain": [
       "<Figure size 1000x600 with 1 Axes>"
      ]
     },
     "metadata": {},
     "output_type": "display_data"
    }
   ],
   "source": [
    "# Feature importances\n",
    "rf_importances = rf_model.feature_importances_\n",
    "rf_features = X.columns\n",
    "\n",
    "# Plot feature importances\n",
    "plt.figure(figsize=(10, 6))\n",
    "sns.barplot(x=rf_importances, y=rf_features)\n",
    "plt.title('Feature Importance - Random Forest')\n",
    "plt.show()"
   ]
  },
  {
   "cell_type": "markdown",
   "id": "3fcfe712",
   "metadata": {
    "papermill": {
     "duration": 0.0239,
     "end_time": "2025-02-12T19:52:46.484934",
     "exception": false,
     "start_time": "2025-02-12T19:52:46.461034",
     "status": "completed"
    },
    "tags": []
   },
   "source": [
    "Feature importance for XGBoost:"
   ]
  },
  {
   "cell_type": "code",
   "execution_count": 33,
   "id": "79caeb44",
   "metadata": {
    "execution": {
     "iopub.execute_input": "2025-02-12T19:52:46.534527Z",
     "iopub.status.busy": "2025-02-12T19:52:46.534070Z",
     "iopub.status.idle": "2025-02-12T19:52:46.743583Z",
     "shell.execute_reply": "2025-02-12T19:52:46.742467Z"
    },
    "papermill": {
     "duration": 0.236624,
     "end_time": "2025-02-12T19:52:46.745593",
     "exception": false,
     "start_time": "2025-02-12T19:52:46.508969",
     "status": "completed"
    },
    "tags": []
   },
   "outputs": [
    {
     "data": {
      "image/png": "[encoded data removed]",
      "text/plain": [
       "<Figure size 1000x600 with 1 Axes>"
      ]
     },
     "metadata": {},
     "output_type": "display_data"
    }
   ],
   "source": [
    "# Feature importances\n",
    "xgb_importances = xgb_model.feature_importances_\n",
    "xgb_features = X.columns\n",
    "\n",
    "# Plot feature importances\n",
    "plt.figure(figsize=(10, 6))\n",
    "sns.barplot(x=xgb_importances, y=xgb_features)\n",
    "plt.title('Feature Importance - XGBoost')\n",
    "plt.show()"
   ]
  },
  {
   "cell_type": "markdown",
   "id": "c50ebea2",
   "metadata": {
    "papermill": {
     "duration": 0.024588,
     "end_time": "2025-02-12T19:52:46.795387",
     "exception": false,
     "start_time": "2025-02-12T19:52:46.770799",
     "status": "completed"
    },
    "tags": []
   },
   "source": [
    "## Unsupervised Anomaly Detection"
   ]
  },
  {
   "cell_type": "markdown",
   "id": "ff0f1d4f",
   "metadata": {
    "papermill": {
     "duration": 0.024388,
     "end_time": "2025-02-12T19:52:46.844754",
     "exception": false,
     "start_time": "2025-02-12T19:52:46.820366",
     "status": "completed"
    },
    "tags": []
   },
   "source": [
    " ### Isolation Forest\n",
    "Prepare data for Isolation Forest:\n",
    "\n"
   ]
  },
  {
   "cell_type": "code",
   "execution_count": 34,
   "id": "25108a52",
   "metadata": {
    "execution": {
     "iopub.execute_input": "2025-02-12T19:52:46.895403Z",
     "iopub.status.busy": "2025-02-12T19:52:46.894981Z",
     "iopub.status.idle": "2025-02-12T19:52:47.207472Z",
     "shell.execute_reply": "2025-02-12T19:52:47.206413Z"
    },
    "papermill": {
     "duration": 0.340118,
     "end_time": "2025-02-12T19:52:47.209513",
     "exception": false,
     "start_time": "2025-02-12T19:52:46.869395",
     "status": "completed"
    },
    "tags": []
   },
   "outputs": [],
   "source": [
    "# Features for unsupervised learning\n",
    "features_unsup = [\n",
    "    'amount',\n",
    "    'merchant_city',\n",
    "    'merchant_state',\n",
    "    'mcc_description',\n",
    "    'transaction_hour',\n",
    "    'transaction_dayofweek',\n",
    "    'use_chip_Swipe Transaction',\n",
    "]\n",
    "\n",
    "X_unsup = transactions_labeled_df[features_unsup]\n",
    "\n",
    "# Ensure there are no missing values\n",
    "X_unsup.fillna(0, inplace=True)"
   ]
  },
  {
   "cell_type": "code",
   "execution_count": 35,
   "id": "556d9efe",
   "metadata": {
    "execution": {
     "iopub.execute_input": "2025-02-12T19:52:47.260198Z",
     "iopub.status.busy": "2025-02-12T19:52:47.259803Z",
     "iopub.status.idle": "2025-02-12T20:07:37.949576Z",
     "shell.execute_reply": "2025-02-12T20:07:37.948240Z"
    },
    "papermill": {
     "duration": 890.717892,
     "end_time": "2025-02-12T20:07:37.952196",
     "exception": false,
     "start_time": "2025-02-12T19:52:47.234304",
     "status": "completed"
    },
    "tags": []
   },
   "outputs": [],
   "source": [
    "# Initialize Isolation Forest\n",
    "iso_forest = IsolationForest(n_estimators=100, contamination=0.01, random_state=42)\n",
    "\n",
    "# Fit the model\n",
    "iso_forest.fit(X_unsup)\n",
    "\n",
    "# Predict anomalies\n",
    "anomalies = iso_forest.predict(X_unsup)  # -1 for anomalies, 1 for normal"
   ]
  },
  {
   "cell_type": "code",
   "execution_count": 36,
   "id": "45e90970",
   "metadata": {
    "execution": {
     "iopub.execute_input": "2025-02-12T20:07:38.006038Z",
     "iopub.status.busy": "2025-02-12T20:07:38.005679Z",
     "iopub.status.idle": "2025-02-12T20:07:38.053317Z",
     "shell.execute_reply": "2025-02-12T20:07:38.052243Z"
    },
    "papermill": {
     "duration": 0.077188,
     "end_time": "2025-02-12T20:07:38.055408",
     "exception": false,
     "start_time": "2025-02-12T20:07:37.978220",
     "status": "completed"
    },
    "tags": []
   },
   "outputs": [],
   "source": [
    "# Add anomaly score to DataFrame\n",
    "transactions_labeled_df['anomaly_score'] = anomalies"
   ]
  },
  {
   "cell_type": "code",
   "execution_count": 37,
   "id": "c07ae423",
   "metadata": {
    "execution": {
     "iopub.execute_input": "2025-02-12T20:07:38.107639Z",
     "iopub.status.busy": "2025-02-12T20:07:38.107243Z",
     "iopub.status.idle": "2025-02-12T20:07:38.189235Z",
     "shell.execute_reply": "2025-02-12T20:07:38.187979Z"
    },
    "papermill": {
     "duration": 0.109559,
     "end_time": "2025-02-12T20:07:38.190766",
     "exception": false,
     "start_time": "2025-02-12T20:07:38.081207",
     "status": "completed"
    },
    "tags": []
   },
   "outputs": [
    {
     "name": "stdout",
     "output_type": "stream",
     "text": [
      "Anomaly Counts:\n",
      "anomaly_score\n",
      " 1    13172855\n",
      "-1      133060\n",
      "Name: count, dtype: int64\n"
     ]
    }
   ],
   "source": [
    "# Count of anomalies\n",
    "anomaly_counts = transactions_labeled_df['anomaly_score'].value_counts()\n",
    "print('Anomaly Counts:')\n",
    "print(anomaly_counts)"
   ]
  },
  {
   "cell_type": "markdown",
   "id": "6fcff114",
   "metadata": {
    "papermill": {
     "duration": 0.024972,
     "end_time": "2025-02-12T20:07:38.240864",
     "exception": false,
     "start_time": "2025-02-12T20:07:38.215892",
     "status": "completed"
    },
    "tags": []
   },
   "source": [
    "Analyze anomalies:"
   ]
  },
  {
   "cell_type": "code",
   "execution_count": 38,
   "id": "df7f895d",
   "metadata": {
    "execution": {
     "iopub.execute_input": "2025-02-12T20:07:38.296488Z",
     "iopub.status.busy": "2025-02-12T20:07:38.296019Z",
     "iopub.status.idle": "2025-02-12T20:07:38.469511Z",
     "shell.execute_reply": "2025-02-12T20:07:38.468362Z"
    },
    "papermill": {
     "duration": 0.201321,
     "end_time": "2025-02-12T20:07:38.471392",
     "exception": false,
     "start_time": "2025-02-12T20:07:38.270071",
     "status": "completed"
    },
    "tags": []
   },
   "outputs": [
    {
     "name": "stdout",
     "output_type": "stream",
     "text": [
      "Detected known frauds: 267 out of 13332\n"
     ]
    }
   ],
   "source": [
    "# Filter anomalies\n",
    "anomalies_df = transactions_labeled_df[transactions_labeled_df['anomaly_score'] == -1]\n",
    "\n",
    "# Compare with known frauds\n",
    "known_frauds = transactions_labeled_df[transactions_labeled_df['is_fraud'] == 1]\n",
    "\n",
    "# Detected known frauds\n",
    "detected_frauds = known_frauds[known_frauds['anomaly_score'] == -1]\n",
    "\n",
    "print(f'Detected known frauds: {len(detected_frauds)} out of {len(known_frauds)}')"
   ]
  },
  {
   "cell_type": "markdown",
   "id": "b483ac47",
   "metadata": {
    "papermill": {
     "duration": 0.024519,
     "end_time": "2025-02-12T20:07:38.523431",
     "exception": false,
     "start_time": "2025-02-12T20:07:38.498912",
     "status": "completed"
    },
    "tags": []
   },
   "source": [
    "Calculate detection rate:"
   ]
  },
  {
   "cell_type": "code",
   "execution_count": 39,
   "id": "3d3add7d",
   "metadata": {
    "execution": {
     "iopub.execute_input": "2025-02-12T20:07:38.574230Z",
     "iopub.status.busy": "2025-02-12T20:07:38.573770Z",
     "iopub.status.idle": "2025-02-12T20:07:38.578961Z",
     "shell.execute_reply": "2025-02-12T20:07:38.577999Z"
    },
    "papermill": {
     "duration": 0.032422,
     "end_time": "2025-02-12T20:07:38.580723",
     "exception": false,
     "start_time": "2025-02-12T20:07:38.548301",
     "status": "completed"
    },
    "tags": []
   },
   "outputs": [
    {
     "name": "stdout",
     "output_type": "stream",
     "text": [
      "Fraud Detection Rate: 2.00%\n"
     ]
    }
   ],
   "source": [
    "detection_rate = len(detected_frauds) / len(known_frauds) * 100\n",
    "print(f'Fraud Detection Rate: {detection_rate:.2f}%')"
   ]
  },
  {
   "cell_type": "markdown",
   "id": "5ca83b03",
   "metadata": {
    "papermill": {
     "duration": 0.024583,
     "end_time": "2025-02-12T20:07:38.630444",
     "exception": false,
     "start_time": "2025-02-12T20:07:38.605861",
     "status": "completed"
    },
    "tags": []
   },
   "source": [
    "## Merchant Category Analysis\n",
    "### Identifying High-Risk Merchant Categories"
   ]
  },
  {
   "cell_type": "markdown",
   "id": "87ba89e4",
   "metadata": {
    "papermill": {
     "duration": 0.024539,
     "end_time": "2025-02-12T20:07:38.679967",
     "exception": false,
     "start_time": "2025-02-12T20:07:38.655428",
     "status": "completed"
    },
    "tags": []
   },
   "source": [
    "#### Calculating Fraud Rate per MCC\n",
    "Calculate the fraud rate for each Merchant Category Code (MCC) based on the labeled dataset."
   ]
  },
  {
   "cell_type": "code",
   "execution_count": 40,
   "id": "38edd072",
   "metadata": {
    "execution": {
     "iopub.execute_input": "2025-02-12T20:07:38.731271Z",
     "iopub.status.busy": "2025-02-12T20:07:38.730835Z",
     "iopub.status.idle": "2025-02-12T20:07:39.198392Z",
     "shell.execute_reply": "2025-02-12T20:07:39.197173Z"
    },
    "papermill": {
     "duration": 0.495456,
     "end_time": "2025-02-12T20:07:39.200382",
     "exception": false,
     "start_time": "2025-02-12T20:07:38.704926",
     "status": "completed"
    },
    "tags": []
   },
   "outputs": [
    {
     "name": "stdout",
     "output_type": "stream",
     "text": [
      "Top High-Risk MCCs by Fraud Rate:\n",
      "    mcc_description  fraud_rate\n",
      "24               24    0.597826\n",
      "73               73    0.372549\n",
      "63               63    0.118367\n",
      "22               22    0.108338\n",
      "40               40    0.103604\n",
      "67               67    0.085938\n",
      "35               35    0.085733\n",
      "37               37    0.080586\n",
      "82               82    0.068652\n",
      "20               20    0.065385\n"
     ]
    }
   ],
   "source": [
    "# Fraud rate per MCC\n",
    "mcc_fraud_rate = supervised_df.groupby('mcc_description')['is_fraud'].mean().reset_index()\n",
    "mcc_fraud_rate.columns = ['mcc_description', 'fraud_rate']\n",
    "\n",
    "# Sort by fraud rate in descending order\n",
    "mcc_fraud_rate = mcc_fraud_rate.sort_values(by='fraud_rate', ascending=False)\n",
    "\n",
    "# Display top MCCs by fraud rate\n",
    "print('Top High-Risk MCCs by Fraud Rate:')\n",
    "print(mcc_fraud_rate.head(10))"
   ]
  },
  {
   "cell_type": "markdown",
   "id": "deafc305",
   "metadata": {
    "papermill": {
     "duration": 0.025212,
     "end_time": "2025-02-12T20:07:39.251138",
     "exception": false,
     "start_time": "2025-02-12T20:07:39.225926",
     "status": "completed"
    },
    "tags": []
   },
   "source": [
    " #### Identifying High-Risk Merchant Categories\n",
    "Define high-risk MCCs based on the top MCCs with the highest fraud rates."
   ]
  },
  {
   "cell_type": "code",
   "execution_count": 41,
   "id": "b8eed5fd",
   "metadata": {
    "execution": {
     "iopub.execute_input": "2025-02-12T20:07:39.304250Z",
     "iopub.status.busy": "2025-02-12T20:07:39.303835Z",
     "iopub.status.idle": "2025-02-12T20:07:39.312489Z",
     "shell.execute_reply": "2025-02-12T20:07:39.311363Z"
    },
    "papermill": {
     "duration": 0.037308,
     "end_time": "2025-02-12T20:07:39.314262",
     "exception": false,
     "start_time": "2025-02-12T20:07:39.276954",
     "status": "completed"
    },
    "tags": []
   },
   "outputs": [
    {
     "name": "stdout",
     "output_type": "stream",
     "text": [
      "Identified High-Risk MCCs:\n",
      "1. 24\n",
      "2. 73\n",
      "3. 63\n",
      "4. 22\n",
      "5. 40\n",
      "6. 67\n",
      "7. 35\n",
      "8. 37\n",
      "9. 82\n",
      "10. 20\n"
     ]
    }
   ],
   "source": [
    "# Define high-risk MCCs (e.g., top 10)\n",
    "top_n = 10  # You can adjust this number\n",
    "high_risk_mccs = mcc_fraud_rate.head(top_n)['mcc_description'].tolist()\n",
    "\n",
    "print('Identified High-Risk MCCs:')\n",
    "for idx, mcc in enumerate(high_risk_mccs, start=1):\n",
    "    print(f\"{idx}. {mcc}\")"
   ]
  },
  {
   "cell_type": "markdown",
   "id": "9bb1d538",
   "metadata": {
    "papermill": {
     "duration": 0.025106,
     "end_time": "2025-02-12T20:07:39.364795",
     "exception": false,
     "start_time": "2025-02-12T20:07:39.339689",
     "status": "completed"
    },
    "tags": []
   },
   "source": [
    "#### Flagging High-Risk MCCs in Transactions\n",
    "Create a new feature high_risk_mcc in the transactions DataFrame."
   ]
  },
  {
   "cell_type": "code",
   "execution_count": 42,
   "id": "660be517",
   "metadata": {
    "execution": {
     "iopub.execute_input": "2025-02-12T20:07:39.417223Z",
     "iopub.status.busy": "2025-02-12T20:07:39.416778Z",
     "iopub.status.idle": "2025-02-12T20:07:45.819490Z",
     "shell.execute_reply": "2025-02-12T20:07:45.818219Z"
    },
    "papermill": {
     "duration": 6.431013,
     "end_time": "2025-02-12T20:07:45.821343",
     "exception": false,
     "start_time": "2025-02-12T20:07:39.390330",
     "status": "completed"
    },
    "tags": []
   },
   "outputs": [
    {
     "name": "stdout",
     "output_type": "stream",
     "text": [
      "Number of transactions with high-risk MCCs: 17582\n"
     ]
    }
   ],
   "source": [
    "# Flag transactions with high-risk MCCs\n",
    "transactions_labeled_df['high_risk_mcc'] = transactions_labeled_df['mcc_description'].apply(\n",
    "    lambda x: 1 if x in high_risk_mccs else 0\n",
    ")\n",
    "\n",
    "# Check the count of high-risk transactions\n",
    "print('Number of transactions with high-risk MCCs:', transactions_labeled_df['high_risk_mcc'].sum())"
   ]
  },
  {
   "cell_type": "markdown",
   "id": "01fcb374",
   "metadata": {
    "papermill": {
     "duration": 0.025063,
     "end_time": "2025-02-12T20:07:45.872269",
     "exception": false,
     "start_time": "2025-02-12T20:07:45.847206",
     "status": "completed"
    },
    "tags": []
   },
   "source": [
    "### Updating Features and Data\n",
    "#### Updating the Feature Set\n",
    "Add high_risk_mcc to the list of features used for modeling."
   ]
  },
  {
   "cell_type": "code",
   "execution_count": 43,
   "id": "e77437c2",
   "metadata": {
    "execution": {
     "iopub.execute_input": "2025-02-12T20:07:45.925303Z",
     "iopub.status.busy": "2025-02-12T20:07:45.924880Z",
     "iopub.status.idle": "2025-02-12T20:07:47.879625Z",
     "shell.execute_reply": "2025-02-12T20:07:47.878605Z"
    },
    "papermill": {
     "duration": 1.983938,
     "end_time": "2025-02-12T20:07:47.881698",
     "exception": false,
     "start_time": "2025-02-12T20:07:45.897760",
     "status": "completed"
    },
    "tags": []
   },
   "outputs": [],
   "source": [
    "# Original features list (make sure it's defined)\n",
    "# features = ['amount', 'merchant_city', 'merchant_state', 'mcc_description', 'transaction_hour', \n",
    "#             'transaction_dayofweek', 'use_chip_Swipe Transaction', 'high_risk_mcc']\n",
    "\n",
    "# If 'features' is not yet defined, define it including 'high_risk_mcc'\n",
    "# Note: Adjust 'use_chip_Swipe Transaction' to match your actual encoded column name\n",
    "\n",
    "# Update features\n",
    "features.append('high_risk_mcc')\n",
    "\n",
    "# For supervised models, update X\n",
    "supervised_df = transactions_labeled_df[transactions_labeled_df['is_fraud'] != -1]\n",
    "X = supervised_df[features]\n",
    "y = supervised_df['is_fraud']"
   ]
  },
  {
   "cell_type": "markdown",
   "id": "2f7b1dd6",
   "metadata": {
    "papermill": {
     "duration": 0.024831,
     "end_time": "2025-02-12T20:07:47.932716",
     "exception": false,
     "start_time": "2025-02-12T20:07:47.907885",
     "status": "completed"
    },
    "tags": []
   },
   "source": [
    "Preparing Data for Retraining"
   ]
  },
  {
   "cell_type": "code",
   "execution_count": 44,
   "id": "b305cd26",
   "metadata": {
    "execution": {
     "iopub.execute_input": "2025-02-12T20:07:47.984504Z",
     "iopub.status.busy": "2025-02-12T20:07:47.983922Z",
     "iopub.status.idle": "2025-02-12T20:07:55.082959Z",
     "shell.execute_reply": "2025-02-12T20:07:55.081967Z"
    },
    "papermill": {
     "duration": 7.127308,
     "end_time": "2025-02-12T20:07:55.084863",
     "exception": false,
     "start_time": "2025-02-12T20:07:47.957555",
     "status": "completed"
    },
    "tags": []
   },
   "outputs": [],
   "source": [
    "# Ensure there are no missing values\n",
    "X.fillna(0, inplace=True)\n",
    "\n",
    "# If needed, re-encode any categorical variables (if the data has changed)\n",
    "# For example, if you've added new data or the encoding might have been affected\n",
    "# Re-encode 'merchant_city', 'merchant_state', 'mcc_description' if necessary\n",
    "\n",
    "# Example re-encoding (if necessary)\n",
    "# label_enc_cols = ['merchant_city', 'merchant_state', 'mcc_description']\n",
    "# for col in label_enc_cols:\n",
    "#     le = LabelEncoder()\n",
    "#     X[col] = le.fit_transform(X[col].astype(str))\n",
    "\n",
    "# For Logistic Regression, scale the features\n",
    "scaler = StandardScaler()\n",
    "X_scaled = scaler.fit_transform(X)"
   ]
  },
  {
   "cell_type": "markdown",
   "id": "7aa49c30",
   "metadata": {
    "papermill": {
     "duration": 0.024837,
     "end_time": "2025-02-12T20:07:55.135220",
     "exception": false,
     "start_time": "2025-02-12T20:07:55.110383",
     "status": "completed"
    },
    "tags": []
   },
   "source": [
    "Retraining and Re-evaluating Models"
   ]
  },
  {
   "cell_type": "code",
   "execution_count": 45,
   "id": "3bf8df67",
   "metadata": {
    "execution": {
     "iopub.execute_input": "2025-02-12T20:07:55.186521Z",
     "iopub.status.busy": "2025-02-12T20:07:55.186073Z",
     "iopub.status.idle": "2025-02-12T20:08:07.758310Z",
     "shell.execute_reply": "2025-02-12T20:08:07.757126Z"
    },
    "papermill": {
     "duration": 12.600373,
     "end_time": "2025-02-12T20:08:07.760431",
     "exception": false,
     "start_time": "2025-02-12T20:07:55.160058",
     "status": "completed"
    },
    "tags": []
   },
   "outputs": [],
   "source": [
    "# Split data into training and testing sets\n",
    "# For Logistic Regression (using scaled features)\n",
    "X_train_lr, X_test_lr, y_train_lr, y_test_lr = train_test_split(\n",
    "    X_scaled, y, test_size=0.2, stratify=y, random_state=42\n",
    ")\n",
    "\n",
    "# For Random Forest and XGBoost (using unscaled features)\n",
    "X_train, X_test, y_train, y_test = train_test_split(\n",
    "    X, y, test_size=0.2, stratify=y, random_state=42\n",
    ")"
   ]
  },
  {
   "cell_type": "markdown",
   "id": "2152b903",
   "metadata": {
    "papermill": {
     "duration": 0.024938,
     "end_time": "2025-02-12T20:08:07.810825",
     "exception": false,
     "start_time": "2025-02-12T20:08:07.785887",
     "status": "completed"
    },
    "tags": []
   },
   "source": [
    "Logistic Regression"
   ]
  },
  {
   "cell_type": "code",
   "execution_count": 46,
   "id": "f7db3881",
   "metadata": {
    "execution": {
     "iopub.execute_input": "2025-02-12T20:08:07.862779Z",
     "iopub.status.busy": "2025-02-12T20:08:07.862397Z",
     "iopub.status.idle": "2025-02-12T20:08:16.224165Z",
     "shell.execute_reply": "2025-02-12T20:08:16.222906Z"
    },
    "papermill": {
     "duration": 8.389876,
     "end_time": "2025-02-12T20:08:16.225889",
     "exception": false,
     "start_time": "2025-02-12T20:08:07.836013",
     "status": "completed"
    },
    "tags": []
   },
   "outputs": [
    {
     "data": {
      "text/html": [
       "<style>#sk-container-id-4 {color: black;background-color: white;}#sk-container-id-4 pre{padding: 0;}#sk-container-id-4 div.sk-toggleable {background-color: white;}#sk-container-id-4 label.sk-toggleable__label {cursor: pointer;display: block;width: 100%;margin-bottom: 0;padding: 0.3em;box-sizing: border-box;text-align: center;}#sk-container-id-4 label.sk-toggleable__label-arrow:before {content: \"▸\";float: left;margin-right: 0.25em;color: #696969;}#sk-container-id-4 label.sk-toggleable__label-arrow:hover:before {color: black;}#sk-container-id-4 div.sk-estimator:hover label.sk-toggleable__label-arrow:before {color: black;}#sk-container-id-4 div.sk-toggleable__content {max-height: 0;max-width: 0;overflow: hidden;text-align: left;background-color: #f0f8ff;}#sk-container-id-4 div.sk-toggleable__content pre {margin: 0.2em;color: black;border-radius: 0.25em;background-color: #f0f8ff;}#sk-container-id-4 input.sk-toggleable__control:checked~div.sk-toggleable__content {max-height: 200px;max-width: 100%;overflow: auto;}#sk-container-id-4 input.sk-toggleable__control:checked~label.sk-toggleable__label-arrow:before {content: \"▾\";}#sk-container-id-4 div.sk-estimator input.sk-toggleable__control:checked~label.sk-toggleable__label {background-color: #d4ebff;}#sk-container-id-4 div.sk-label input.sk-toggleable__control:checked~label.sk-toggleable__label {background-color: #d4ebff;}#sk-container-id-4 input.sk-hidden--visually {border: 0;clip: rect(1px 1px 1px 1px);clip: rect(1px, 1px, 1px, 1px);height: 1px;margin: -1px;overflow: hidden;padding: 0;position: absolute;width: 1px;}#sk-container-id-4 div.sk-estimator {font-family: monospace;background-color: #f0f8ff;border: 1px dotted black;border-radius: 0.25em;box-sizing: border-box;margin-bottom: 0.5em;}#sk-container-id-4 div.sk-estimator:hover {background-color: #d4ebff;}#sk-container-id-4 div.sk-parallel-item::after {content: \"\";width: 100%;border-bottom: 1px solid gray;flex-grow: 1;}#sk-container-id-4 div.sk-label:hover label.sk-toggleable__label {background-color: #d4ebff;}#sk-container-id-4 div.sk-serial::before {content: \"\";position: absolute;border-left: 1px solid gray;box-sizing: border-box;top: 0;bottom: 0;left: 50%;z-index: 0;}#sk-container-id-4 div.sk-serial {display: flex;flex-direction: column;align-items: center;background-color: white;padding-right: 0.2em;padding-left: 0.2em;position: relative;}#sk-container-id-4 div.sk-item {position: relative;z-index: 1;}#sk-container-id-4 div.sk-parallel {display: flex;align-items: stretch;justify-content: center;background-color: white;position: relative;}#sk-container-id-4 div.sk-item::before, #sk-container-id-4 div.sk-parallel-item::before {content: \"\";position: absolute;border-left: 1px solid gray;box-sizing: border-box;top: 0;bottom: 0;left: 50%;z-index: -1;}#sk-container-id-4 div.sk-parallel-item {display: flex;flex-direction: column;z-index: 1;position: relative;background-color: white;}#sk-container-id-4 div.sk-parallel-item:first-child::after {align-self: flex-end;width: 50%;}#sk-container-id-4 div.sk-parallel-item:last-child::after {align-self: flex-start;width: 50%;}#sk-container-id-4 div.sk-parallel-item:only-child::after {width: 0;}#sk-container-id-4 div.sk-dashed-wrapped {border: 1px dashed gray;margin: 0 0.4em 0.5em 0.4em;box-sizing: border-box;padding-bottom: 0.4em;background-color: white;}#sk-container-id-4 div.sk-label label {font-family: monospace;font-weight: bold;display: inline-block;line-height: 1.2em;}#sk-container-id-4 div.sk-label-container {text-align: center;}#sk-container-id-4 div.sk-container {/* jupyter's `normalize.less` sets `[hidden] { display: none; }` but bootstrap.min.css set `[hidden] { display: none !important; }` so we also need the `!important` here to be able to override the default hidden behavior on the sphinx rendered scikit-learn.org. See: https://github.com/scikit-learn/scikit-learn/issues/21755 */display: inline-block !important;position: relative;}#sk-container-id-4 div.sk-text-repr-fallback {display: none;}</style><div id=\"sk-container-id-4\" class=\"sk-top-container\"><div class=\"sk-text-repr-fallback\"><pre>LogisticRegression(max_iter=1000, random_state=42)</pre><b>In a Jupyter environment, please rerun this cell to show the HTML representation or trust the notebook. <br />On GitHub, the HTML representation is unable to render, please try loading this page with nbviewer.org.</b></div><div class=\"sk-container\" hidden><div class=\"sk-item\"><div class=\"sk-estimator sk-toggleable\"><input class=\"sk-toggleable__control sk-hidden--visually\" id=\"sk-estimator-id-4\" type=\"checkbox\" checked><label for=\"sk-estimator-id-4\" class=\"sk-toggleable__label sk-toggleable__label-arrow\">LogisticRegression</label><div class=\"sk-toggleable__content\"><pre>LogisticRegression(max_iter=1000, random_state=42)</pre></div></div></div></div></div>"
      ],
      "text/plain": [
       "LogisticRegression(max_iter=1000, random_state=42)"
      ]
     },
     "execution_count": 46,
     "metadata": {},
     "output_type": "execute_result"
    }
   ],
   "source": [
    "# Initialize Logistic Regression with the same parameters\n",
    "lr_model = LogisticRegression(max_iter=1000, random_state=42)\n",
    "\n",
    "# Train the model\n",
    "lr_model.fit(X_train_lr, y_train_lr)"
   ]
  },
  {
   "cell_type": "code",
   "execution_count": 47,
   "id": "ca37bf97",
   "metadata": {
    "execution": {
     "iopub.execute_input": "2025-02-12T20:08:16.428571Z",
     "iopub.status.busy": "2025-02-12T20:08:16.428157Z",
     "iopub.status.idle": "2025-02-12T20:08:20.593154Z",
     "shell.execute_reply": "2025-02-12T20:08:20.591926Z"
    },
    "papermill": {
     "duration": 4.19335,
     "end_time": "2025-02-12T20:08:20.594889",
     "exception": false,
     "start_time": "2025-02-12T20:08:16.401539",
     "status": "completed"
    },
    "tags": []
   },
   "outputs": [
    {
     "name": "stdout",
     "output_type": "stream",
     "text": [
      "Logistic Regression Classification Report (After Adding high_risk_mcc):\n",
      "              precision    recall  f1-score   support\n",
      "\n",
      "           0       1.00      1.00      1.00   1780327\n",
      "           1       0.36      0.01      0.01      2666\n",
      "\n",
      "    accuracy                           1.00   1782993\n",
      "   macro avg       0.68      0.50      0.51   1782993\n",
      "weighted avg       1.00      1.00      1.00   1782993\n",
      "\n",
      "Confusion Matrix:\n",
      "[[1780293      34]\n",
      " [   2647      19]]\n",
      "ROC AUC Score: 0.8612004194467017\n"
     ]
    }
   ],
   "source": [
    "# Predict on test data\n",
    "y_pred_lr = lr_model.predict(X_test_lr)\n",
    "y_proba_lr = lr_model.predict_proba(X_test_lr)[:, 1]\n",
    "\n",
    "# Evaluate the model\n",
    "print('Logistic Regression Classification Report (After Adding high_risk_mcc):')\n",
    "print(classification_report(y_test_lr, y_pred_lr))\n",
    "\n",
    "print('Confusion Matrix:')\n",
    "print(confusion_matrix(y_test_lr, y_pred_lr))\n",
    "\n",
    "print('ROC AUC Score:', roc_auc_score(y_test_lr, y_proba_lr))"
   ]
  },
  {
   "cell_type": "markdown",
   "id": "2c7c425e",
   "metadata": {
    "papermill": {
     "duration": 0.02539,
     "end_time": "2025-02-12T20:08:20.647607",
     "exception": false,
     "start_time": "2025-02-12T20:08:20.622217",
     "status": "completed"
    },
    "tags": []
   },
   "source": [
    "#### Random Forest"
   ]
  },
  {
   "cell_type": "code",
   "execution_count": 48,
   "id": "53d309a4",
   "metadata": {
    "execution": {
     "iopub.execute_input": "2025-02-12T20:08:20.700384Z",
     "iopub.status.busy": "2025-02-12T20:08:20.699942Z",
     "iopub.status.idle": "2025-02-12T20:55:46.853845Z",
     "shell.execute_reply": "2025-02-12T20:55:46.852192Z"
    },
    "papermill": {
     "duration": 2846.217657,
     "end_time": "2025-02-12T20:55:46.891058",
     "exception": false,
     "start_time": "2025-02-12T20:08:20.673401",
     "status": "completed"
    },
    "tags": []
   },
   "outputs": [
    {
     "data": {
      "text/html": [
       "<style>#sk-container-id-5 {color: black;background-color: white;}#sk-container-id-5 pre{padding: 0;}#sk-container-id-5 div.sk-toggleable {background-color: white;}#sk-container-id-5 label.sk-toggleable__label {cursor: pointer;display: block;width: 100%;margin-bottom: 0;padding: 0.3em;box-sizing: border-box;text-align: center;}#sk-container-id-5 label.sk-toggleable__label-arrow:before {content: \"▸\";float: left;margin-right: 0.25em;color: #696969;}#sk-container-id-5 label.sk-toggleable__label-arrow:hover:before {color: black;}#sk-container-id-5 div.sk-estimator:hover label.sk-toggleable__label-arrow:before {color: black;}#sk-container-id-5 div.sk-toggleable__content {max-height: 0;max-width: 0;overflow: hidden;text-align: left;background-color: #f0f8ff;}#sk-container-id-5 div.sk-toggleable__content pre {margin: 0.2em;color: black;border-radius: 0.25em;background-color: #f0f8ff;}#sk-container-id-5 input.sk-toggleable__control:checked~div.sk-toggleable__content {max-height: 200px;max-width: 100%;overflow: auto;}#sk-container-id-5 input.sk-toggleable__control:checked~label.sk-toggleable__label-arrow:before {content: \"▾\";}#sk-container-id-5 div.sk-estimator input.sk-toggleable__control:checked~label.sk-toggleable__label {background-color: #d4ebff;}#sk-container-id-5 div.sk-label input.sk-toggleable__control:checked~label.sk-toggleable__label {background-color: #d4ebff;}#sk-container-id-5 input.sk-hidden--visually {border: 0;clip: rect(1px 1px 1px 1px);clip: rect(1px, 1px, 1px, 1px);height: 1px;margin: -1px;overflow: hidden;padding: 0;position: absolute;width: 1px;}#sk-container-id-5 div.sk-estimator {font-family: monospace;background-color: #f0f8ff;border: 1px dotted black;border-radius: 0.25em;box-sizing: border-box;margin-bottom: 0.5em;}#sk-container-id-5 div.sk-estimator:hover {background-color: #d4ebff;}#sk-container-id-5 div.sk-parallel-item::after {content: \"\";width: 100%;border-bottom: 1px solid gray;flex-grow: 1;}#sk-container-id-5 div.sk-label:hover label.sk-toggleable__label {background-color: #d4ebff;}#sk-container-id-5 div.sk-serial::before {content: \"\";position: absolute;border-left: 1px solid gray;box-sizing: border-box;top: 0;bottom: 0;left: 50%;z-index: 0;}#sk-container-id-5 div.sk-serial {display: flex;flex-direction: column;align-items: center;background-color: white;padding-right: 0.2em;padding-left: 0.2em;position: relative;}#sk-container-id-5 div.sk-item {position: relative;z-index: 1;}#sk-container-id-5 div.sk-parallel {display: flex;align-items: stretch;justify-content: center;background-color: white;position: relative;}#sk-container-id-5 div.sk-item::before, #sk-container-id-5 div.sk-parallel-item::before {content: \"\";position: absolute;border-left: 1px solid gray;box-sizing: border-box;top: 0;bottom: 0;left: 50%;z-index: -1;}#sk-container-id-5 div.sk-parallel-item {display: flex;flex-direction: column;z-index: 1;position: relative;background-color: white;}#sk-container-id-5 div.sk-parallel-item:first-child::after {align-self: flex-end;width: 50%;}#sk-container-id-5 div.sk-parallel-item:last-child::after {align-self: flex-start;width: 50%;}#sk-container-id-5 div.sk-parallel-item:only-child::after {width: 0;}#sk-container-id-5 div.sk-dashed-wrapped {border: 1px dashed gray;margin: 0 0.4em 0.5em 0.4em;box-sizing: border-box;padding-bottom: 0.4em;background-color: white;}#sk-container-id-5 div.sk-label label {font-family: monospace;font-weight: bold;display: inline-block;line-height: 1.2em;}#sk-container-id-5 div.sk-label-container {text-align: center;}#sk-container-id-5 div.sk-container {/* jupyter's `normalize.less` sets `[hidden] { display: none; }` but bootstrap.min.css set `[hidden] { display: none !important; }` so we also need the `!important` here to be able to override the default hidden behavior on the sphinx rendered scikit-learn.org. See: https://github.com/scikit-learn/scikit-learn/issues/21755 */display: inline-block !important;position: relative;}#sk-container-id-5 div.sk-text-repr-fallback {display: none;}</style><div id=\"sk-container-id-5\" class=\"sk-top-container\"><div class=\"sk-text-repr-fallback\"><pre>RandomForestClassifier(random_state=42)</pre><b>In a Jupyter environment, please rerun this cell to show the HTML representation or trust the notebook. <br />On GitHub, the HTML representation is unable to render, please try loading this page with nbviewer.org.</b></div><div class=\"sk-container\" hidden><div class=\"sk-item\"><div class=\"sk-estimator sk-toggleable\"><input class=\"sk-toggleable__control sk-hidden--visually\" id=\"sk-estimator-id-5\" type=\"checkbox\" checked><label for=\"sk-estimator-id-5\" class=\"sk-toggleable__label sk-toggleable__label-arrow\">RandomForestClassifier</label><div class=\"sk-toggleable__content\"><pre>RandomForestClassifier(random_state=42)</pre></div></div></div></div></div>"
      ],
      "text/plain": [
       "RandomForestClassifier(random_state=42)"
      ]
     },
     "execution_count": 48,
     "metadata": {},
     "output_type": "execute_result"
    }
   ],
   "source": [
    "# Initialize Random Forest with the same or optimized parameters\n",
    "rf_model = RandomForestClassifier(n_estimators=100, random_state=42)\n",
    "\n",
    "# Train the model\n",
    "rf_model.fit(X_train, y_train)"
   ]
  },
  {
   "cell_type": "code",
   "execution_count": 49,
   "id": "ef50ba06",
   "metadata": {
    "execution": {
     "iopub.execute_input": "2025-02-12T20:55:46.946221Z",
     "iopub.status.busy": "2025-02-12T20:55:46.945757Z",
     "iopub.status.idle": "2025-02-12T20:56:46.775727Z",
     "shell.execute_reply": "2025-02-12T20:56:46.774384Z"
    },
    "papermill": {
     "duration": 59.860132,
     "end_time": "2025-02-12T20:56:46.777743",
     "exception": false,
     "start_time": "2025-02-12T20:55:46.917611",
     "status": "completed"
    },
    "tags": []
   },
   "outputs": [
    {
     "name": "stdout",
     "output_type": "stream",
     "text": [
      "Random Forest Classification Report (After Adding high_risk_mcc):\n",
      "              precision    recall  f1-score   support\n",
      "\n",
      "           0       1.00      1.00      1.00   1780327\n",
      "           1       0.84      0.61      0.71      2666\n",
      "\n",
      "    accuracy                           1.00   1782993\n",
      "   macro avg       0.92      0.81      0.85   1782993\n",
      "weighted avg       1.00      1.00      1.00   1782993\n",
      "\n",
      "Confusion Matrix:\n",
      "[[1780010     317]\n",
      " [   1036    1630]]\n",
      "ROC AUC Score: 0.9202319443670768\n"
     ]
    }
   ],
   "source": [
    "# Predict on test data\n",
    "y_pred_rf = rf_model.predict(X_test)\n",
    "y_proba_rf = rf_model.predict_proba(X_test)[:, 1]\n",
    "\n",
    "# Evaluate the model\n",
    "print('Random Forest Classification Report (After Adding high_risk_mcc):')\n",
    "print(classification_report(y_test, y_pred_rf))\n",
    "\n",
    "print('Confusion Matrix:')\n",
    "print(confusion_matrix(y_test, y_pred_rf))\n",
    "\n",
    "print('ROC AUC Score:', roc_auc_score(y_test, y_proba_rf))"
   ]
  },
  {
   "cell_type": "markdown",
   "id": "2747ce62",
   "metadata": {
    "papermill": {
     "duration": 0.02641,
     "end_time": "2025-02-12T20:56:46.831043",
     "exception": false,
     "start_time": "2025-02-12T20:56:46.804633",
     "status": "completed"
    },
    "tags": []
   },
   "source": [
    "#### XGBoost\n"
   ]
  },
  {
   "cell_type": "code",
   "execution_count": 50,
   "id": "eb8b44e2",
   "metadata": {
    "execution": {
     "iopub.execute_input": "2025-02-12T20:56:46.885602Z",
     "iopub.status.busy": "2025-02-12T20:56:46.885208Z",
     "iopub.status.idle": "2025-02-12T20:56:46.889904Z",
     "shell.execute_reply": "2025-02-12T20:56:46.888843Z"
    },
    "papermill": {
     "duration": 0.034234,
     "end_time": "2025-02-12T20:56:46.891696",
     "exception": false,
     "start_time": "2025-02-12T20:56:46.857462",
     "status": "completed"
    },
    "tags": []
   },
   "outputs": [
    {
     "name": "stdout",
     "output_type": "stream",
     "text": [
      "Features used for modeling:\n",
      "['amount', 'merchant_city', 'merchant_state', 'mcc_description', 'transaction_hour', 'transaction_dayofweek', 'use_chip_Swipe Transaction', 'high_risk_mcc']\n"
     ]
    }
   ],
   "source": [
    "print(\"Features used for modeling:\")\n",
    "print(features)\n"
   ]
  },
  {
   "cell_type": "code",
   "execution_count": 51,
   "id": "208ecbf1",
   "metadata": {
    "execution": {
     "iopub.execute_input": "2025-02-12T20:56:46.945682Z",
     "iopub.status.busy": "2025-02-12T20:56:46.945329Z",
     "iopub.status.idle": "2025-02-12T20:56:46.951539Z",
     "shell.execute_reply": "2025-02-12T20:56:46.950259Z"
    },
    "papermill": {
     "duration": 0.034884,
     "end_time": "2025-02-12T20:56:46.953177",
     "exception": false,
     "start_time": "2025-02-12T20:56:46.918293",
     "status": "completed"
    },
    "tags": []
   },
   "outputs": [
    {
     "name": "stdout",
     "output_type": "stream",
     "text": [
      "Duplicate features: []\n"
     ]
    }
   ],
   "source": [
    "from collections import Counter\n",
    "\n",
    "feature_counts = Counter(features)\n",
    "duplicates = [item for item, count in feature_counts.items() if count > 1]\n",
    "print(\"Duplicate features:\", duplicates)"
   ]
  },
  {
   "cell_type": "code",
   "execution_count": 52,
   "id": "430732a5",
   "metadata": {
    "execution": {
     "iopub.execute_input": "2025-02-12T20:56:47.008413Z",
     "iopub.status.busy": "2025-02-12T20:56:47.008006Z",
     "iopub.status.idle": "2025-02-12T20:56:47.014006Z",
     "shell.execute_reply": "2025-02-12T20:56:47.012905Z"
    },
    "papermill": {
     "duration": 0.035145,
     "end_time": "2025-02-12T20:56:47.015589",
     "exception": false,
     "start_time": "2025-02-12T20:56:46.980444",
     "status": "completed"
    },
    "tags": []
   },
   "outputs": [
    {
     "name": "stdout",
     "output_type": "stream",
     "text": [
      "Duplicate columns in X: []\n"
     ]
    }
   ],
   "source": [
    "# Get column names\n",
    "column_names = X.columns.tolist()\n",
    "\n",
    "# Check for duplicates\n",
    "column_counts = Counter(column_names)\n",
    "duplicate_columns = [item for item, count in column_counts.items() if count > 1]\n",
    "print(\"Duplicate columns in X:\", duplicate_columns)"
   ]
  },
  {
   "cell_type": "code",
   "execution_count": 53,
   "id": "ac9a8118",
   "metadata": {
    "execution": {
     "iopub.execute_input": "2025-02-12T20:56:47.069711Z",
     "iopub.status.busy": "2025-02-12T20:56:47.069354Z",
     "iopub.status.idle": "2025-02-12T20:56:47.073505Z",
     "shell.execute_reply": "2025-02-12T20:56:47.072392Z"
    },
    "papermill": {
     "duration": 0.033424,
     "end_time": "2025-02-12T20:56:47.075409",
     "exception": false,
     "start_time": "2025-02-12T20:56:47.041985",
     "status": "completed"
    },
    "tags": []
   },
   "outputs": [],
   "source": [
    "# Ensure you're not appending 'high_risk_mcc' multiple times\n",
    "# For example:\n",
    "features.append('high_risk_mcc')\n",
    "# This line should only be executed once."
   ]
  },
  {
   "cell_type": "code",
   "execution_count": 54,
   "id": "07313d03",
   "metadata": {
    "execution": {
     "iopub.execute_input": "2025-02-12T20:56:47.130965Z",
     "iopub.status.busy": "2025-02-12T20:56:47.130598Z",
     "iopub.status.idle": "2025-02-12T20:56:47.136468Z",
     "shell.execute_reply": "2025-02-12T20:56:47.135473Z"
    },
    "papermill": {
     "duration": 0.035112,
     "end_time": "2025-02-12T20:56:47.137976",
     "exception": false,
     "start_time": "2025-02-12T20:56:47.102864",
     "status": "completed"
    },
    "tags": []
   },
   "outputs": [
    {
     "name": "stdout",
     "output_type": "stream",
     "text": [
      "Features after removing duplicates:\n",
      "['amount', 'merchant_city', 'merchant_state', 'mcc_description', 'transaction_hour', 'transaction_dayofweek', 'use_chip_Swipe Transaction', 'high_risk_mcc']\n"
     ]
    }
   ],
   "source": [
    "# Remove duplicates from features list\n",
    "features = list(dict.fromkeys(features))  # This preserves the order\n",
    "\n",
    "# Verify the features list\n",
    "print(\"Features after removing duplicates:\")\n",
    "print(features)"
   ]
  },
  {
   "cell_type": "code",
   "execution_count": 55,
   "id": "7ae7bb3c",
   "metadata": {
    "execution": {
     "iopub.execute_input": "2025-02-12T20:56:47.192297Z",
     "iopub.status.busy": "2025-02-12T20:56:47.191881Z",
     "iopub.status.idle": "2025-02-12T20:56:48.586998Z",
     "shell.execute_reply": "2025-02-12T20:56:48.586024Z"
    },
    "papermill": {
     "duration": 1.424233,
     "end_time": "2025-02-12T20:56:48.588929",
     "exception": false,
     "start_time": "2025-02-12T20:56:47.164696",
     "status": "completed"
    },
    "tags": []
   },
   "outputs": [],
   "source": [
    "# Recreate X with unique columns\n",
    "X = supervised_df[features]\n",
    "\n",
    "# Ensure that X has unique columns\n",
    "X = X.loc[:, ~X.columns.duplicated()]"
   ]
  },
  {
   "cell_type": "code",
   "execution_count": 56,
   "id": "38b70084",
   "metadata": {
    "execution": {
     "iopub.execute_input": "2025-02-12T20:56:48.644921Z",
     "iopub.status.busy": "2025-02-12T20:56:48.644500Z",
     "iopub.status.idle": "2025-02-12T20:56:54.910582Z",
     "shell.execute_reply": "2025-02-12T20:56:54.909520Z"
    },
    "papermill": {
     "duration": 6.296818,
     "end_time": "2025-02-12T20:56:54.912435",
     "exception": false,
     "start_time": "2025-02-12T20:56:48.615617",
     "status": "completed"
    },
    "tags": []
   },
   "outputs": [],
   "source": [
    "# Prepare the data\n",
    "X = supervised_df[features]\n",
    "y = supervised_df['is_fraud']\n",
    "\n",
    "# Split the data\n",
    "X_train, X_test, y_train, y_test = train_test_split(\n",
    "    X, y, test_size=0.2, stratify=y, random_state=42\n",
    ")\n"
   ]
  },
  {
   "cell_type": "code",
   "execution_count": 57,
   "id": "ca314223",
   "metadata": {
    "execution": {
     "iopub.execute_input": "2025-02-12T20:56:54.966427Z",
     "iopub.status.busy": "2025-02-12T20:56:54.965995Z",
     "iopub.status.idle": "2025-02-12T20:57:35.195943Z",
     "shell.execute_reply": "2025-02-12T20:57:35.194800Z"
    },
    "papermill": {
     "duration": 40.28529,
     "end_time": "2025-02-12T20:57:35.223969",
     "exception": false,
     "start_time": "2025-02-12T20:56:54.938679",
     "status": "completed"
    },
    "tags": []
   },
   "outputs": [
    {
     "data": {
      "text/html": [
       "<style>#sk-container-id-6 {color: black;background-color: white;}#sk-container-id-6 pre{padding: 0;}#sk-container-id-6 div.sk-toggleable {background-color: white;}#sk-container-id-6 label.sk-toggleable__label {cursor: pointer;display: block;width: 100%;margin-bottom: 0;padding: 0.3em;box-sizing: border-box;text-align: center;}#sk-container-id-6 label.sk-toggleable__label-arrow:before {content: \"▸\";float: left;margin-right: 0.25em;color: #696969;}#sk-container-id-6 label.sk-toggleable__label-arrow:hover:before {color: black;}#sk-container-id-6 div.sk-estimator:hover label.sk-toggleable__label-arrow:before {color: black;}#sk-container-id-6 div.sk-toggleable__content {max-height: 0;max-width: 0;overflow: hidden;text-align: left;background-color: #f0f8ff;}#sk-container-id-6 div.sk-toggleable__content pre {margin: 0.2em;color: black;border-radius: 0.25em;background-color: #f0f8ff;}#sk-container-id-6 input.sk-toggleable__control:checked~div.sk-toggleable__content {max-height: 200px;max-width: 100%;overflow: auto;}#sk-container-id-6 input.sk-toggleable__control:checked~label.sk-toggleable__label-arrow:before {content: \"▾\";}#sk-container-id-6 div.sk-estimator input.sk-toggleable__control:checked~label.sk-toggleable__label {background-color: #d4ebff;}#sk-container-id-6 div.sk-label input.sk-toggleable__control:checked~label.sk-toggleable__label {background-color: #d4ebff;}#sk-container-id-6 input.sk-hidden--visually {border: 0;clip: rect(1px 1px 1px 1px);clip: rect(1px, 1px, 1px, 1px);height: 1px;margin: -1px;overflow: hidden;padding: 0;position: absolute;width: 1px;}#sk-container-id-6 div.sk-estimator {font-family: monospace;background-color: #f0f8ff;border: 1px dotted black;border-radius: 0.25em;box-sizing: border-box;margin-bottom: 0.5em;}#sk-container-id-6 div.sk-estimator:hover {background-color: #d4ebff;}#sk-container-id-6 div.sk-parallel-item::after {content: \"\";width: 100%;border-bottom: 1px solid gray;flex-grow: 1;}#sk-container-id-6 div.sk-label:hover label.sk-toggleable__label {background-color: #d4ebff;}#sk-container-id-6 div.sk-serial::before {content: \"\";position: absolute;border-left: 1px solid gray;box-sizing: border-box;top: 0;bottom: 0;left: 50%;z-index: 0;}#sk-container-id-6 div.sk-serial {display: flex;flex-direction: column;align-items: center;background-color: white;padding-right: 0.2em;padding-left: 0.2em;position: relative;}#sk-container-id-6 div.sk-item {position: relative;z-index: 1;}#sk-container-id-6 div.sk-parallel {display: flex;align-items: stretch;justify-content: center;background-color: white;position: relative;}#sk-container-id-6 div.sk-item::before, #sk-container-id-6 div.sk-parallel-item::before {content: \"\";position: absolute;border-left: 1px solid gray;box-sizing: border-box;top: 0;bottom: 0;left: 50%;z-index: -1;}#sk-container-id-6 div.sk-parallel-item {display: flex;flex-direction: column;z-index: 1;position: relative;background-color: white;}#sk-container-id-6 div.sk-parallel-item:first-child::after {align-self: flex-end;width: 50%;}#sk-container-id-6 div.sk-parallel-item:last-child::after {align-self: flex-start;width: 50%;}#sk-container-id-6 div.sk-parallel-item:only-child::after {width: 0;}#sk-container-id-6 div.sk-dashed-wrapped {border: 1px dashed gray;margin: 0 0.4em 0.5em 0.4em;box-sizing: border-box;padding-bottom: 0.4em;background-color: white;}#sk-container-id-6 div.sk-label label {font-family: monospace;font-weight: bold;display: inline-block;line-height: 1.2em;}#sk-container-id-6 div.sk-label-container {text-align: center;}#sk-container-id-6 div.sk-container {/* jupyter's `normalize.less` sets `[hidden] { display: none; }` but bootstrap.min.css set `[hidden] { display: none !important; }` so we also need the `!important` here to be able to override the default hidden behavior on the sphinx rendered scikit-learn.org. See: https://github.com/scikit-learn/scikit-learn/issues/21755 */display: inline-block !important;position: relative;}#sk-container-id-6 div.sk-text-repr-fallback {display: none;}</style><div id=\"sk-container-id-6\" class=\"sk-top-container\"><div class=\"sk-text-repr-fallback\"><pre>XGBClassifier(base_score=None, booster=None, callbacks=None,\n",
       "              colsample_bylevel=None, colsample_bynode=None,\n",
       "              colsample_bytree=None, device=None, early_stopping_rounds=None,\n",
       "              enable_categorical=False, eval_metric=&#x27;logloss&#x27;,\n",
       "              feature_types=None, gamma=None, grow_policy=None,\n",
       "              importance_type=None, interaction_constraints=None,\n",
       "              learning_rate=None, max_bin=None, max_cat_threshold=None,\n",
       "              max_cat_to_onehot=None, max_delta_step=None, max_depth=None,\n",
       "              max_leaves=None, min_child_weight=None, missing=nan,\n",
       "              monotone_constraints=None, multi_strategy=None, n_estimators=None,\n",
       "              n_jobs=None, num_parallel_tree=None, random_state=42, ...)</pre><b>In a Jupyter environment, please rerun this cell to show the HTML representation or trust the notebook. <br />On GitHub, the HTML representation is unable to render, please try loading this page with nbviewer.org.</b></div><div class=\"sk-container\" hidden><div class=\"sk-item\"><div class=\"sk-estimator sk-toggleable\"><input class=\"sk-toggleable__control sk-hidden--visually\" id=\"sk-estimator-id-6\" type=\"checkbox\" checked><label for=\"sk-estimator-id-6\" class=\"sk-toggleable__label sk-toggleable__label-arrow\">XGBClassifier</label><div class=\"sk-toggleable__content\"><pre>XGBClassifier(base_score=None, booster=None, callbacks=None,\n",
       "              colsample_bylevel=None, colsample_bynode=None,\n",
       "              colsample_bytree=None, device=None, early_stopping_rounds=None,\n",
       "              enable_categorical=False, eval_metric=&#x27;logloss&#x27;,\n",
       "              feature_types=None, gamma=None, grow_policy=None,\n",
       "              importance_type=None, interaction_constraints=None,\n",
       "              learning_rate=None, max_bin=None, max_cat_threshold=None,\n",
       "              max_cat_to_onehot=None, max_delta_step=None, max_depth=None,\n",
       "              max_leaves=None, min_child_weight=None, missing=nan,\n",
       "              monotone_constraints=None, multi_strategy=None, n_estimators=None,\n",
       "              n_jobs=None, num_parallel_tree=None, random_state=42, ...)</pre></div></div></div></div></div>"
      ],
      "text/plain": [
       "XGBClassifier(base_score=None, booster=None, callbacks=None,\n",
       "              colsample_bylevel=None, colsample_bynode=None,\n",
       "              colsample_bytree=None, device=None, early_stopping_rounds=None,\n",
       "              enable_categorical=False, eval_metric='logloss',\n",
       "              feature_types=None, gamma=None, grow_policy=None,\n",
       "              importance_type=None, interaction_constraints=None,\n",
       "              learning_rate=None, max_bin=None, max_cat_threshold=None,\n",
       "              max_cat_to_onehot=None, max_delta_step=None, max_depth=None,\n",
       "              max_leaves=None, min_child_weight=None, missing=nan,\n",
       "              monotone_constraints=None, multi_strategy=None, n_estimators=None,\n",
       "              n_jobs=None, num_parallel_tree=None, random_state=42, ...)"
      ]
     },
     "execution_count": 57,
     "metadata": {},
     "output_type": "execute_result"
    }
   ],
   "source": [
    "\n",
    "# Initialize XGBoost with the same or optimized parameters\n",
    "xgb_model = XGBClassifier(use_label_encoder=False, eval_metric='logloss', random_state=42)\n",
    "\n",
    "# Train the model\n",
    "xgb_model.fit(X_train, y_train)"
   ]
  },
  {
   "cell_type": "code",
   "execution_count": 58,
   "id": "3c689e22",
   "metadata": {
    "execution": {
     "iopub.execute_input": "2025-02-12T20:57:35.279321Z",
     "iopub.status.busy": "2025-02-12T20:57:35.278882Z",
     "iopub.status.idle": "2025-02-12T20:57:44.600521Z",
     "shell.execute_reply": "2025-02-12T20:57:44.599325Z"
    },
    "papermill": {
     "duration": 9.351281,
     "end_time": "2025-02-12T20:57:44.602591",
     "exception": false,
     "start_time": "2025-02-12T20:57:35.251310",
     "status": "completed"
    },
    "tags": []
   },
   "outputs": [
    {
     "name": "stdout",
     "output_type": "stream",
     "text": [
      "XGBoost Classification Report (After Adding high_risk_mcc):\n",
      "              precision    recall  f1-score   support\n",
      "\n",
      "           0       1.00      1.00      1.00   1780327\n",
      "           1       0.95      0.66      0.78      2666\n",
      "\n",
      "    accuracy                           1.00   1782993\n",
      "   macro avg       0.97      0.83      0.89   1782993\n",
      "weighted avg       1.00      1.00      1.00   1782993\n",
      "\n",
      "Confusion Matrix:\n",
      "[[1780228      99]\n",
      " [    908    1758]]\n",
      "ROC AUC Score: 0.9908486920070435\n"
     ]
    }
   ],
   "source": [
    "# Predict on test data\n",
    "y_pred_xgb = xgb_model.predict(X_test)\n",
    "y_proba_xgb = xgb_model.predict_proba(X_test)[:, 1]\n",
    "\n",
    "# Evaluate the model\n",
    "print('XGBoost Classification Report (After Adding high_risk_mcc):')\n",
    "print(classification_report(y_test, y_pred_xgb))\n",
    "\n",
    "print('Confusion Matrix:')\n",
    "print(confusion_matrix(y_test, y_pred_xgb))\n",
    "\n",
    "print('ROC AUC Score:', roc_auc_score(y_test, y_proba_xgb))"
   ]
  },
  {
   "cell_type": "markdown",
   "id": "a7907fc1",
   "metadata": {
    "papermill": {
     "duration": 0.02688,
     "end_time": "2025-02-12T20:57:44.656644",
     "exception": false,
     "start_time": "2025-02-12T20:57:44.629764",
     "status": "completed"
    },
    "tags": []
   },
   "source": [
    "### Comparing Model Performances\n",
    "\n",
    "#### ROC Curves"
   ]
  },
  {
   "cell_type": "code",
   "execution_count": 59,
   "id": "3a170cc9",
   "metadata": {
    "execution": {
     "iopub.execute_input": "2025-02-12T20:57:44.712155Z",
     "iopub.status.busy": "2025-02-12T20:57:44.711741Z",
     "iopub.status.idle": "2025-02-12T20:57:46.873496Z",
     "shell.execute_reply": "2025-02-12T20:57:46.872376Z"
    },
    "papermill": {
     "duration": 2.192022,
     "end_time": "2025-02-12T20:57:46.875606",
     "exception": false,
     "start_time": "2025-02-12T20:57:44.683584",
     "status": "completed"
    },
    "tags": []
   },
   "outputs": [
    {
     "data": {
      "image/png": "[encoded data removed]",
      "text/plain": [
       "<Figure size 800x600 with 1 Axes>"
      ]
     },
     "metadata": {},
     "output_type": "display_data"
    }
   ],
   "source": [
    "# Plot ROC curves\n",
    "plt.figure(figsize=(8, 6))\n",
    "\n",
    "# Logistic Regression\n",
    "fpr_lr, tpr_lr, _ = roc_curve(y_test_lr, y_proba_lr)\n",
    "plt.plot(fpr_lr, tpr_lr, label='Logistic Regression')\n",
    "\n",
    "# Random Forest\n",
    "fpr_rf, tpr_rf, _ = roc_curve(y_test, y_proba_rf)\n",
    "plt.plot(fpr_rf, tpr_rf, label='Random Forest')\n",
    "\n",
    "# XGBoost\n",
    "fpr_xgb, tpr_xgb, _ = roc_curve(y_test, y_proba_xgb)\n",
    "plt.plot(fpr_xgb, tpr_xgb, label='XGBoost')\n",
    "\n",
    "# Diagonal line\n",
    "plt.plot([0, 1], [0, 1], 'k--')\n",
    "\n",
    "plt.title('ROC Curves After Adding high_risk_mcc')\n",
    "plt.xlabel('False Positive Rate')\n",
    "plt.ylabel('True Positive Rate')\n",
    "plt.legend()\n",
    "plt.show()"
   ]
  },
  {
   "cell_type": "markdown",
   "id": "9ceebce8",
   "metadata": {
    "papermill": {
     "duration": 0.030704,
     "end_time": "2025-02-12T20:57:46.935225",
     "exception": false,
     "start_time": "2025-02-12T20:57:46.904521",
     "status": "completed"
    },
    "tags": []
   },
   "source": [
    "### Feature Importance"
   ]
  },
  {
   "cell_type": "markdown",
   "id": "598b7156",
   "metadata": {
    "papermill": {
     "duration": 0.027906,
     "end_time": "2025-02-12T20:57:46.992685",
     "exception": false,
     "start_time": "2025-02-12T20:57:46.964779",
     "status": "completed"
    },
    "tags": []
   },
   "source": [
    "Random Forest Feature Importance:"
   ]
  },
  {
   "cell_type": "code",
   "execution_count": 60,
   "id": "8feabcd1",
   "metadata": {
    "execution": {
     "iopub.execute_input": "2025-02-12T20:57:47.052130Z",
     "iopub.status.busy": "2025-02-12T20:57:47.051706Z",
     "iopub.status.idle": "2025-02-12T20:57:47.057367Z",
     "shell.execute_reply": "2025-02-12T20:57:47.056074Z"
    },
    "papermill": {
     "duration": 0.037798,
     "end_time": "2025-02-12T20:57:47.059074",
     "exception": false,
     "start_time": "2025-02-12T20:57:47.021276",
     "status": "completed"
    },
    "tags": []
   },
   "outputs": [
    {
     "name": "stdout",
     "output_type": "stream",
     "text": [
      "Length of rf_importances: 7\n",
      "Length of rf_features: 7\n"
     ]
    }
   ],
   "source": [
    "print(f\"Length of rf_importances: {len(rf_importances)}\")\n",
    "print(f\"Length of rf_features: {len(rf_features)}\")"
   ]
  },
  {
   "cell_type": "code",
   "execution_count": 61,
   "id": "34ddb82a",
   "metadata": {
    "execution": {
     "iopub.execute_input": "2025-02-12T20:57:47.118571Z",
     "iopub.status.busy": "2025-02-12T20:57:47.118166Z",
     "iopub.status.idle": "2025-02-12T20:57:47.123955Z",
     "shell.execute_reply": "2025-02-12T20:57:47.122602Z"
    },
    "papermill": {
     "duration": 0.038093,
     "end_time": "2025-02-12T20:57:47.125882",
     "exception": false,
     "start_time": "2025-02-12T20:57:47.087789",
     "status": "completed"
    },
    "tags": []
   },
   "outputs": [
    {
     "name": "stdout",
     "output_type": "stream",
     "text": [
      "Type of rf_importances: <class 'numpy.ndarray'>\n",
      "Type of rf_features: <class 'pandas.core.indexes.base.Index'>\n"
     ]
    }
   ],
   "source": [
    "print(f\"Type of rf_importances: {type(rf_importances)}\")\n",
    "print(f\"Type of rf_features: {type(rf_features)}\")"
   ]
  },
  {
   "cell_type": "code",
   "execution_count": 62,
   "id": "34906ce6",
   "metadata": {
    "execution": {
     "iopub.execute_input": "2025-02-12T20:57:47.184582Z",
     "iopub.status.busy": "2025-02-12T20:57:47.184146Z",
     "iopub.status.idle": "2025-02-12T20:57:47.188373Z",
     "shell.execute_reply": "2025-02-12T20:57:47.187287Z"
    },
    "papermill": {
     "duration": 0.035874,
     "end_time": "2025-02-12T20:57:47.190326",
     "exception": false,
     "start_time": "2025-02-12T20:57:47.154452",
     "status": "completed"
    },
    "tags": []
   },
   "outputs": [],
   "source": [
    "# # Assuming 'X' is your feature DataFrame used to train the RandomForest\n",
    "\n",
    "# print(\"Feature Names from rf_features:\")\n",
    "# print(rf_features)\n",
    "\n",
    "# print(\"\\nFeature Names from X.columns:\")\n",
    "# print(X.columns.tolist())\n",
    "\n",
    "# print(\"\\nChecking if rf_features matches X.columns:\")\n",
    "# print(rf_features == X.columns.tolist())"
   ]
  },
  {
   "cell_type": "code",
   "execution_count": 63,
   "id": "87412511",
   "metadata": {
    "execution": {
     "iopub.execute_input": "2025-02-12T20:57:47.249348Z",
     "iopub.status.busy": "2025-02-12T20:57:47.248829Z",
     "iopub.status.idle": "2025-02-12T20:57:47.252983Z",
     "shell.execute_reply": "2025-02-12T20:57:47.251959Z"
    },
    "papermill": {
     "duration": 0.035502,
     "end_time": "2025-02-12T20:57:47.254856",
     "exception": false,
     "start_time": "2025-02-12T20:57:47.219354",
     "status": "completed"
    },
    "tags": []
   },
   "outputs": [],
   "source": [
    "# duplicate_columns = X.columns[X.columns.duplicated()].tolist()\n",
    "# print(\"Duplicate columns in X:\", duplicate_columns)"
   ]
  },
  {
   "cell_type": "code",
   "execution_count": 64,
   "id": "e6a845c3",
   "metadata": {
    "execution": {
     "iopub.execute_input": "2025-02-12T20:57:47.313429Z",
     "iopub.status.busy": "2025-02-12T20:57:47.312961Z",
     "iopub.status.idle": "2025-02-12T20:57:47.317205Z",
     "shell.execute_reply": "2025-02-12T20:57:47.316017Z"
    },
    "papermill": {
     "duration": 0.035227,
     "end_time": "2025-02-12T20:57:47.318922",
     "exception": false,
     "start_time": "2025-02-12T20:57:47.283695",
     "status": "completed"
    },
    "tags": []
   },
   "outputs": [],
   "source": [
    "# X = X.loc[:, ~X.columns.duplicated()]\n",
    "# rf_features = X.columns.tolist()"
   ]
  },
  {
   "cell_type": "code",
   "execution_count": 65,
   "id": "0851a9f7",
   "metadata": {
    "execution": {
     "iopub.execute_input": "2025-02-12T20:57:47.377655Z",
     "iopub.status.busy": "2025-02-12T20:57:47.377191Z",
     "iopub.status.idle": "2025-02-12T20:57:47.381307Z",
     "shell.execute_reply": "2025-02-12T20:57:47.380208Z"
    },
    "papermill": {
     "duration": 0.035494,
     "end_time": "2025-02-12T20:57:47.383160",
     "exception": false,
     "start_time": "2025-02-12T20:57:47.347666",
     "status": "completed"
    },
    "tags": []
   },
   "outputs": [],
   "source": [
    "# # Re-split the data if necessary\n",
    "# X_train, X_test, y_train, y_test = train_test_split(\n",
    "#     X, y, test_size=0.2, stratify=y, random_state=42\n",
    "# )\n",
    "\n",
    "# # Retrain the Random Forest model\n",
    "# rf_model = RandomForestClassifier(n_estimators=100, random_state=42)\n",
    "# rf_model.fit(X_train, y_train)\n",
    "\n",
    "# # Get the feature importances\n",
    "# rf_importances = rf_model.feature_importances_"
   ]
  },
  {
   "cell_type": "code",
   "execution_count": 66,
   "id": "97305f41",
   "metadata": {
    "execution": {
     "iopub.execute_input": "2025-02-12T20:57:47.441698Z",
     "iopub.status.busy": "2025-02-12T20:57:47.441326Z",
     "iopub.status.idle": "2025-02-12T20:57:47.446681Z",
     "shell.execute_reply": "2025-02-12T20:57:47.445589Z"
    },
    "papermill": {
     "duration": 0.03657,
     "end_time": "2025-02-12T20:57:47.448499",
     "exception": false,
     "start_time": "2025-02-12T20:57:47.411929",
     "status": "completed"
    },
    "tags": []
   },
   "outputs": [
    {
     "name": "stdout",
     "output_type": "stream",
     "text": [
      "Length of rf_importances: 7\n",
      "Length of rf_features: 7\n"
     ]
    }
   ],
   "source": [
    "print(f\"Length of rf_importances: {len(rf_importances)}\")\n",
    "print(f\"Length of rf_features: {len(rf_features)}\")"
   ]
  },
  {
   "cell_type": "code",
   "execution_count": 67,
   "id": "433b63c6",
   "metadata": {
    "execution": {
     "iopub.execute_input": "2025-02-12T20:57:47.507136Z",
     "iopub.status.busy": "2025-02-12T20:57:47.506718Z",
     "iopub.status.idle": "2025-02-12T20:57:47.766748Z",
     "shell.execute_reply": "2025-02-12T20:57:47.765520Z"
    },
    "papermill": {
     "duration": 0.291428,
     "end_time": "2025-02-12T20:57:47.768704",
     "exception": false,
     "start_time": "2025-02-12T20:57:47.477276",
     "status": "completed"
    },
    "tags": []
   },
   "outputs": [
    {
     "data": {
      "image/png": "[encoded data removed]",
      "text/plain": [
       "<Figure size 1200x600 with 1 Axes>"
      ]
     },
     "metadata": {},
     "output_type": "display_data"
    }
   ],
   "source": [
    "import pandas as pd\n",
    "\n",
    "# Create a DataFrame for feature importances\n",
    "feature_importance_df = pd.DataFrame({\n",
    "    'Feature': rf_features,\n",
    "    'Importance': rf_importances\n",
    "})\n",
    "\n",
    "# Sort the DataFrame by importance\n",
    "feature_importance_df = feature_importance_df.sort_values(by='Importance', ascending=False)\n",
    "\n",
    "# Plot feature importances\n",
    "plt.figure(figsize=(12, 6))\n",
    "sns.barplot(x='Importance', y='Feature', data=feature_importance_df, palette='viridis')\n",
    "plt.title('Feature Importance - Random Forest After Adding high_risk_mcc')\n",
    "plt.xlabel('Importance Score')\n",
    "plt.ylabel('Feature')\n",
    "plt.tight_layout()\n",
    "plt.show()"
   ]
  },
  {
   "cell_type": "markdown",
   "id": "755dad09",
   "metadata": {
    "papermill": {
     "duration": 0.029162,
     "end_time": "2025-02-12T20:57:47.828083",
     "exception": false,
     "start_time": "2025-02-12T20:57:47.798921",
     "status": "completed"
    },
    "tags": []
   },
   "source": [
    "xgb Feature Importance:"
   ]
  },
  {
   "cell_type": "code",
   "execution_count": 68,
   "id": "14ede546",
   "metadata": {
    "execution": {
     "iopub.execute_input": "2025-02-12T20:57:47.891556Z",
     "iopub.status.busy": "2025-02-12T20:57:47.891164Z",
     "iopub.status.idle": "2025-02-12T20:57:48.111417Z",
     "shell.execute_reply": "2025-02-12T20:57:48.110251Z"
    },
    "papermill": {
     "duration": 0.253025,
     "end_time": "2025-02-12T20:57:48.113388",
     "exception": false,
     "start_time": "2025-02-12T20:57:47.860363",
     "status": "completed"
    },
    "tags": []
   },
   "outputs": [
    {
     "data": {
      "image/png": "[encoded data removed]",
      "text/plain": [
       "<Figure size 1000x600 with 1 Axes>"
      ]
     },
     "metadata": {},
     "output_type": "display_data"
    }
   ],
   "source": [
    "# Get feature importances\n",
    "xgb_importances = xgb_model.feature_importances_\n",
    "xgb_features = X.columns\n",
    "\n",
    "# Plot feature importances\n",
    "plt.figure(figsize=(10, 6))\n",
    "sns.barplot(x=xgb_importances, y=xgb_features)\n",
    "plt.title('Feature Importance - XGBoost After Adding high_risk_mcc')\n",
    "plt.show()"
   ]
  },
  {
   "cell_type": "markdown",
   "id": "35a2998c",
   "metadata": {
    "papermill": {
     "duration": 0.030321,
     "end_time": "2025-02-12T20:57:48.174139",
     "exception": false,
     "start_time": "2025-02-12T20:57:48.143818",
     "status": "completed"
    },
    "tags": []
   },
   "source": [
    "## Implementing Autoencoders for Anomaly Detection\n",
    "Autoencoders can learn patterns of normal transactions and identify anomalies, which could be fraudulent.\n",
    "\n",
    "###  Building the Autoencoder Model"
   ]
  },
  {
   "cell_type": "code",
   "execution_count": 69,
   "id": "b7566437",
   "metadata": {
    "execution": {
     "iopub.execute_input": "2025-02-12T20:57:48.236200Z",
     "iopub.status.busy": "2025-02-12T20:57:48.235799Z",
     "iopub.status.idle": "2025-02-12T20:58:00.053720Z",
     "shell.execute_reply": "2025-02-12T20:58:00.052654Z"
    },
    "papermill": {
     "duration": 11.851334,
     "end_time": "2025-02-12T20:58:00.055786",
     "exception": false,
     "start_time": "2025-02-12T20:57:48.204452",
     "status": "completed"
    },
    "tags": []
   },
   "outputs": [],
   "source": [
    "non_fraud_df = transactions_labeled_df[transactions_labeled_df['is_fraud'] == 0]\n",
    "X_auto = non_fraud_df[features].values\n",
    "\n",
    "# Scale data\n",
    "scaler_auto = StandardScaler()\n",
    "X_auto_scaled = scaler_auto.fit_transform(X_auto)"
   ]
  },
  {
   "cell_type": "code",
   "execution_count": 70,
   "id": "82adf851",
   "metadata": {
    "execution": {
     "iopub.execute_input": "2025-02-12T20:58:00.119365Z",
     "iopub.status.busy": "2025-02-12T20:58:00.118903Z",
     "iopub.status.idle": "2025-02-12T21:39:27.299609Z",
     "shell.execute_reply": "2025-02-12T21:39:27.297894Z"
    },
    "papermill": {
     "duration": 2487.215045,
     "end_time": "2025-02-12T21:39:27.301682",
     "exception": false,
     "start_time": "2025-02-12T20:58:00.086637",
     "status": "completed"
    },
    "tags": []
   },
   "outputs": [
    {
     "name": "stdout",
     "output_type": "stream",
     "text": [
      "Epoch 1/15\n",
      "\u001b[1m125180/125180\u001b[0m \u001b[32m━━━━━━━━━━━━━━━━━━━━\u001b[0m\u001b[37m\u001b[0m \u001b[1m174s\u001b[0m 1ms/step - loss: 0.4475 - val_loss: 0.4655\n",
      "Epoch 2/15\n",
      "\u001b[1m125180/125180\u001b[0m \u001b[32m━━━━━━━━━━━━━━━━━━━━\u001b[0m\u001b[37m\u001b[0m \u001b[1m163s\u001b[0m 1ms/step - loss: 0.4119 - val_loss: 0.4657\n",
      "Epoch 3/15\n",
      "\u001b[1m125180/125180\u001b[0m \u001b[32m━━━━━━━━━━━━━━━━━━━━\u001b[0m\u001b[37m\u001b[0m \u001b[1m162s\u001b[0m 1ms/step - loss: 0.4117 - val_loss: 0.4650\n",
      "Epoch 4/15\n",
      "\u001b[1m125180/125180\u001b[0m \u001b[32m━━━━━━━━━━━━━━━━━━━━\u001b[0m\u001b[37m\u001b[0m \u001b[1m163s\u001b[0m 1ms/step - loss: 0.4116 - val_loss: 0.4651\n",
      "Epoch 5/15\n",
      "\u001b[1m125180/125180\u001b[0m \u001b[32m━━━━━━━━━━━━━━━━━━━━\u001b[0m\u001b[37m\u001b[0m \u001b[1m162s\u001b[0m 1ms/step - loss: 0.4116 - val_loss: 0.4649\n",
      "Epoch 6/15\n",
      "\u001b[1m125180/125180\u001b[0m \u001b[32m━━━━━━━━━━━━━━━━━━━━\u001b[0m\u001b[37m\u001b[0m \u001b[1m163s\u001b[0m 1ms/step - loss: 0.4113 - val_loss: 0.4649\n",
      "Epoch 7/15\n",
      "\u001b[1m125180/125180\u001b[0m \u001b[32m━━━━━━━━━━━━━━━━━━━━\u001b[0m\u001b[37m\u001b[0m \u001b[1m162s\u001b[0m 1ms/step - loss: 0.4113 - val_loss: 0.4653\n",
      "Epoch 8/15\n",
      "\u001b[1m125180/125180\u001b[0m \u001b[32m━━━━━━━━━━━━━━━━━━━━\u001b[0m\u001b[37m\u001b[0m \u001b[1m164s\u001b[0m 1ms/step - loss: 0.4114 - val_loss: 0.4649\n",
      "Epoch 9/15\n",
      "\u001b[1m125180/125180\u001b[0m \u001b[32m━━━━━━━━━━━━━━━━━━━━\u001b[0m\u001b[37m\u001b[0m \u001b[1m166s\u001b[0m 1ms/step - loss: 0.4115 - val_loss: 0.4648\n",
      "Epoch 10/15\n",
      "\u001b[1m125180/125180\u001b[0m \u001b[32m━━━━━━━━━━━━━━━━━━━━\u001b[0m\u001b[37m\u001b[0m \u001b[1m165s\u001b[0m 1ms/step - loss: 0.4112 - val_loss: 0.4656\n",
      "Epoch 11/15\n",
      "\u001b[1m125180/125180\u001b[0m \u001b[32m━━━━━━━━━━━━━━━━━━━━\u001b[0m\u001b[37m\u001b[0m \u001b[1m164s\u001b[0m 1ms/step - loss: 0.4115 - val_loss: 0.4648\n",
      "Epoch 12/15\n",
      "\u001b[1m125180/125180\u001b[0m \u001b[32m━━━━━━━━━━━━━━━━━━━━\u001b[0m\u001b[37m\u001b[0m \u001b[1m167s\u001b[0m 1ms/step - loss: 0.4112 - val_loss: 0.4648\n",
      "Epoch 13/15\n",
      "\u001b[1m125180/125180\u001b[0m \u001b[32m━━━━━━━━━━━━━━━━━━━━\u001b[0m\u001b[37m\u001b[0m \u001b[1m164s\u001b[0m 1ms/step - loss: 0.4113 - val_loss: 0.4649\n",
      "Epoch 14/15\n",
      "\u001b[1m125180/125180\u001b[0m \u001b[32m━━━━━━━━━━━━━━━━━━━━\u001b[0m\u001b[37m\u001b[0m \u001b[1m164s\u001b[0m 1ms/step - loss: 0.4113 - val_loss: 0.4648\n",
      "Epoch 15/15\n",
      "\u001b[1m125180/125180\u001b[0m \u001b[32m━━━━━━━━━━━━━━━━━━━━\u001b[0m\u001b[37m\u001b[0m \u001b[1m168s\u001b[0m 1ms/step - loss: 0.4113 - val_loss: 0.4648\n"
     ]
    }
   ],
   "source": [
    "from tensorflow.keras.layers import Input, Dense\n",
    "from tensorflow.keras.models import Model\n",
    "# Define the autoencoder architecture\n",
    "input_dim = X_auto_scaled.shape[1]\n",
    "encoding_dim = 14  # Adjust based on your data\n",
    "\n",
    "input_layer = Input(shape=(input_dim,))\n",
    "encoder = Dense(encoding_dim, activation=\"tanh\")(input_layer)\n",
    "encoder = Dense(int(encoding_dim / 2), activation=\"relu\")(encoder)\n",
    "decoder = Dense(int(encoding_dim / 2), activation='tanh')(encoder)\n",
    "decoder = Dense(input_dim, activation='relu')(decoder)\n",
    "autoencoder = Model(inputs=input_layer, outputs=decoder)\n",
    "\n",
    "# Compile the model\n",
    "autoencoder.compile(optimizer='adam', loss='mean_squared_error')\n",
    "\n",
    "# Train the autoencoder\n",
    "history = autoencoder.fit(\n",
    "    X_auto_scaled, X_auto_scaled,\n",
    "    epochs=15,\n",
    "    batch_size=64,\n",
    "    shuffle=True,\n",
    "    validation_split=0.1,\n",
    "    verbose=1\n",
    ")"
   ]
  },
  {
   "cell_type": "markdown",
   "id": "87c669f9",
   "metadata": {
    "papermill": {
     "duration": 2.727923,
     "end_time": "2025-02-12T21:39:32.874143",
     "exception": false,
     "start_time": "2025-02-12T21:39:30.146220",
     "status": "completed"
    },
    "tags": []
   },
   "source": [
    "###  Detecting Anomalies"
   ]
  },
  {
   "cell_type": "code",
   "execution_count": 71,
   "id": "a8c54171",
   "metadata": {
    "execution": {
     "iopub.execute_input": "2025-02-12T21:39:38.330086Z",
     "iopub.status.busy": "2025-02-12T21:39:38.328520Z",
     "iopub.status.idle": "2025-02-12T21:51:17.094725Z",
     "shell.execute_reply": "2025-02-12T21:51:17.093420Z"
    },
    "papermill": {
     "duration": 701.49027,
     "end_time": "2025-02-12T21:51:17.097119",
     "exception": false,
     "start_time": "2025-02-12T21:39:35.606849",
     "status": "completed"
    },
    "tags": []
   },
   "outputs": [
    {
     "name": "stdout",
     "output_type": "stream",
     "text": [
      "\u001b[1m415810/415810\u001b[0m \u001b[32m━━━━━━━━━━━━━━━━━━━━\u001b[0m\u001b[37m\u001b[0m \u001b[1m431s\u001b[0m 1ms/step\n"
     ]
    }
   ],
   "source": [
    "# Prepare all data for testing\n",
    "X_test_auto = transactions_labeled_df[features].values\n",
    "X_test_auto_scaled = scaler_auto.transform(X_test_auto)\n",
    "\n",
    "# Get reconstructed data\n",
    "X_pred = autoencoder.predict(X_test_auto_scaled)\n",
    "\n",
    "# Calculate reconstruction error\n",
    "mse = np.mean(np.power(X_test_auto_scaled - X_pred, 2), axis=1)\n",
    "transactions_labeled_df['reconstruction_error'] = mse"
   ]
  },
  {
   "cell_type": "code",
   "execution_count": 72,
   "id": "5e99ea65",
   "metadata": {
    "execution": {
     "iopub.execute_input": "2025-02-12T21:51:23.757420Z",
     "iopub.status.busy": "2025-02-12T21:51:23.756961Z",
     "iopub.status.idle": "2025-02-12T21:51:25.069322Z",
     "shell.execute_reply": "2025-02-12T21:51:25.068198Z"
    },
    "papermill": {
     "duration": 4.516156,
     "end_time": "2025-02-12T21:51:25.070969",
     "exception": false,
     "start_time": "2025-02-12T21:51:20.554813",
     "status": "completed"
    },
    "tags": []
   },
   "outputs": [
    {
     "name": "stdout",
     "output_type": "stream",
     "text": [
      "Reconstruction error threshold: 0.9006696306573677\n"
     ]
    }
   ],
   "source": [
    "# Set threshold (e.g., 95th percentile of reconstruction errors from non-fraudulent transactions)\n",
    "threshold = np.percentile(transactions_labeled_df[transactions_labeled_df['is_fraud'] == 0]['reconstruction_error'], 95)\n",
    "print('Reconstruction error threshold:', threshold)"
   ]
  },
  {
   "cell_type": "code",
   "execution_count": 73,
   "id": "ca8e6238",
   "metadata": {
    "execution": {
     "iopub.execute_input": "2025-02-12T21:51:31.595672Z",
     "iopub.status.busy": "2025-02-12T21:51:31.595253Z",
     "iopub.status.idle": "2025-02-12T21:51:31.678558Z",
     "shell.execute_reply": "2025-02-12T21:51:31.677420Z"
    },
    "papermill": {
     "duration": 3.418196,
     "end_time": "2025-02-12T21:51:31.680603",
     "exception": false,
     "start_time": "2025-02-12T21:51:28.262407",
     "status": "completed"
    },
    "tags": []
   },
   "outputs": [],
   "source": [
    "transactions_labeled_df['anomaly_autoencoder'] = transactions_labeled_df['reconstruction_error'] > threshold\n",
    "transactions_labeled_df['anomaly_autoencoder'] = transactions_labeled_df['anomaly_autoencoder'].astype(int)"
   ]
  },
  {
   "cell_type": "code",
   "execution_count": 74,
   "id": "60ce6576",
   "metadata": {
    "execution": {
     "iopub.execute_input": "2025-02-12T21:51:38.103014Z",
     "iopub.status.busy": "2025-02-12T21:51:38.102623Z",
     "iopub.status.idle": "2025-02-12T21:52:10.654963Z",
     "shell.execute_reply": "2025-02-12T21:52:10.653746Z"
    },
    "papermill": {
     "duration": 39.110101,
     "end_time": "2025-02-12T21:52:13.997810",
     "exception": false,
     "start_time": "2025-02-12T21:51:34.887709",
     "status": "completed"
    },
    "tags": []
   },
   "outputs": [
    {
     "name": "stdout",
     "output_type": "stream",
     "text": [
      "Confusion Matrix:\n",
      "[[      0 4171479  219473]\n",
      " [      0 8456549  445082]\n",
      " [      0   12557     775]]\n",
      "Classification Report:\n",
      "              precision    recall  f1-score   support\n",
      "\n",
      "          -1       0.00      0.00      0.00   4390952\n",
      "           0       0.67      0.95      0.79   8901631\n",
      "           1       0.00      0.06      0.00     13332\n",
      "\n",
      "    accuracy                           0.64  13305915\n",
      "   macro avg       0.22      0.34      0.26  13305915\n",
      "weighted avg       0.45      0.64      0.53  13305915\n",
      "\n"
     ]
    }
   ],
   "source": [
    "# Confusion Matrix\n",
    "cm = confusion_matrix(transactions_labeled_df['is_fraud'], transactions_labeled_df['anomaly_autoencoder'])\n",
    "print('Confusion Matrix:')\n",
    "print(cm)\n",
    "\n",
    "# Classification Report\n",
    "print('Classification Report:')\n",
    "print(classification_report(transactions_labeled_df['is_fraud'], transactions_labeled_df['anomaly_autoencoder']))"
   ]
  },
  {
   "cell_type": "code",
   "execution_count": 75,
   "id": "a4f15409",
   "metadata": {
    "execution": {
     "iopub.execute_input": "2025-02-12T21:52:20.450333Z",
     "iopub.status.busy": "2025-02-12T21:52:20.449897Z",
     "iopub.status.idle": "2025-02-12T21:52:21.402921Z",
     "shell.execute_reply": "2025-02-12T21:52:21.401476Z"
    },
    "papermill": {
     "duration": 4.196256,
     "end_time": "2025-02-12T21:52:21.405161",
     "exception": false,
     "start_time": "2025-02-12T21:52:17.208905",
     "status": "completed"
    },
    "tags": []
   },
   "outputs": [
    {
     "name": "stdout",
     "output_type": "stream",
     "text": [
      "Length of supervised_df: 8914963\n",
      "Length of y_pred_rf: 1782993\n",
      "Length of y_proba_rf: 1782993\n"
     ]
    }
   ],
   "source": [
    "# First, let's check the lengths of our data\n",
    "print(\"Length of supervised_df:\", len(supervised_df))\n",
    "print(\"Length of y_pred_rf:\", len(y_pred_rf))\n",
    "print(\"Length of y_proba_rf:\", len(y_proba_rf))\n",
    "\n",
    "# Ensure supervised_df and predictions are aligned\n",
    "# Option 1: If supervised_df should match the length of predictions\n",
    "supervised_df = supervised_df.iloc[:len(y_pred_rf)].copy()"
   ]
  },
  {
   "cell_type": "code",
   "execution_count": 76,
   "id": "416445bc",
   "metadata": {
    "execution": {
     "iopub.execute_input": "2025-02-12T21:52:28.016851Z",
     "iopub.status.busy": "2025-02-12T21:52:28.016492Z",
     "iopub.status.idle": "2025-02-12T21:52:28.022425Z",
     "shell.execute_reply": "2025-02-12T21:52:28.021160Z"
    },
    "papermill": {
     "duration": 3.225195,
     "end_time": "2025-02-12T21:52:28.024212",
     "exception": false,
     "start_time": "2025-02-12T21:52:24.799017",
     "status": "completed"
    },
    "tags": []
   },
   "outputs": [
    {
     "name": "stdout",
     "output_type": "stream",
     "text": [
      "\n",
      "After alignment:\n",
      "Length of supervised_df: 1782993\n",
      "Length of y_pred_rf: 1782993\n",
      "Length of y_proba_rf: 1782993\n"
     ]
    }
   ],
   "source": [
    "# Option 2: If predictions should match supervised_df\n",
    "# y_pred_rf = y_pred_rf[:len(supervised_df)]\n",
    "# y_proba_rf = y_proba_rf[:len(supervised_df)]\n",
    "\n",
    "# Reset index\n",
    "supervised_df.reset_index(drop=True, inplace=True)\n",
    "\n",
    "# Verify lengths are now equal\n",
    "print(\"\\nAfter alignment:\")\n",
    "print(\"Length of supervised_df:\", len(supervised_df))\n",
    "print(\"Length of y_pred_rf:\", len(y_pred_rf))\n",
    "print(\"Length of y_proba_rf:\", len(y_proba_rf))"
   ]
  },
  {
   "cell_type": "code",
   "execution_count": 77,
   "id": "c40a8104",
   "metadata": {
    "execution": {
     "iopub.execute_input": "2025-02-12T21:52:36.091226Z",
     "iopub.status.busy": "2025-02-12T21:52:36.090516Z",
     "iopub.status.idle": "2025-02-12T21:52:51.597385Z",
     "shell.execute_reply": "2025-02-12T21:52:51.596297Z"
    },
    "papermill": {
     "duration": 19.762091,
     "end_time": "2025-02-12T21:52:51.598993",
     "exception": false,
     "start_time": "2025-02-12T21:52:31.836902",
     "status": "completed"
    },
    "tags": []
   },
   "outputs": [
    {
     "name": "stdout",
     "output_type": "stream",
     "text": [
      "Length of supervised_df: 1782993\n",
      "Length of y_pred_rf: 1782993\n",
      "Length of y_proba_rf: 1782993\n",
      "\n",
      "After alignment:\n",
      "Length of supervised_df: 1782993\n",
      "Length of y_pred_rf: 1782993\n",
      "Length of y_proba_rf: 1782993\n",
      "\n",
      "Supervised fraud detection data saved to 'supervised_fraud_detection_data.csv'\n"
     ]
    }
   ],
   "source": [
    "import pandas as pd\n",
    "import numpy as np\n",
    "\n",
    "# First, let's check the lengths of our data\n",
    "print(\"Length of supervised_df:\", len(supervised_df))\n",
    "print(\"Length of y_pred_rf:\", len(y_pred_rf))\n",
    "print(\"Length of y_proba_rf:\", len(y_proba_rf))\n",
    "\n",
    "# Ensure supervised_df and predictions are aligned\n",
    "# Option 1: If supervised_df should match the length of predictions\n",
    "supervised_df = supervised_df.iloc[:len(y_pred_rf)].copy()\n",
    "\n",
    "# Option 2: If predictions should match supervised_df\n",
    "# y_pred_rf = y_pred_rf[:len(supervised_df)]\n",
    "# y_proba_rf = y_proba_rf[:len(supervised_df)]\n",
    "\n",
    "# Reset index\n",
    "supervised_df.reset_index(drop=True, inplace=True)\n",
    "\n",
    "# Verify lengths are now equal\n",
    "print(\"\\nAfter alignment:\")\n",
    "print(\"Length of supervised_df:\", len(supervised_df))\n",
    "print(\"Length of y_pred_rf:\", len(y_pred_rf))\n",
    "print(\"Length of y_proba_rf:\", len(y_proba_rf))\n",
    "\n",
    "# Create DataFrame of predictions\n",
    "try:\n",
    "    predictions_df = pd.DataFrame({\n",
    "        'id': supervised_df['id'],\n",
    "        'date': supervised_df['date'],\n",
    "        'amount': supervised_df['amount'],\n",
    "        'merchant_city': supervised_df['merchant_city'],\n",
    "        'merchant_state': supervised_df['merchant_state'],\n",
    "        'zip': supervised_df['zip'],\n",
    "        'mcc_description': supervised_df['mcc_description'],\n",
    "        'transaction_hour': supervised_df['transaction_hour'],\n",
    "        'transaction_dayofweek': supervised_df['transaction_dayofweek'],\n",
    "        'is_fraud_actual': supervised_df['is_fraud'],\n",
    "        'is_fraud_pred_rf': y_pred_rf,\n",
    "        'fraud_proba_rf': y_proba_rf,\n",
    "    })\n",
    "\n",
    "    # Map labels to categorical\n",
    "    predictions_df['is_fraud_actual_label'] = predictions_df['is_fraud_actual'].map({1: 'Fraud', 0: 'Legitimate'})\n",
    "    predictions_df['is_fraud_pred_rf_label'] = predictions_df['is_fraud_pred_rf'].map({1: 'Fraud', 0: 'Legitimate'})\n",
    "\n",
    "    # Format date column\n",
    "    predictions_df['date'] = pd.to_datetime(predictions_df['date']).dt.strftime('%Y-%m-%d %H:%M:%S')\n",
    "\n",
    "    # Save to CSV\n",
    "    predictions_df.to_csv('/kaggle/working/supervised_fraud_detection_data.csv', index=False)\n",
    "    print(\"\\nSupervised fraud detection data saved to 'supervised_fraud_detection_data.csv'\")\n",
    "\n",
    "except Exception as e:\n",
    "    print(\"\\nError creating DataFrame:\", str(e))\n",
    "    \n",
    "    # Print shapes of all arrays for debugging\n",
    "    print(\"\\nShapes of arrays:\")\n",
    "    for column, data in [\n",
    "        ('id', supervised_df['id']),\n",
    "        ('date', supervised_df['date']),\n",
    "        ('amount', supervised_df['amount']),\n",
    "        ('merchant_city', supervised_df['merchant_city']),\n",
    "        ('merchant_state', supervised_df['merchant_state']),\n",
    "        ('zip', supervised_df['zip']),\n",
    "        ('mcc_description', supervised_df['mcc_description']),\n",
    "        ('transaction_hour', supervised_df['transaction_hour']),\n",
    "        ('transaction_dayofweek', supervised_df['transaction_dayofweek']),\n",
    "        ('is_fraud_actual', supervised_df['is_fraud']),\n",
    "        ('is_fraud_pred_rf', y_pred_rf),\n",
    "        ('fraud_proba_rf', y_proba_rf)\n",
    "    ]:\n",
    "        print(f\"{column}: {len(data)}\")"
   ]
  },
  {
   "cell_type": "code",
   "execution_count": 78,
   "id": "d85f6db7",
   "metadata": {
    "execution": {
     "iopub.execute_input": "2025-02-12T21:52:58.176667Z",
     "iopub.status.busy": "2025-02-12T21:52:58.176277Z",
     "iopub.status.idle": "2025-02-12T21:54:32.555054Z",
     "shell.execute_reply": "2025-02-12T21:54:32.553855Z"
    },
    "papermill": {
     "duration": 100.905725,
     "end_time": "2025-02-12T21:54:35.857818",
     "exception": false,
     "start_time": "2025-02-12T21:52:54.952093",
     "status": "completed"
    },
    "tags": []
   },
   "outputs": [
    {
     "name": "stdout",
     "output_type": "stream",
     "text": [
      "Unsupervised anomaly detection data saved to 'unsupervised_anomaly_detection_data.csv'\n"
     ]
    }
   ],
   "source": [
    "# Assuming transactions_labeled_df includes anomaly scores from Isolation Forest and Autoencoder\n",
    "\n",
    "# Create a DataFrame for anomaly detection results\n",
    "anomaly_detection_data = transactions_labeled_df[[\n",
    "    'id', 'date', 'amount', 'merchant_city', 'merchant_state', 'zip', 'mcc_description',\n",
    "    'transaction_hour', 'transaction_dayofweek', 'is_fraud', 'anomaly_score', 'anomaly_autoencoder'\n",
    "]]\n",
    "\n",
    "# Map labels for 'is_fraud'\n",
    "anomaly_detection_data['is_fraud_label'] = anomaly_detection_data['is_fraud'].map({1: 'Fraud', 0: 'Legitimate', -1: 'Unknown'})\n",
    "\n",
    "# Map anomaly scores to labels\n",
    "anomaly_detection_data['anomaly_isolation_forest'] = anomaly_detection_data['anomaly_score'].map({1: 'Normal', -1: 'Anomaly'})\n",
    "anomaly_detection_data['anomaly_autoencoder_label'] = anomaly_detection_data['anomaly_autoencoder'].map({1: 'Anomaly', 0: 'Normal'})\n",
    "\n",
    "# Format date column\n",
    "anomaly_detection_data['date'] = pd.to_datetime(anomaly_detection_data['date']).dt.strftime('%Y-%m-%d %H:%M:%S')\n",
    "\n",
    "# Drop unnecessary columns\n",
    "anomaly_detection_data.drop(columns=['anomaly_score', 'anomaly_autoencoder'], inplace=True)\n",
    "\n",
    "# Save to CSV\n",
    "anomaly_detection_data.to_csv('/kaggle/working/unsupervised_anomaly_detection_data.csv', index=False)\n",
    "\n",
    "print(\"Unsupervised anomaly detection data saved to 'unsupervised_anomaly_detection_data.csv'\")"
   ]
  },
  {
   "cell_type": "code",
   "execution_count": 79,
   "id": "40e58b8e",
   "metadata": {
    "execution": {
     "iopub.execute_input": "2025-02-12T21:54:42.461746Z",
     "iopub.status.busy": "2025-02-12T21:54:42.461174Z",
     "iopub.status.idle": "2025-02-12T21:56:20.201191Z",
     "shell.execute_reply": "2025-02-12T21:56:20.200045Z"
    },
    "papermill": {
     "duration": 104.387484,
     "end_time": "2025-02-12T21:56:23.609573",
     "exception": false,
     "start_time": "2025-02-12T21:54:39.222089",
     "status": "completed"
    },
    "tags": []
   },
   "outputs": [
    {
     "name": "stdout",
     "output_type": "stream",
     "text": [
      "Merchant category analysis data saved to 'merchant_category_analysis_data.csv'\n"
     ]
    }
   ],
   "source": [
    "# Assuming high_risk_mccs is a list of high-risk MCC descriptions identified earlier\n",
    "\n",
    "# Flag transactions with high-risk MCCs\n",
    "transactions_labeled_df['high_risk_mcc'] = transactions_labeled_df['mcc_description'].apply(\n",
    "    lambda x: 1 if x in high_risk_mccs else 0\n",
    ")\n",
    "\n",
    "# Prepare merchant category analysis data\n",
    "merchant_category_data = transactions_labeled_df[[\n",
    "    'id', 'date', 'amount', 'merchant_city', 'merchant_state', 'zip', 'mcc_description',\n",
    "    'transaction_hour', 'transaction_dayofweek', 'is_fraud', 'high_risk_mcc'\n",
    "]]\n",
    "\n",
    "# Map labels\n",
    "merchant_category_data['is_fraud_label'] = merchant_category_data['is_fraud'].map({1: 'Fraud', 0: 'Legitimate', -1: 'Unknown'})\n",
    "merchant_category_data['high_risk_mcc_label'] = merchant_category_data['high_risk_mcc'].map({1: 'High Risk', 0: 'Normal'})\n",
    "\n",
    "# Format date column\n",
    "merchant_category_data['date'] = pd.to_datetime(merchant_category_data['date']).dt.strftime('%Y-%m-%d %H:%M:%S')\n",
    "\n",
    "# Save to CSV\n",
    "merchant_category_data.to_csv('/kaggle/working/merchant_category_analysis_data.csv', index=False)\n",
    "\n",
    "print(\"Merchant category analysis data saved to 'merchant_category_analysis_data.csv'\")"
   ]
  },
  {
   "cell_type": "code",
   "execution_count": 80,
   "id": "c19d7144",
   "metadata": {
    "execution": {
     "iopub.execute_input": "2025-02-12T21:56:30.152036Z",
     "iopub.status.busy": "2025-02-12T21:56:30.151698Z",
     "iopub.status.idle": "2025-02-12T21:56:30.541537Z",
     "shell.execute_reply": "2025-02-12T21:56:30.540224Z"
    },
    "papermill": {
     "duration": 3.722198,
     "end_time": "2025-02-12T21:56:30.543442",
     "exception": false,
     "start_time": "2025-02-12T21:56:26.821244",
     "status": "completed"
    },
    "tags": []
   },
   "outputs": [
    {
     "name": "stdout",
     "output_type": "stream",
     "text": [
      "Autoencoder model saved to 'autoencoder_model.keras'\n"
     ]
    }
   ],
   "source": [
    "# Assuming 'autoencoder' is your trained Keras model\n",
    "\n",
    "# Option 1: Save in HDF5 format\n",
    "autoencoder.save('/kaggle/working/autoencoder_model.keras')\n",
    "\n",
    "print(\"Autoencoder model saved to 'autoencoder_model.keras'\")"
   ]
  },
  {
   "cell_type": "code",
   "execution_count": null,
   "id": "48328ce8",
   "metadata": {
    "papermill": {
     "duration": 3.341888,
     "end_time": "2025-02-12T21:56:37.054440",
     "exception": false,
     "start_time": "2025-02-12T21:56:33.712552",
     "status": "completed"
    },
    "tags": []
   },
   "outputs": [],
   "source": []
  },
  {
   "cell_type": "code",
   "execution_count": null,
   "id": "8fbbb837",
   "metadata": {
    "papermill": {
     "duration": 3.171179,
     "end_time": "2025-02-12T21:56:43.565694",
     "exception": false,
     "start_time": "2025-02-12T21:56:40.394515",
     "status": "completed"
    },
    "tags": []
   },
   "outputs": [],
   "source": []
  },
  {
   "cell_type": "code",
   "execution_count": null,
   "id": "549cbc75",
   "metadata": {
    "papermill": {
     "duration": 3.235221,
     "end_time": "2025-02-12T21:56:50.101985",
     "exception": false,
     "start_time": "2025-02-12T21:56:46.866764",
     "status": "completed"
    },
    "tags": []
   },
   "outputs": [],
   "source": []
  },
  {
   "cell_type": "code",
   "execution_count": null,
   "id": "2c4bfc9c",
   "metadata": {
    "papermill": {
     "duration": 3.166235,
     "end_time": "2025-02-12T21:56:56.454115",
     "exception": false,
     "start_time": "2025-02-12T21:56:53.287880",
     "status": "completed"
    },
    "tags": []
   },
   "outputs": [],
   "source": []
  }
 ],
 "metadata": {
  "kaggle": {
   "accelerator": "none",
   "dataSources": [
    {
     "datasetId": 5988050,
     "sourceId": 9775239,
     "sourceType": "datasetVersion"
    }
   ],
   "dockerImageVersionId": 30886,
   "isGpuEnabled": false,
   "isInternetEnabled": true,
   "language": "python",
   "sourceType": "notebook"
  },
  "kernelspec": {
   "display_name": "Python 3",
   "language": "python",
   "name": "python3"
  },
  "language_info": {
   "codemirror_mode": {
    "name": "ipython",
    "version": 3
   },
   "file_extension": ".py",
   "mimetype": "text/x-python",
   "name": "python",
   "nbconvert_exporter": "python",
   "pygments_lexer": "ipython3",
   "version": "3.10.12"
  },
  "papermill": {
   "default_parameters": {},
   "duration": 9843.490155,
   "end_time": "2025-02-12T21:57:03.185945",
   "environment_variables": {},
   "exception": null,
   "input_path": "__notebook__.ipynb",
   "output_path": "__notebook__.ipynb",
   "parameters": {},
   "start_time": "2025-02-12T19:12:59.695790",
   "version": "2.6.0"
  }
 },
 "nbformat": 4,
 "nbformat_minor": 5
}
