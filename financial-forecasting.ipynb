{
 "cells": [
  {
   "cell_type": "markdown",
   "id": "33112cce",
   "metadata": {
    "papermill": {
     "duration": 0.009918,
     "end_time": "2025-02-13T14:20:21.922052",
     "exception": false,
     "start_time": "2025-02-13T14:20:21.912134",
     "status": "completed"
    },
    "tags": []
   },
   "source": [
    "# Importing Libraries"
   ]
  },
  {
   "cell_type": "code",
   "execution_count": 1,
   "id": "48ed0371",
   "metadata": {
    "execution": {
     "iopub.execute_input": "2025-02-13T14:20:21.941606Z",
     "iopub.status.busy": "2025-02-13T14:20:21.941303Z",
     "iopub.status.idle": "2025-02-13T14:20:39.872189Z",
     "shell.execute_reply": "2025-02-13T14:20:39.870933Z"
    },
    "papermill": {
     "duration": 17.942273,
     "end_time": "2025-02-13T14:20:39.873782",
     "exception": false,
     "start_time": "2025-02-13T14:20:21.931509",
     "status": "completed"
    },
    "tags": []
   },
   "outputs": [],
   "source": [
    "# Data manipulation\n",
    "import pandas as pd\n",
    "import numpy as np\n",
    "\n",
    "# Data visualization\n",
    "import matplotlib.pyplot as plt\n",
    "import seaborn as sns\n",
    "\n",
    "# For time-series analysis\n",
    "import statsmodels.api as sm\n",
    "from statsmodels.tsa.stattools import adfuller\n",
    "from statsmodels.tsa.seasonal import seasonal_decompose\n",
    "\n",
    "# For ARIMA Model\n",
    "from statsmodels.tsa.arima.model import ARIMA\n",
    "\n",
    "# For Prophet Model\n",
    "from prophet import Prophet\n",
    "\n",
    "# For LSTM Model\n",
    "from sklearn.preprocessing import MinMaxScaler\n",
    "from tensorflow.keras.models import Sequential\n",
    "from tensorflow.keras.layers import Dense, LSTM\n",
    "\n",
    "# For model evaluation\n",
    "from sklearn.metrics import mean_squared_error\n",
    "\n",
    "# Ignore warnings\n",
    "import warnings\n",
    "warnings.filterwarnings('ignore')"
   ]
  },
  {
   "cell_type": "markdown",
   "id": "c72f712a",
   "metadata": {
    "papermill": {
     "duration": 0.008134,
     "end_time": "2025-02-13T14:20:39.890969",
     "exception": false,
     "start_time": "2025-02-13T14:20:39.882835",
     "status": "completed"
    },
    "tags": []
   },
   "source": [
    "# 2. Loading the Dataset"
   ]
  },
  {
   "cell_type": "code",
   "execution_count": 2,
   "id": "1a3246e0",
   "metadata": {
    "execution": {
     "iopub.execute_input": "2025-02-13T14:20:39.909389Z",
     "iopub.status.busy": "2025-02-13T14:20:39.908798Z",
     "iopub.status.idle": "2025-02-13T14:21:07.105246Z",
     "shell.execute_reply": "2025-02-13T14:21:07.103987Z"
    },
    "papermill": {
     "duration": 27.207481,
     "end_time": "2025-02-13T14:21:07.106956",
     "exception": false,
     "start_time": "2025-02-13T14:20:39.899475",
     "status": "completed"
    },
    "tags": []
   },
   "outputs": [],
   "source": [
    "# Load the transactions data\n",
    "transactions_df = pd.read_csv('/kaggle/input/transactions-fraud-datasets/transactions_data.csv')"
   ]
  },
  {
   "cell_type": "markdown",
   "id": "e097b1fc",
   "metadata": {
    "papermill": {
     "duration": 0.008303,
     "end_time": "2025-02-13T14:21:07.124599",
     "exception": false,
     "start_time": "2025-02-13T14:21:07.116296",
     "status": "completed"
    },
    "tags": []
   },
   "source": [
    "# 3. Data Preprocessing\n",
    "## 3.1. Inspecting the Data\n",
    "First, let's look at the first few rows of the dataset to understand its structure.\n",
    "\n"
   ]
  },
  {
   "cell_type": "code",
   "execution_count": 3,
   "id": "a2fa9736",
   "metadata": {
    "execution": {
     "iopub.execute_input": "2025-02-13T14:21:07.143541Z",
     "iopub.status.busy": "2025-02-13T14:21:07.143167Z",
     "iopub.status.idle": "2025-02-13T14:21:07.169944Z",
     "shell.execute_reply": "2025-02-13T14:21:07.169003Z"
    },
    "papermill": {
     "duration": 0.038141,
     "end_time": "2025-02-13T14:21:07.171569",
     "exception": false,
     "start_time": "2025-02-13T14:21:07.133428",
     "status": "completed"
    },
    "tags": []
   },
   "outputs": [
    {
     "data": {
      "text/html": [
       "<div>\n",
       "<style scoped>\n",
       "    .dataframe tbody tr th:only-of-type {\n",
       "        vertical-align: middle;\n",
       "    }\n",
       "\n",
       "    .dataframe tbody tr th {\n",
       "        vertical-align: top;\n",
       "    }\n",
       "\n",
       "    .dataframe thead th {\n",
       "        text-align: right;\n",
       "    }\n",
       "</style>\n",
       "<table border=\"1\" class=\"dataframe\">\n",
       "  <thead>\n",
       "    <tr style=\"text-align: right;\">\n",
       "      <th></th>\n",
       "      <th>id</th>\n",
       "      <th>date</th>\n",
       "      <th>client_id</th>\n",
       "      <th>card_id</th>\n",
       "      <th>amount</th>\n",
       "      <th>use_chip</th>\n",
       "      <th>merchant_id</th>\n",
       "      <th>merchant_city</th>\n",
       "      <th>merchant_state</th>\n",
       "      <th>zip</th>\n",
       "      <th>mcc</th>\n",
       "      <th>errors</th>\n",
       "    </tr>\n",
       "  </thead>\n",
       "  <tbody>\n",
       "    <tr>\n",
       "      <th>0</th>\n",
       "      <td>7475327</td>\n",
       "      <td>2010-01-01 00:01:00</td>\n",
       "      <td>1556</td>\n",
       "      <td>2972</td>\n",
       "      <td>$-77.00</td>\n",
       "      <td>Swipe Transaction</td>\n",
       "      <td>59935</td>\n",
       "      <td>Beulah</td>\n",
       "      <td>ND</td>\n",
       "      <td>58523.0</td>\n",
       "      <td>5499</td>\n",
       "      <td>NaN</td>\n",
       "    </tr>\n",
       "    <tr>\n",
       "      <th>1</th>\n",
       "      <td>7475328</td>\n",
       "      <td>2010-01-01 00:02:00</td>\n",
       "      <td>561</td>\n",
       "      <td>4575</td>\n",
       "      <td>$14.57</td>\n",
       "      <td>Swipe Transaction</td>\n",
       "      <td>67570</td>\n",
       "      <td>Bettendorf</td>\n",
       "      <td>IA</td>\n",
       "      <td>52722.0</td>\n",
       "      <td>5311</td>\n",
       "      <td>NaN</td>\n",
       "    </tr>\n",
       "    <tr>\n",
       "      <th>2</th>\n",
       "      <td>7475329</td>\n",
       "      <td>2010-01-01 00:02:00</td>\n",
       "      <td>1129</td>\n",
       "      <td>102</td>\n",
       "      <td>$80.00</td>\n",
       "      <td>Swipe Transaction</td>\n",
       "      <td>27092</td>\n",
       "      <td>Vista</td>\n",
       "      <td>CA</td>\n",
       "      <td>92084.0</td>\n",
       "      <td>4829</td>\n",
       "      <td>NaN</td>\n",
       "    </tr>\n",
       "    <tr>\n",
       "      <th>3</th>\n",
       "      <td>7475331</td>\n",
       "      <td>2010-01-01 00:05:00</td>\n",
       "      <td>430</td>\n",
       "      <td>2860</td>\n",
       "      <td>$200.00</td>\n",
       "      <td>Swipe Transaction</td>\n",
       "      <td>27092</td>\n",
       "      <td>Crown Point</td>\n",
       "      <td>IN</td>\n",
       "      <td>46307.0</td>\n",
       "      <td>4829</td>\n",
       "      <td>NaN</td>\n",
       "    </tr>\n",
       "    <tr>\n",
       "      <th>4</th>\n",
       "      <td>7475332</td>\n",
       "      <td>2010-01-01 00:06:00</td>\n",
       "      <td>848</td>\n",
       "      <td>3915</td>\n",
       "      <td>$46.41</td>\n",
       "      <td>Swipe Transaction</td>\n",
       "      <td>13051</td>\n",
       "      <td>Harwood</td>\n",
       "      <td>MD</td>\n",
       "      <td>20776.0</td>\n",
       "      <td>5813</td>\n",
       "      <td>NaN</td>\n",
       "    </tr>\n",
       "  </tbody>\n",
       "</table>\n",
       "</div>"
      ],
      "text/plain": [
       "        id                 date  client_id  card_id   amount  \\\n",
       "0  7475327  2010-01-01 00:01:00       1556     2972  $-77.00   \n",
       "1  7475328  2010-01-01 00:02:00        561     4575   $14.57   \n",
       "2  7475329  2010-01-01 00:02:00       1129      102   $80.00   \n",
       "3  7475331  2010-01-01 00:05:00        430     2860  $200.00   \n",
       "4  7475332  2010-01-01 00:06:00        848     3915   $46.41   \n",
       "\n",
       "            use_chip  merchant_id merchant_city merchant_state      zip   mcc  \\\n",
       "0  Swipe Transaction        59935        Beulah             ND  58523.0  5499   \n",
       "1  Swipe Transaction        67570    Bettendorf             IA  52722.0  5311   \n",
       "2  Swipe Transaction        27092         Vista             CA  92084.0  4829   \n",
       "3  Swipe Transaction        27092   Crown Point             IN  46307.0  4829   \n",
       "4  Swipe Transaction        13051       Harwood             MD  20776.0  5813   \n",
       "\n",
       "  errors  \n",
       "0    NaN  \n",
       "1    NaN  \n",
       "2    NaN  \n",
       "3    NaN  \n",
       "4    NaN  "
      ]
     },
     "execution_count": 3,
     "metadata": {},
     "output_type": "execute_result"
    }
   ],
   "source": [
    "transactions_df.head()"
   ]
  },
  {
   "cell_type": "markdown",
   "id": "b6bf9a48",
   "metadata": {
    "papermill": {
     "duration": 0.010887,
     "end_time": "2025-02-13T14:21:07.194618",
     "exception": false,
     "start_time": "2025-02-13T14:21:07.183731",
     "status": "completed"
    },
    "tags": []
   },
   "source": [
    "## 3.2. Dropping Unnecessary Columns\n",
    "As mentioned, we need to drop the 'error' column because it contains NaN values and doesn't contribute to our analysis."
   ]
  },
  {
   "cell_type": "code",
   "execution_count": 4,
   "id": "a914d1ea",
   "metadata": {
    "execution": {
     "iopub.execute_input": "2025-02-13T14:21:07.214555Z",
     "iopub.status.busy": "2025-02-13T14:21:07.214210Z",
     "iopub.status.idle": "2025-02-13T14:21:07.841609Z",
     "shell.execute_reply": "2025-02-13T14:21:07.840562Z"
    },
    "papermill": {
     "duration": 0.639249,
     "end_time": "2025-02-13T14:21:07.843440",
     "exception": false,
     "start_time": "2025-02-13T14:21:07.204191",
     "status": "completed"
    },
    "tags": []
   },
   "outputs": [],
   "source": [
    "transactions_df.drop('errors', axis=1, inplace=True)"
   ]
  },
  {
   "cell_type": "code",
   "execution_count": 5,
   "id": "ef419e3b",
   "metadata": {
    "execution": {
     "iopub.execute_input": "2025-02-13T14:21:07.863251Z",
     "iopub.status.busy": "2025-02-13T14:21:07.862913Z",
     "iopub.status.idle": "2025-02-13T14:21:07.875470Z",
     "shell.execute_reply": "2025-02-13T14:21:07.873738Z"
    },
    "papermill": {
     "duration": 0.024428,
     "end_time": "2025-02-13T14:21:07.877092",
     "exception": false,
     "start_time": "2025-02-13T14:21:07.852664",
     "status": "completed"
    },
    "tags": []
   },
   "outputs": [
    {
     "data": {
      "text/html": [
       "<div>\n",
       "<style scoped>\n",
       "    .dataframe tbody tr th:only-of-type {\n",
       "        vertical-align: middle;\n",
       "    }\n",
       "\n",
       "    .dataframe tbody tr th {\n",
       "        vertical-align: top;\n",
       "    }\n",
       "\n",
       "    .dataframe thead th {\n",
       "        text-align: right;\n",
       "    }\n",
       "</style>\n",
       "<table border=\"1\" class=\"dataframe\">\n",
       "  <thead>\n",
       "    <tr style=\"text-align: right;\">\n",
       "      <th></th>\n",
       "      <th>id</th>\n",
       "      <th>date</th>\n",
       "      <th>client_id</th>\n",
       "      <th>card_id</th>\n",
       "      <th>amount</th>\n",
       "      <th>use_chip</th>\n",
       "      <th>merchant_id</th>\n",
       "      <th>merchant_city</th>\n",
       "      <th>merchant_state</th>\n",
       "      <th>zip</th>\n",
       "      <th>mcc</th>\n",
       "    </tr>\n",
       "  </thead>\n",
       "  <tbody>\n",
       "    <tr>\n",
       "      <th>0</th>\n",
       "      <td>7475327</td>\n",
       "      <td>2010-01-01 00:01:00</td>\n",
       "      <td>1556</td>\n",
       "      <td>2972</td>\n",
       "      <td>$-77.00</td>\n",
       "      <td>Swipe Transaction</td>\n",
       "      <td>59935</td>\n",
       "      <td>Beulah</td>\n",
       "      <td>ND</td>\n",
       "      <td>58523.0</td>\n",
       "      <td>5499</td>\n",
       "    </tr>\n",
       "    <tr>\n",
       "      <th>1</th>\n",
       "      <td>7475328</td>\n",
       "      <td>2010-01-01 00:02:00</td>\n",
       "      <td>561</td>\n",
       "      <td>4575</td>\n",
       "      <td>$14.57</td>\n",
       "      <td>Swipe Transaction</td>\n",
       "      <td>67570</td>\n",
       "      <td>Bettendorf</td>\n",
       "      <td>IA</td>\n",
       "      <td>52722.0</td>\n",
       "      <td>5311</td>\n",
       "    </tr>\n",
       "    <tr>\n",
       "      <th>2</th>\n",
       "      <td>7475329</td>\n",
       "      <td>2010-01-01 00:02:00</td>\n",
       "      <td>1129</td>\n",
       "      <td>102</td>\n",
       "      <td>$80.00</td>\n",
       "      <td>Swipe Transaction</td>\n",
       "      <td>27092</td>\n",
       "      <td>Vista</td>\n",
       "      <td>CA</td>\n",
       "      <td>92084.0</td>\n",
       "      <td>4829</td>\n",
       "    </tr>\n",
       "    <tr>\n",
       "      <th>3</th>\n",
       "      <td>7475331</td>\n",
       "      <td>2010-01-01 00:05:00</td>\n",
       "      <td>430</td>\n",
       "      <td>2860</td>\n",
       "      <td>$200.00</td>\n",
       "      <td>Swipe Transaction</td>\n",
       "      <td>27092</td>\n",
       "      <td>Crown Point</td>\n",
       "      <td>IN</td>\n",
       "      <td>46307.0</td>\n",
       "      <td>4829</td>\n",
       "    </tr>\n",
       "    <tr>\n",
       "      <th>4</th>\n",
       "      <td>7475332</td>\n",
       "      <td>2010-01-01 00:06:00</td>\n",
       "      <td>848</td>\n",
       "      <td>3915</td>\n",
       "      <td>$46.41</td>\n",
       "      <td>Swipe Transaction</td>\n",
       "      <td>13051</td>\n",
       "      <td>Harwood</td>\n",
       "      <td>MD</td>\n",
       "      <td>20776.0</td>\n",
       "      <td>5813</td>\n",
       "    </tr>\n",
       "  </tbody>\n",
       "</table>\n",
       "</div>"
      ],
      "text/plain": [
       "        id                 date  client_id  card_id   amount  \\\n",
       "0  7475327  2010-01-01 00:01:00       1556     2972  $-77.00   \n",
       "1  7475328  2010-01-01 00:02:00        561     4575   $14.57   \n",
       "2  7475329  2010-01-01 00:02:00       1129      102   $80.00   \n",
       "3  7475331  2010-01-01 00:05:00        430     2860  $200.00   \n",
       "4  7475332  2010-01-01 00:06:00        848     3915   $46.41   \n",
       "\n",
       "            use_chip  merchant_id merchant_city merchant_state      zip   mcc  \n",
       "0  Swipe Transaction        59935        Beulah             ND  58523.0  5499  \n",
       "1  Swipe Transaction        67570    Bettendorf             IA  52722.0  5311  \n",
       "2  Swipe Transaction        27092         Vista             CA  92084.0  4829  \n",
       "3  Swipe Transaction        27092   Crown Point             IN  46307.0  4829  \n",
       "4  Swipe Transaction        13051       Harwood             MD  20776.0  5813  "
      ]
     },
     "execution_count": 5,
     "metadata": {},
     "output_type": "execute_result"
    }
   ],
   "source": [
    "transactions_df.head()"
   ]
  },
  {
   "cell_type": "markdown",
   "id": "58b832c9",
   "metadata": {
    "papermill": {
     "duration": 0.00855,
     "end_time": "2025-02-13T14:21:07.895305",
     "exception": false,
     "start_time": "2025-02-13T14:21:07.886755",
     "status": "completed"
    },
    "tags": []
   },
   "source": [
    "## 3.3. Handling Missing Values\n",
    "Check for any other missing values in the dataset."
   ]
  },
  {
   "cell_type": "code",
   "execution_count": 6,
   "id": "131e7393",
   "metadata": {
    "execution": {
     "iopub.execute_input": "2025-02-13T14:21:07.914244Z",
     "iopub.status.busy": "2025-02-13T14:21:07.913877Z",
     "iopub.status.idle": "2025-02-13T14:21:10.062828Z",
     "shell.execute_reply": "2025-02-13T14:21:10.061635Z"
    },
    "papermill": {
     "duration": 2.160083,
     "end_time": "2025-02-13T14:21:10.064155",
     "exception": false,
     "start_time": "2025-02-13T14:21:07.904072",
     "status": "completed"
    },
    "tags": []
   },
   "outputs": [
    {
     "data": {
      "text/plain": [
       "id                      0\n",
       "date                    0\n",
       "client_id               0\n",
       "card_id                 0\n",
       "amount                  0\n",
       "use_chip                0\n",
       "merchant_id             0\n",
       "merchant_city           0\n",
       "merchant_state    1563700\n",
       "zip               1652706\n",
       "mcc                     0\n",
       "dtype: int64"
      ]
     },
     "execution_count": 6,
     "metadata": {},
     "output_type": "execute_result"
    }
   ],
   "source": [
    "transactions_df.isnull().sum()"
   ]
  },
  {
   "cell_type": "markdown",
   "id": "0103c758",
   "metadata": {
    "papermill": {
     "duration": 0.008298,
     "end_time": "2025-02-13T14:21:10.082649",
     "exception": false,
     "start_time": "2025-02-13T14:21:10.074351",
     "status": "completed"
    },
    "tags": []
   },
   "source": [
    "* Action: If there are missing values in crucial columns, decide whether to drop those rows or fill them with appropriate values.\n",
    "For this analysis, since we're focusing on transaction amounts over time, ensure that the 'amount' and 'date' columns have no missing values."
   ]
  },
  {
   "cell_type": "code",
   "execution_count": 7,
   "id": "86fb8d93",
   "metadata": {
    "execution": {
     "iopub.execute_input": "2025-02-13T14:21:10.101029Z",
     "iopub.status.busy": "2025-02-13T14:21:10.100705Z",
     "iopub.status.idle": "2025-02-13T14:21:11.737882Z",
     "shell.execute_reply": "2025-02-13T14:21:11.736630Z"
    },
    "papermill": {
     "duration": 1.648539,
     "end_time": "2025-02-13T14:21:11.739552",
     "exception": false,
     "start_time": "2025-02-13T14:21:10.091013",
     "status": "completed"
    },
    "tags": []
   },
   "outputs": [],
   "source": [
    "# Drop rows with missing 'amount' or 'date'\n",
    "transactions_df.dropna(subset=['amount', 'date'], inplace=True)"
   ]
  },
  {
   "cell_type": "code",
   "execution_count": 8,
   "id": "1c82f6fc",
   "metadata": {
    "execution": {
     "iopub.execute_input": "2025-02-13T14:21:11.758692Z",
     "iopub.status.busy": "2025-02-13T14:21:11.758403Z",
     "iopub.status.idle": "2025-02-13T14:21:11.769109Z",
     "shell.execute_reply": "2025-02-13T14:21:11.768037Z"
    },
    "papermill": {
     "duration": 0.022116,
     "end_time": "2025-02-13T14:21:11.770995",
     "exception": false,
     "start_time": "2025-02-13T14:21:11.748879",
     "status": "completed"
    },
    "tags": []
   },
   "outputs": [
    {
     "data": {
      "text/html": [
       "<div>\n",
       "<style scoped>\n",
       "    .dataframe tbody tr th:only-of-type {\n",
       "        vertical-align: middle;\n",
       "    }\n",
       "\n",
       "    .dataframe tbody tr th {\n",
       "        vertical-align: top;\n",
       "    }\n",
       "\n",
       "    .dataframe thead th {\n",
       "        text-align: right;\n",
       "    }\n",
       "</style>\n",
       "<table border=\"1\" class=\"dataframe\">\n",
       "  <thead>\n",
       "    <tr style=\"text-align: right;\">\n",
       "      <th></th>\n",
       "      <th>id</th>\n",
       "      <th>date</th>\n",
       "      <th>client_id</th>\n",
       "      <th>card_id</th>\n",
       "      <th>amount</th>\n",
       "      <th>use_chip</th>\n",
       "      <th>merchant_id</th>\n",
       "      <th>merchant_city</th>\n",
       "      <th>merchant_state</th>\n",
       "      <th>zip</th>\n",
       "      <th>mcc</th>\n",
       "    </tr>\n",
       "  </thead>\n",
       "  <tbody>\n",
       "    <tr>\n",
       "      <th>0</th>\n",
       "      <td>7475327</td>\n",
       "      <td>2010-01-01 00:01:00</td>\n",
       "      <td>1556</td>\n",
       "      <td>2972</td>\n",
       "      <td>$-77.00</td>\n",
       "      <td>Swipe Transaction</td>\n",
       "      <td>59935</td>\n",
       "      <td>Beulah</td>\n",
       "      <td>ND</td>\n",
       "      <td>58523.0</td>\n",
       "      <td>5499</td>\n",
       "    </tr>\n",
       "    <tr>\n",
       "      <th>1</th>\n",
       "      <td>7475328</td>\n",
       "      <td>2010-01-01 00:02:00</td>\n",
       "      <td>561</td>\n",
       "      <td>4575</td>\n",
       "      <td>$14.57</td>\n",
       "      <td>Swipe Transaction</td>\n",
       "      <td>67570</td>\n",
       "      <td>Bettendorf</td>\n",
       "      <td>IA</td>\n",
       "      <td>52722.0</td>\n",
       "      <td>5311</td>\n",
       "    </tr>\n",
       "    <tr>\n",
       "      <th>2</th>\n",
       "      <td>7475329</td>\n",
       "      <td>2010-01-01 00:02:00</td>\n",
       "      <td>1129</td>\n",
       "      <td>102</td>\n",
       "      <td>$80.00</td>\n",
       "      <td>Swipe Transaction</td>\n",
       "      <td>27092</td>\n",
       "      <td>Vista</td>\n",
       "      <td>CA</td>\n",
       "      <td>92084.0</td>\n",
       "      <td>4829</td>\n",
       "    </tr>\n",
       "    <tr>\n",
       "      <th>3</th>\n",
       "      <td>7475331</td>\n",
       "      <td>2010-01-01 00:05:00</td>\n",
       "      <td>430</td>\n",
       "      <td>2860</td>\n",
       "      <td>$200.00</td>\n",
       "      <td>Swipe Transaction</td>\n",
       "      <td>27092</td>\n",
       "      <td>Crown Point</td>\n",
       "      <td>IN</td>\n",
       "      <td>46307.0</td>\n",
       "      <td>4829</td>\n",
       "    </tr>\n",
       "    <tr>\n",
       "      <th>4</th>\n",
       "      <td>7475332</td>\n",
       "      <td>2010-01-01 00:06:00</td>\n",
       "      <td>848</td>\n",
       "      <td>3915</td>\n",
       "      <td>$46.41</td>\n",
       "      <td>Swipe Transaction</td>\n",
       "      <td>13051</td>\n",
       "      <td>Harwood</td>\n",
       "      <td>MD</td>\n",
       "      <td>20776.0</td>\n",
       "      <td>5813</td>\n",
       "    </tr>\n",
       "  </tbody>\n",
       "</table>\n",
       "</div>"
      ],
      "text/plain": [
       "        id                 date  client_id  card_id   amount  \\\n",
       "0  7475327  2010-01-01 00:01:00       1556     2972  $-77.00   \n",
       "1  7475328  2010-01-01 00:02:00        561     4575   $14.57   \n",
       "2  7475329  2010-01-01 00:02:00       1129      102   $80.00   \n",
       "3  7475331  2010-01-01 00:05:00        430     2860  $200.00   \n",
       "4  7475332  2010-01-01 00:06:00        848     3915   $46.41   \n",
       "\n",
       "            use_chip  merchant_id merchant_city merchant_state      zip   mcc  \n",
       "0  Swipe Transaction        59935        Beulah             ND  58523.0  5499  \n",
       "1  Swipe Transaction        67570    Bettendorf             IA  52722.0  5311  \n",
       "2  Swipe Transaction        27092         Vista             CA  92084.0  4829  \n",
       "3  Swipe Transaction        27092   Crown Point             IN  46307.0  4829  \n",
       "4  Swipe Transaction        13051       Harwood             MD  20776.0  5813  "
      ]
     },
     "execution_count": 8,
     "metadata": {},
     "output_type": "execute_result"
    }
   ],
   "source": [
    "transactions_df.head()"
   ]
  },
  {
   "cell_type": "markdown",
   "id": "fca2a537",
   "metadata": {
    "papermill": {
     "duration": 0.009133,
     "end_time": "2025-02-13T14:21:11.789936",
     "exception": false,
     "start_time": "2025-02-13T14:21:11.780803",
     "status": "completed"
    },
    "tags": []
   },
   "source": [
    "## 3.4. Data Type Conversions\n",
    "Convert the 'date' column to a datetime object and ensure 'amount' is numeric.\n",
    "#### 3.4.1. Cleaning the 'amount' Column\n",
    "Since the 'amount' column contains strings with dollar signs, we need to remove those before converting to numeric.\n",
    "\n",
    "Here's how to clean the 'amount' column:"
   ]
  },
  {
   "cell_type": "code",
   "execution_count": 9,
   "id": "4d6325d9",
   "metadata": {
    "execution": {
     "iopub.execute_input": "2025-02-13T14:21:11.811442Z",
     "iopub.status.busy": "2025-02-13T14:21:11.811090Z",
     "iopub.status.idle": "2025-02-13T14:21:20.638821Z",
     "shell.execute_reply": "2025-02-13T14:21:20.637529Z"
    },
    "papermill": {
     "duration": 8.840013,
     "end_time": "2025-02-13T14:21:20.640636",
     "exception": false,
     "start_time": "2025-02-13T14:21:11.800623",
     "status": "completed"
    },
    "tags": []
   },
   "outputs": [],
   "source": [
    "# Remove dollar signs and commas, then convert to float\n",
    "transactions_df['amount'] = transactions_df['amount'].replace('[\\$,]', '', regex=True).astype(float)"
   ]
  },
  {
   "cell_type": "code",
   "execution_count": 10,
   "id": "e49cc288",
   "metadata": {
    "execution": {
     "iopub.execute_input": "2025-02-13T14:21:20.661023Z",
     "iopub.status.busy": "2025-02-13T14:21:20.660699Z",
     "iopub.status.idle": "2025-02-13T14:21:20.665985Z",
     "shell.execute_reply": "2025-02-13T14:21:20.664947Z"
    },
    "papermill": {
     "duration": 0.017039,
     "end_time": "2025-02-13T14:21:20.667408",
     "exception": false,
     "start_time": "2025-02-13T14:21:20.650369",
     "status": "completed"
    },
    "tags": []
   },
   "outputs": [
    {
     "name": "stdout",
     "output_type": "stream",
     "text": [
      "0    -77.00\n",
      "1     14.57\n",
      "2     80.00\n",
      "3    200.00\n",
      "4     46.41\n",
      "Name: amount, dtype: float64\n"
     ]
    }
   ],
   "source": [
    "# Before cleaning\n",
    "print(transactions_df['amount'].head())"
   ]
  },
  {
   "cell_type": "code",
   "execution_count": 11,
   "id": "4e295022",
   "metadata": {
    "execution": {
     "iopub.execute_input": "2025-02-13T14:21:20.687899Z",
     "iopub.status.busy": "2025-02-13T14:21:20.687570Z",
     "iopub.status.idle": "2025-02-13T14:21:27.702546Z",
     "shell.execute_reply": "2025-02-13T14:21:27.701359Z"
    },
    "papermill": {
     "duration": 7.027103,
     "end_time": "2025-02-13T14:21:27.704318",
     "exception": false,
     "start_time": "2025-02-13T14:21:20.677215",
     "status": "completed"
    },
    "tags": []
   },
   "outputs": [],
   "source": [
    "transactions_df['date'] = pd.to_datetime(transactions_df['date'])"
   ]
  },
  {
   "cell_type": "code",
   "execution_count": 12,
   "id": "5bd183ce",
   "metadata": {
    "execution": {
     "iopub.execute_input": "2025-02-13T14:21:27.723980Z",
     "iopub.status.busy": "2025-02-13T14:21:27.723690Z",
     "iopub.status.idle": "2025-02-13T14:21:27.729668Z",
     "shell.execute_reply": "2025-02-13T14:21:27.728347Z"
    },
    "papermill": {
     "duration": 0.017562,
     "end_time": "2025-02-13T14:21:27.731427",
     "exception": false,
     "start_time": "2025-02-13T14:21:27.713865",
     "status": "completed"
    },
    "tags": []
   },
   "outputs": [
    {
     "name": "stdout",
     "output_type": "stream",
     "text": [
      "id                         int64\n",
      "date              datetime64[ns]\n",
      "client_id                  int64\n",
      "card_id                    int64\n",
      "amount                   float64\n",
      "use_chip                  object\n",
      "merchant_id                int64\n",
      "merchant_city             object\n",
      "merchant_state            object\n",
      "zip                      float64\n",
      "mcc                        int64\n",
      "dtype: object\n"
     ]
    }
   ],
   "source": [
    "print(transactions_df.dtypes)\n",
    "\n",
    "# Expected Output:\n",
    "# id                         int64\n",
    "# date              datetime64[ns]\n",
    "# client_id                  int64\n",
    "# card_id                    int64\n",
    "# amount                   float64\n",
    "# use_chip                  object\n",
    "# merchant_id                int64\n",
    "# merchant_city             object\n",
    "# merchant_state            object\n",
    "# zip                      float64\n",
    "# mcc                        int64\n",
    "# dtype: object"
   ]
  },
  {
   "cell_type": "code",
   "execution_count": 13,
   "id": "4f819a85",
   "metadata": {
    "execution": {
     "iopub.execute_input": "2025-02-13T14:21:27.752659Z",
     "iopub.status.busy": "2025-02-13T14:21:27.752240Z",
     "iopub.status.idle": "2025-02-13T14:21:28.252195Z",
     "shell.execute_reply": "2025-02-13T14:21:28.251438Z"
    },
    "papermill": {
     "duration": 0.51198,
     "end_time": "2025-02-13T14:21:28.253912",
     "exception": false,
     "start_time": "2025-02-13T14:21:27.741932",
     "status": "completed"
    },
    "tags": []
   },
   "outputs": [],
   "source": [
    "# Drop any remaining rows with missing 'amount' (if any)\n",
    "transactions_df.dropna(subset=['amount'], inplace=True)"
   ]
  },
  {
   "cell_type": "markdown",
   "id": "c35e82db",
   "metadata": {
    "papermill": {
     "duration": 0.009071,
     "end_time": "2025-02-13T14:21:28.272861",
     "exception": false,
     "start_time": "2025-02-13T14:21:28.263790",
     "status": "completed"
    },
    "tags": []
   },
   "source": [
    "## 4. Exploratory Data Analysis (EDA)\n",
    "### 4.1. Visualizing Spending Trends\n",
    "Let's aggregate the transaction amounts over time and visualize spending patterns.\n",
    "\n",
    "#### 4.1.1. Aggregate Amounts by Date\n",
    "Since we're interested in daily expenses, we'll group the data by date and sum the transaction amounts.\n",
    "\n",
    "Python\n",
    "\n"
   ]
  },
  {
   "cell_type": "code",
   "execution_count": 14,
   "id": "dff4eb3b",
   "metadata": {
    "execution": {
     "iopub.execute_input": "2025-02-13T14:21:28.292569Z",
     "iopub.status.busy": "2025-02-13T14:21:28.292183Z",
     "iopub.status.idle": "2025-02-13T14:21:29.763302Z",
     "shell.execute_reply": "2025-02-13T14:21:29.761910Z"
    },
    "papermill": {
     "duration": 1.482956,
     "end_time": "2025-02-13T14:21:29.765020",
     "exception": false,
     "start_time": "2025-02-13T14:21:28.282064",
     "status": "completed"
    },
    "tags": []
   },
   "outputs": [],
   "source": [
    "# Aggregate amounts by date\n",
    "daily_expenses = transactions_df.groupby('date')['amount'].sum().reset_index()\n",
    "\n",
    "# Set 'date' as the index\n",
    "daily_expenses.set_index('date', inplace=True)"
   ]
  },
  {
   "cell_type": "markdown",
   "id": "17064317",
   "metadata": {
    "papermill": {
     "duration": 0.008679,
     "end_time": "2025-02-13T14:21:29.783468",
     "exception": false,
     "start_time": "2025-02-13T14:21:29.774789",
     "status": "completed"
    },
    "tags": []
   },
   "source": [
    "#### 4.1.2. Plot Daily Expenses Over Time"
   ]
  },
  {
   "cell_type": "code",
   "execution_count": 15,
   "id": "8825b4f8",
   "metadata": {
    "execution": {
     "iopub.execute_input": "2025-02-13T14:21:29.802843Z",
     "iopub.status.busy": "2025-02-13T14:21:29.802495Z",
     "iopub.status.idle": "2025-02-13T14:21:30.726836Z",
     "shell.execute_reply": "2025-02-13T14:21:30.725226Z"
    },
    "papermill": {
     "duration": 0.935968,
     "end_time": "2025-02-13T14:21:30.728295",
     "exception": false,
     "start_time": "2025-02-13T14:21:29.792327",
     "status": "completed"
    },
    "tags": []
   },
   "outputs": [
    {
     "data": {
      "image/png": "[encoded data removed]",
      "text/plain": [
       "<Figure size 1400x600 with 1 Axes>"
      ]
     },
     "metadata": {},
     "output_type": "display_data"
    }
   ],
   "source": [
    "plt.figure(figsize=(14,6))\n",
    "plt.plot(daily_expenses.index, daily_expenses['amount'], color='blue')\n",
    "plt.title('Daily Expenses Over Time')\n",
    "plt.xlabel('Date')\n",
    "plt.ylabel('Total Amount Spent')\n",
    "plt.show()"
   ]
  },
  {
   "cell_type": "markdown",
   "id": "b8e2680b",
   "metadata": {
    "papermill": {
     "duration": 0.009801,
     "end_time": "2025-02-13T14:21:30.748707",
     "exception": false,
     "start_time": "2025-02-13T14:21:30.738906",
     "status": "completed"
    },
    "tags": []
   },
   "source": [
    "#### 4.1.3. Check for Seasonality and Trends\n",
    "Use seasonal decomposition to break down the time series into trend, seasonal, and residual components."
   ]
  },
  {
   "cell_type": "code",
   "execution_count": 16,
   "id": "527f8e42",
   "metadata": {
    "execution": {
     "iopub.execute_input": "2025-02-13T14:21:30.770510Z",
     "iopub.status.busy": "2025-02-13T14:21:30.770093Z",
     "iopub.status.idle": "2025-02-13T14:21:39.640658Z",
     "shell.execute_reply": "2025-02-13T14:21:39.639600Z"
    },
    "papermill": {
     "duration": 8.883291,
     "end_time": "2025-02-13T14:21:39.642116",
     "exception": false,
     "start_time": "2025-02-13T14:21:30.758825",
     "status": "completed"
    },
    "tags": []
   },
   "outputs": [
    {
     "data": {
      "image/png": "[encoded data removed]",
      "text/plain": [
       "<Figure size 640x480 with 4 Axes>"
      ]
     },
     "metadata": {},
     "output_type": "display_data"
    }
   ],
   "source": [
    "\n",
    "\n",
    "# Ensure the index is sorted\n",
    "daily_expenses.sort_index(inplace=True)\n",
    "\n",
    "# Decompose the time series\n",
    "decomposition = seasonal_decompose(daily_expenses['amount'], model='additive', period=30)\n",
    "decomposition.plot()\n",
    "plt.show()"
   ]
  },
  {
   "cell_type": "markdown",
   "id": "70d2df6e",
   "metadata": {
    "papermill": {
     "duration": 0.010379,
     "end_time": "2025-02-13T14:21:39.663693",
     "exception": false,
     "start_time": "2025-02-13T14:21:39.653314",
     "status": "completed"
    },
    "tags": []
   },
   "source": [
    "## 5. Time-Series Forecasting Preparation\n",
    "#### 5.1. Setting Up the Time Series\n",
    "Ensure that the data is in the correct format for time-series analysis."
   ]
  },
  {
   "cell_type": "code",
   "execution_count": 17,
   "id": "d0da4280",
   "metadata": {
    "execution": {
     "iopub.execute_input": "2025-02-13T14:21:39.685781Z",
     "iopub.status.busy": "2025-02-13T14:21:39.685484Z",
     "iopub.status.idle": "2025-02-13T14:21:39.689867Z",
     "shell.execute_reply": "2025-02-13T14:21:39.688637Z"
    },
    "papermill": {
     "duration": 0.016962,
     "end_time": "2025-02-13T14:21:39.691100",
     "exception": false,
     "start_time": "2025-02-13T14:21:39.674138",
     "status": "completed"
    },
    "tags": []
   },
   "outputs": [],
   "source": [
    "# Already have 'date' as index from previous step\n",
    "ts_data = daily_expenses['amount']"
   ]
  },
  {
   "cell_type": "code",
   "execution_count": 18,
   "id": "ae784f1e",
   "metadata": {
    "execution": {
     "iopub.execute_input": "2025-02-13T14:21:39.716316Z",
     "iopub.status.busy": "2025-02-13T14:21:39.715889Z",
     "iopub.status.idle": "2025-02-13T14:21:40.272892Z",
     "shell.execute_reply": "2025-02-13T14:21:40.271711Z"
    },
    "papermill": {
     "duration": 0.571831,
     "end_time": "2025-02-13T14:21:40.274585",
     "exception": false,
     "start_time": "2025-02-13T14:21:39.702754",
     "status": "completed"
    },
    "tags": []
   },
   "outputs": [],
   "source": [
    "# Resample the data to ensure continuity (fill missing dates with 0 or NaN)\n",
    "ts_data = ts_data.asfreq('D')\n",
    "\n",
    "# Fill missing values with 0 (assuming no expenses on missing dates)\n",
    "ts_data.fillna(0, inplace=True)"
   ]
  },
  {
   "cell_type": "markdown",
   "id": "4ab087eb",
   "metadata": {
    "papermill": {
     "duration": 0.010457,
     "end_time": "2025-02-13T14:21:40.296424",
     "exception": false,
     "start_time": "2025-02-13T14:21:40.285967",
     "status": "completed"
    },
    "tags": []
   },
   "source": [
    "## 6. Time-Series Forecasting Models\n",
    "We'll explore three models:\n",
    "\n",
    "\n",
    "* ARIMA Model\n",
    "* Facebook Prophet\n",
    "* ModelLSTM Neural Network\n",
    "\n"
   ]
  },
  {
   "cell_type": "markdown",
   "id": "88f51993",
   "metadata": {
    "papermill": {
     "duration": 0.010656,
     "end_time": "2025-02-13T14:21:40.317909",
     "exception": false,
     "start_time": "2025-02-13T14:21:40.307253",
     "status": "completed"
    },
    "tags": []
   },
   "source": [
    "### 6.1. ARIMA Model\n",
    "Autoregressive Integrated Moving Average (ARIMA) is a popular statistical method for time-series forecasting.\n",
    "\n",
    "##### 6.1.1. Stationarity Check with Augmented Dickey-Fuller Test\n",
    "Before applying ARIMA, we need to check if the time series is stationary."
   ]
  },
  {
   "cell_type": "code",
   "execution_count": 19,
   "id": "c454e00e",
   "metadata": {
    "execution": {
     "iopub.execute_input": "2025-02-13T14:21:40.340370Z",
     "iopub.status.busy": "2025-02-13T14:21:40.339946Z",
     "iopub.status.idle": "2025-02-13T14:21:40.464302Z",
     "shell.execute_reply": "2025-02-13T14:21:40.463228Z"
    },
    "papermill": {
     "duration": 0.137438,
     "end_time": "2025-02-13T14:21:40.465989",
     "exception": false,
     "start_time": "2025-02-13T14:21:40.328551",
     "status": "completed"
    },
    "tags": []
   },
   "outputs": [
    {
     "name": "stdout",
     "output_type": "stream",
     "text": [
      "ADF Statistic: -59.4278576193679\n",
      "p-value: 0.0\n",
      "Reject the null hypothesis - Time series is stationary\n"
     ]
    }
   ],
   "source": [
    "def adfuller_test(series, signif=0.05):\n",
    "    result = adfuller(series)\n",
    "    adf_stat = result[0]\n",
    "    p_value = result[1]\n",
    "    print(f'ADF Statistic: {adf_stat}')\n",
    "    print(f'p-value: {p_value}')\n",
    "    if p_value <= signif:\n",
    "        print('Reject the null hypothesis - Time series is stationary')\n",
    "    else:\n",
    "        print('Fail to reject the null hypothesis - Time series is non-stationary')\n",
    "\n",
    "# Perform ADF test\n",
    "adfuller_test(ts_data)"
   ]
  },
  {
   "cell_type": "code",
   "execution_count": 20,
   "id": "013fa19f",
   "metadata": {
    "execution": {
     "iopub.execute_input": "2025-02-13T14:21:40.489818Z",
     "iopub.status.busy": "2025-02-13T14:21:40.489457Z",
     "iopub.status.idle": "2025-02-13T14:21:40.495795Z",
     "shell.execute_reply": "2025-02-13T14:21:40.494668Z"
    },
    "papermill": {
     "duration": 0.019533,
     "end_time": "2025-02-13T14:21:40.497194",
     "exception": false,
     "start_time": "2025-02-13T14:21:40.477661",
     "status": "completed"
    },
    "tags": []
   },
   "outputs": [],
   "source": [
    "ts_data_diff = ts_data.diff().dropna()"
   ]
  },
  {
   "cell_type": "code",
   "execution_count": 21,
   "id": "297f4b45",
   "metadata": {
    "execution": {
     "iopub.execute_input": "2025-02-13T14:21:40.520518Z",
     "iopub.status.busy": "2025-02-13T14:21:40.520103Z",
     "iopub.status.idle": "2025-02-13T14:21:40.616809Z",
     "shell.execute_reply": "2025-02-13T14:21:40.615689Z"
    },
    "papermill": {
     "duration": 0.109909,
     "end_time": "2025-02-13T14:21:40.618101",
     "exception": false,
     "start_time": "2025-02-13T14:21:40.508192",
     "status": "completed"
    },
    "tags": []
   },
   "outputs": [
    {
     "name": "stdout",
     "output_type": "stream",
     "text": [
      "ADF Statistic: -18.512410705026117\n",
      "p-value: 2.113721805959535e-30\n",
      "Reject the null hypothesis - Time series is stationary\n"
     ]
    }
   ],
   "source": [
    "adfuller_test(ts_data_diff)"
   ]
  },
  {
   "cell_type": "code",
   "execution_count": 22,
   "id": "0b6743c5",
   "metadata": {
    "execution": {
     "iopub.execute_input": "2025-02-13T14:21:40.687328Z",
     "iopub.status.busy": "2025-02-13T14:21:40.687006Z",
     "iopub.status.idle": "2025-02-13T14:21:41.131068Z",
     "shell.execute_reply": "2025-02-13T14:21:41.129737Z"
    },
    "papermill": {
     "duration": 0.503798,
     "end_time": "2025-02-13T14:21:41.132687",
     "exception": false,
     "start_time": "2025-02-13T14:21:40.628889",
     "status": "completed"
    },
    "tags": []
   },
   "outputs": [
    {
     "data": {
      "image/png": "[encoded data removed]",
      "text/plain": [
       "<Figure size 1000x500 with 1 Axes>"
      ]
     },
     "metadata": {},
     "output_type": "display_data"
    },
    {
     "data": {
      "image/png": "[encoded data removed]",
      "text/plain": [
       "<Figure size 1200x800 with 2 Axes>"
      ]
     },
     "metadata": {},
     "output_type": "display_data"
    }
   ],
   "source": [
    "from pandas.plotting import autocorrelation_plot\n",
    "\n",
    "# Autocorrelation Plot\n",
    "plt.figure(figsize=(10,5))\n",
    "autocorrelation_plot(ts_data_diff)\n",
    "plt.show()\n",
    "\n",
    "# ACF and PACF plots\n",
    "from statsmodels.graphics.tsaplots import plot_acf, plot_pacf\n",
    "\n",
    "fig, ax = plt.subplots(2,1, figsize=(12,8))\n",
    "plot_acf(ts_data_diff, lags=30, ax=ax[0])\n",
    "plot_pacf(ts_data_diff, lags=30, ax=ax[1])\n",
    "plt.show()"
   ]
  },
  {
   "cell_type": "markdown",
   "id": "a28c042d",
   "metadata": {
    "papermill": {
     "duration": 0.013214,
     "end_time": "2025-02-13T14:21:41.158703",
     "exception": false,
     "start_time": "2025-02-13T14:21:41.145489",
     "status": "completed"
    },
    "tags": []
   },
   "source": [
    "#### 6.1.4. Building and Training the ARIMA Model\n",
    "We'll use the ARIMA(p,d,q) model, where:\n",
    "\n",
    "\n",
    "* p = order of the AR term\n",
    "* d = number of differences\n",
    "* q = order of the MA termFor simplicity, let's assume p=5, d=1, q=0.\n"
   ]
  },
  {
   "cell_type": "markdown",
   "id": "6fdee549",
   "metadata": {
    "papermill": {
     "duration": 0.012182,
     "end_time": "2025-02-13T14:21:41.183419",
     "exception": false,
     "start_time": "2025-02-13T14:21:41.171237",
     "status": "completed"
    },
    "tags": []
   },
   "source": [
    "### Split Data into Training and Testing Sets"
   ]
  },
  {
   "cell_type": "code",
   "execution_count": 23,
   "id": "279bfc3a",
   "metadata": {
    "execution": {
     "iopub.execute_input": "2025-02-13T14:21:41.209728Z",
     "iopub.status.busy": "2025-02-13T14:21:41.209415Z",
     "iopub.status.idle": "2025-02-13T14:21:41.213869Z",
     "shell.execute_reply": "2025-02-13T14:21:41.212896Z"
    },
    "papermill": {
     "duration": 0.019686,
     "end_time": "2025-02-13T14:21:41.215519",
     "exception": false,
     "start_time": "2025-02-13T14:21:41.195833",
     "status": "completed"
    },
    "tags": []
   },
   "outputs": [],
   "source": [
    "# Define train and test sizes\n",
    "train_size = int(len(ts_data) * 0.8)\n",
    "train_data = ts_data[:train_size]\n",
    "test_data = ts_data[train_size:]"
   ]
  },
  {
   "cell_type": "code",
   "execution_count": 24,
   "id": "0e4ac616",
   "metadata": {
    "execution": {
     "iopub.execute_input": "2025-02-13T14:21:41.241838Z",
     "iopub.status.busy": "2025-02-13T14:21:41.241565Z",
     "iopub.status.idle": "2025-02-13T14:21:41.483349Z",
     "shell.execute_reply": "2025-02-13T14:21:41.482096Z"
    },
    "papermill": {
     "duration": 0.256603,
     "end_time": "2025-02-13T14:21:41.484791",
     "exception": false,
     "start_time": "2025-02-13T14:21:41.228188",
     "status": "completed"
    },
    "tags": []
   },
   "outputs": [
    {
     "name": "stdout",
     "output_type": "stream",
     "text": [
      "                               SARIMAX Results                                \n",
      "==============================================================================\n",
      "Dep. Variable:                 amount   No. Observations:                 2872\n",
      "Model:                 ARIMA(5, 1, 0)   Log Likelihood              -16548.419\n",
      "Date:                Thu, 13 Feb 2025   AIC                          33108.837\n",
      "Time:                        14:21:41   BIC                          33144.612\n",
      "Sample:                    01-01-2010   HQIC                         33121.734\n",
      "                         - 11-11-2017                                         \n",
      "Covariance Type:                  opg                                         \n",
      "==============================================================================\n",
      "                 coef    std err          z      P>|z|      [0.025      0.975]\n",
      "------------------------------------------------------------------------------\n",
      "ar.L1         -0.8489      0.017    -49.841      0.000      -0.882      -0.816\n",
      "ar.L2         -0.6839      0.021    -33.224      0.000      -0.724      -0.644\n",
      "ar.L3         -0.5179      0.021    -24.114      0.000      -0.560      -0.476\n",
      "ar.L4         -0.3449      0.021    -16.539      0.000      -0.386      -0.304\n",
      "ar.L5         -0.1798      0.014    -12.618      0.000      -0.208      -0.152\n",
      "sigma2      5940.2582     61.573     96.475      0.000    5819.577    6060.939\n",
      "===================================================================================\n",
      "Ljung-Box (L1) (Q):                   1.53   Jarque-Bera (JB):             16753.88\n",
      "Prob(Q):                              0.22   Prob(JB):                         0.00\n",
      "Heteroskedasticity (H):               0.80   Skew:                             1.62\n",
      "Prob(H) (two-sided):                  0.00   Kurtosis:                        14.38\n",
      "===================================================================================\n",
      "\n",
      "Warnings:\n",
      "[1] Covariance matrix calculated using the outer product of gradients (complex-step).\n"
     ]
    }
   ],
   "source": [
    "# Build the ARIMA model (order can be optimized)\n",
    "model_arima = ARIMA(train_data, order=(5,1,0))\n",
    "model_arima_fit = model_arima.fit()\n",
    "print(model_arima_fit.summary())"
   ]
  },
  {
   "cell_type": "code",
   "execution_count": 25,
   "id": "6f6ed7be",
   "metadata": {
    "execution": {
     "iopub.execute_input": "2025-02-13T14:21:41.512844Z",
     "iopub.status.busy": "2025-02-13T14:21:41.512481Z",
     "iopub.status.idle": "2025-02-13T14:21:41.533891Z",
     "shell.execute_reply": "2025-02-13T14:21:41.532564Z"
    },
    "papermill": {
     "duration": 0.036995,
     "end_time": "2025-02-13T14:21:41.535736",
     "exception": false,
     "start_time": "2025-02-13T14:21:41.498741",
     "status": "completed"
    },
    "tags": []
   },
   "outputs": [],
   "source": [
    "# Forecast on the test data\n",
    "forecast_arima = model_arima_fit.forecast(steps=len(test_data))"
   ]
  },
  {
   "cell_type": "markdown",
   "id": "a624b6f1",
   "metadata": {
    "papermill": {
     "duration": 0.012323,
     "end_time": "2025-02-13T14:21:41.560819",
     "exception": false,
     "start_time": "2025-02-13T14:21:41.548496",
     "status": "completed"
    },
    "tags": []
   },
   "source": [
    "### 6.2. Facebook Prophet Model\n",
    "Prophet is a time-series forecasting tool developed by Facebook, which is intuitive and handles seasonality well.\n",
    "\n",
    "#### 6.2.1. Preparing Data for Prophet\n",
    "Prophet requires a DataFrame with two columns: 'ds' (datetime) and 'y' (metric to forecast)."
   ]
  },
  {
   "cell_type": "code",
   "execution_count": 26,
   "id": "d6015792",
   "metadata": {
    "execution": {
     "iopub.execute_input": "2025-02-13T14:21:41.586767Z",
     "iopub.status.busy": "2025-02-13T14:21:41.586476Z",
     "iopub.status.idle": "2025-02-13T14:21:41.591127Z",
     "shell.execute_reply": "2025-02-13T14:21:41.590344Z"
    },
    "papermill": {
     "duration": 0.019595,
     "end_time": "2025-02-13T14:21:41.592764",
     "exception": false,
     "start_time": "2025-02-13T14:21:41.573169",
     "status": "completed"
    },
    "tags": []
   },
   "outputs": [],
   "source": [
    "prophet_df = ts_data.reset_index().rename(columns={'date':'ds', 'amount':'y'})"
   ]
  },
  {
   "cell_type": "markdown",
   "id": "4add54d8",
   "metadata": {
    "papermill": {
     "duration": 0.012954,
     "end_time": "2025-02-13T14:21:41.618479",
     "exception": false,
     "start_time": "2025-02-13T14:21:41.605525",
     "status": "completed"
    },
    "tags": []
   },
   "source": [
    "#### 6.2.2. Training the Prophet Model\n"
   ]
  },
  {
   "cell_type": "code",
   "execution_count": 27,
   "id": "25e29ca6",
   "metadata": {
    "execution": {
     "iopub.execute_input": "2025-02-13T14:21:41.643944Z",
     "iopub.status.busy": "2025-02-13T14:21:41.643651Z",
     "iopub.status.idle": "2025-02-13T14:21:42.437856Z",
     "shell.execute_reply": "2025-02-13T14:21:42.436813Z"
    },
    "papermill": {
     "duration": 0.808969,
     "end_time": "2025-02-13T14:21:42.439332",
     "exception": false,
     "start_time": "2025-02-13T14:21:41.630363",
     "status": "completed"
    },
    "tags": []
   },
   "outputs": [
    {
     "name": "stderr",
     "output_type": "stream",
     "text": [
      "14:21:42 - cmdstanpy - INFO - Chain [1] start processing\n",
      "14:21:42 - cmdstanpy - INFO - Chain [1] done processing\n"
     ]
    },
    {
     "data": {
      "text/plain": [
       "<prophet.forecaster.Prophet at 0x7f62e5f279d0>"
      ]
     },
     "execution_count": 27,
     "metadata": {},
     "output_type": "execute_result"
    }
   ],
   "source": [
    "model_prophet = Prophet()\n",
    "model_prophet.fit(prophet_df)"
   ]
  },
  {
   "cell_type": "code",
   "execution_count": 28,
   "id": "0434b828",
   "metadata": {
    "execution": {
     "iopub.execute_input": "2025-02-13T14:21:42.467426Z",
     "iopub.status.busy": "2025-02-13T14:21:42.467071Z",
     "iopub.status.idle": "2025-02-13T14:21:42.473350Z",
     "shell.execute_reply": "2025-02-13T14:21:42.471818Z"
    },
    "papermill": {
     "duration": 0.022303,
     "end_time": "2025-02-13T14:21:42.474836",
     "exception": false,
     "start_time": "2025-02-13T14:21:42.452533",
     "status": "completed"
    },
    "tags": []
   },
   "outputs": [],
   "source": [
    "prophet_test = test_data.reset_index().rename(columns={'date':'ds'})"
   ]
  },
  {
   "cell_type": "code",
   "execution_count": 29,
   "id": "5599c48d",
   "metadata": {
    "execution": {
     "iopub.execute_input": "2025-02-13T14:21:42.501458Z",
     "iopub.status.busy": "2025-02-13T14:21:42.501019Z",
     "iopub.status.idle": "2025-02-13T14:21:42.612859Z",
     "shell.execute_reply": "2025-02-13T14:21:42.611655Z"
    },
    "papermill": {
     "duration": 0.127223,
     "end_time": "2025-02-13T14:21:42.614697",
     "exception": false,
     "start_time": "2025-02-13T14:21:42.487474",
     "status": "completed"
    },
    "tags": []
   },
   "outputs": [],
   "source": [
    "# Make predictions on the test set\n",
    "forecast_prophet = model_prophet.predict(prophet_test)"
   ]
  },
  {
   "cell_type": "markdown",
   "id": "02cb5d8d",
   "metadata": {
    "papermill": {
     "duration": 0.01204,
     "end_time": "2025-02-13T14:21:42.639669",
     "exception": false,
     "start_time": "2025-02-13T14:21:42.627629",
     "status": "completed"
    },
    "tags": []
   },
   "source": [
    "### 6.3. LSTM Neural Network\n",
    "Long Short-Term Memory (LSTM) networks are capable of learning order dependence in sequence prediction problems.\n",
    "\n",
    "#### 6.3.1. Data Preprocessing for LSTM\n",
    "Feature Scaling: LSTMs perform better with scaled data."
   ]
  },
  {
   "cell_type": "code",
   "execution_count": 30,
   "id": "9ce10068",
   "metadata": {
    "execution": {
     "iopub.execute_input": "2025-02-13T14:21:42.666906Z",
     "iopub.status.busy": "2025-02-13T14:21:42.666534Z",
     "iopub.status.idle": "2025-02-13T14:21:42.671878Z",
     "shell.execute_reply": "2025-02-13T14:21:42.670694Z"
    },
    "papermill": {
     "duration": 0.0215,
     "end_time": "2025-02-13T14:21:42.673227",
     "exception": false,
     "start_time": "2025-02-13T14:21:42.651727",
     "status": "completed"
    },
    "tags": []
   },
   "outputs": [],
   "source": [
    "# Convert to numpy array\n",
    "ts_values = ts_data.values.reshape(-1,1)\n",
    "\n",
    "# Feature Scaling\n",
    "scaler = MinMaxScaler(feature_range=(0,1))\n",
    "scaled_data = scaler.fit_transform(ts_values)"
   ]
  },
  {
   "cell_type": "code",
   "execution_count": 31,
   "id": "0e3850e1",
   "metadata": {
    "execution": {
     "iopub.execute_input": "2025-02-13T14:21:42.699230Z",
     "iopub.status.busy": "2025-02-13T14:21:42.698905Z",
     "iopub.status.idle": "2025-02-13T14:21:42.702868Z",
     "shell.execute_reply": "2025-02-13T14:21:42.702290Z"
    },
    "papermill": {
     "duration": 0.018138,
     "end_time": "2025-02-13T14:21:42.703991",
     "exception": false,
     "start_time": "2025-02-13T14:21:42.685853",
     "status": "completed"
    },
    "tags": []
   },
   "outputs": [],
   "source": [
    "def create_dataset(dataset, look_back=60):\n",
    "    X, Y = [], []\n",
    "    for i in range(len(dataset)-look_back):\n",
    "        X.append(dataset[i:i+look_back, 0])\n",
    "        Y.append(dataset[i+look_back, 0])\n",
    "    return np.array(X), np.array(Y)"
   ]
  },
  {
   "cell_type": "code",
   "execution_count": 32,
   "id": "973a28e7",
   "metadata": {
    "execution": {
     "iopub.execute_input": "2025-02-13T14:21:42.731387Z",
     "iopub.status.busy": "2025-02-13T14:21:42.731007Z",
     "iopub.status.idle": "2025-02-13T14:21:42.739793Z",
     "shell.execute_reply": "2025-02-13T14:21:42.738640Z"
    },
    "papermill": {
     "duration": 0.025071,
     "end_time": "2025-02-13T14:21:42.741551",
     "exception": false,
     "start_time": "2025-02-13T14:21:42.716480",
     "status": "completed"
    },
    "tags": []
   },
   "outputs": [],
   "source": [
    "look_back = 60\n",
    "X_lstm, y_lstm = create_dataset(scaled_data, look_back)\n",
    "\n",
    "# Split into training and testing sets\n",
    "train_size_lstm = int(len(X_lstm) * 0.8)\n",
    "X_train_lstm = X_lstm[:train_size_lstm]\n",
    "X_test_lstm = X_lstm[train_size_lstm:]\n",
    "y_train_lstm = y_lstm[:train_size_lstm]\n",
    "y_test_lstm = y_lstm[train_size_lstm:]"
   ]
  },
  {
   "cell_type": "code",
   "execution_count": 33,
   "id": "b9bcf7a2",
   "metadata": {
    "execution": {
     "iopub.execute_input": "2025-02-13T14:21:42.767692Z",
     "iopub.status.busy": "2025-02-13T14:21:42.767433Z",
     "iopub.status.idle": "2025-02-13T14:21:42.771755Z",
     "shell.execute_reply": "2025-02-13T14:21:42.770554Z"
    },
    "papermill": {
     "duration": 0.019428,
     "end_time": "2025-02-13T14:21:42.773639",
     "exception": false,
     "start_time": "2025-02-13T14:21:42.754211",
     "status": "completed"
    },
    "tags": []
   },
   "outputs": [],
   "source": [
    "# Reshape input to be [samples, time steps, features]\n",
    "X_train_lstm = np.reshape(X_train_lstm, (X_train_lstm.shape[0], X_train_lstm.shape[1], 1))\n",
    "X_test_lstm = np.reshape(X_test_lstm, (X_test_lstm.shape[0], X_test_lstm.shape[1], 1))"
   ]
  },
  {
   "cell_type": "code",
   "execution_count": 34,
   "id": "e01309fc",
   "metadata": {
    "execution": {
     "iopub.execute_input": "2025-02-13T14:21:42.800873Z",
     "iopub.status.busy": "2025-02-13T14:21:42.800572Z",
     "iopub.status.idle": "2025-02-13T14:21:42.914161Z",
     "shell.execute_reply": "2025-02-13T14:21:42.913003Z"
    },
    "papermill": {
     "duration": 0.129172,
     "end_time": "2025-02-13T14:21:42.915845",
     "exception": false,
     "start_time": "2025-02-13T14:21:42.786673",
     "status": "completed"
    },
    "tags": []
   },
   "outputs": [],
   "source": [
    "# Build the model\n",
    "model_lstm = Sequential()\n",
    "model_lstm.add(LSTM(128, return_sequences=True, input_shape=(look_back, 1)))\n",
    "model_lstm.add(LSTM(64))\n",
    "model_lstm.add(Dense(32))\n",
    "model_lstm.add(Dense(1))"
   ]
  },
  {
   "cell_type": "code",
   "execution_count": 35,
   "id": "e7181b61",
   "metadata": {
    "execution": {
     "iopub.execute_input": "2025-02-13T14:21:42.943880Z",
     "iopub.status.busy": "2025-02-13T14:21:42.943570Z",
     "iopub.status.idle": "2025-02-13T14:22:41.695812Z",
     "shell.execute_reply": "2025-02-13T14:22:41.694397Z"
    },
    "papermill": {
     "duration": 58.767871,
     "end_time": "2025-02-13T14:22:41.697706",
     "exception": false,
     "start_time": "2025-02-13T14:21:42.929835",
     "status": "completed"
    },
    "tags": []
   },
   "outputs": [
    {
     "name": "stdout",
     "output_type": "stream",
     "text": [
      "Epoch 1/10\n",
      "\u001b[1m89/89\u001b[0m \u001b[32m━━━━━━━━━━━━━━━━━━━━\u001b[0m\u001b[37m\u001b[0m \u001b[1m8s\u001b[0m 62ms/step - loss: 0.0143\n",
      "Epoch 2/10\n",
      "\u001b[1m89/89\u001b[0m \u001b[32m━━━━━━━━━━━━━━━━━━━━\u001b[0m\u001b[37m\u001b[0m \u001b[1m6s\u001b[0m 63ms/step - loss: 0.0022\n",
      "Epoch 3/10\n",
      "\u001b[1m89/89\u001b[0m \u001b[32m━━━━━━━━━━━━━━━━━━━━\u001b[0m\u001b[37m\u001b[0m \u001b[1m6s\u001b[0m 65ms/step - loss: 0.0027\n",
      "Epoch 4/10\n",
      "\u001b[1m89/89\u001b[0m \u001b[32m━━━━━━━━━━━━━━━━━━━━\u001b[0m\u001b[37m\u001b[0m \u001b[1m6s\u001b[0m 63ms/step - loss: 0.0024\n",
      "Epoch 5/10\n",
      "\u001b[1m89/89\u001b[0m \u001b[32m━━━━━━━━━━━━━━━━━━━━\u001b[0m\u001b[37m\u001b[0m \u001b[1m6s\u001b[0m 63ms/step - loss: 0.0027\n",
      "Epoch 6/10\n",
      "\u001b[1m89/89\u001b[0m \u001b[32m━━━━━━━━━━━━━━━━━━━━\u001b[0m\u001b[37m\u001b[0m \u001b[1m6s\u001b[0m 62ms/step - loss: 0.0028\n",
      "Epoch 7/10\n",
      "\u001b[1m89/89\u001b[0m \u001b[32m━━━━━━━━━━━━━━━━━━━━\u001b[0m\u001b[37m\u001b[0m \u001b[1m6s\u001b[0m 63ms/step - loss: 0.0022\n",
      "Epoch 8/10\n",
      "\u001b[1m89/89\u001b[0m \u001b[32m━━━━━━━━━━━━━━━━━━━━\u001b[0m\u001b[37m\u001b[0m \u001b[1m6s\u001b[0m 64ms/step - loss: 0.0025\n",
      "Epoch 9/10\n",
      "\u001b[1m89/89\u001b[0m \u001b[32m━━━━━━━━━━━━━━━━━━━━\u001b[0m\u001b[37m\u001b[0m \u001b[1m6s\u001b[0m 62ms/step - loss: 0.0026\n",
      "Epoch 10/10\n",
      "\u001b[1m89/89\u001b[0m \u001b[32m━━━━━━━━━━━━━━━━━━━━\u001b[0m\u001b[37m\u001b[0m \u001b[1m6s\u001b[0m 63ms/step - loss: 0.0026\n"
     ]
    },
    {
     "data": {
      "text/plain": [
       "<keras.src.callbacks.history.History at 0x7f62e5e837c0>"
      ]
     },
     "execution_count": 35,
     "metadata": {},
     "output_type": "execute_result"
    }
   ],
   "source": [
    "model_lstm.compile(optimizer='adam', loss='mean_squared_error')\n",
    "\n",
    "# Train the model\n",
    "model_lstm.fit(X_train_lstm, y_train_lstm, batch_size=32, epochs=10)"
   ]
  },
  {
   "cell_type": "markdown",
   "id": "bdf00764",
   "metadata": {
    "papermill": {
     "duration": 0.049427,
     "end_time": "2025-02-13T14:22:41.796417",
     "exception": false,
     "start_time": "2025-02-13T14:22:41.746990",
     "status": "completed"
    },
    "tags": []
   },
   "source": [
    "#### Model Evaluation\n"
   ]
  },
  {
   "cell_type": "code",
   "execution_count": 36,
   "id": "399af7a5",
   "metadata": {
    "execution": {
     "iopub.execute_input": "2025-02-13T14:22:41.895303Z",
     "iopub.status.busy": "2025-02-13T14:22:41.894973Z",
     "iopub.status.idle": "2025-02-13T14:22:41.900137Z",
     "shell.execute_reply": "2025-02-13T14:22:41.899204Z"
    },
    "papermill": {
     "duration": 0.055676,
     "end_time": "2025-02-13T14:22:41.901334",
     "exception": false,
     "start_time": "2025-02-13T14:22:41.845658",
     "status": "completed"
    },
    "tags": []
   },
   "outputs": [
    {
     "name": "stdout",
     "output_type": "stream",
     "text": [
      "ARIMA Model RMSE: 97.2150385816186\n"
     ]
    }
   ],
   "source": [
    "# Calculate RMSE for ARIMA\n",
    "mse_arima = mean_squared_error(test_data, forecast_arima)\n",
    "rmse_arima = np.sqrt(mse_arima)\n",
    "print(f'ARIMA Model RMSE: {rmse_arima}')"
   ]
  },
  {
   "cell_type": "code",
   "execution_count": 37,
   "id": "dbe37481",
   "metadata": {
    "execution": {
     "iopub.execute_input": "2025-02-13T14:22:41.997900Z",
     "iopub.status.busy": "2025-02-13T14:22:41.997609Z",
     "iopub.status.idle": "2025-02-13T14:22:42.002919Z",
     "shell.execute_reply": "2025-02-13T14:22:42.001763Z"
    },
    "papermill": {
     "duration": 0.054821,
     "end_time": "2025-02-13T14:22:42.004637",
     "exception": false,
     "start_time": "2025-02-13T14:22:41.949816",
     "status": "completed"
    },
    "tags": []
   },
   "outputs": [
    {
     "name": "stdout",
     "output_type": "stream",
     "text": [
      "Prophet Model RMSE: 90.8517287625861\n"
     ]
    }
   ],
   "source": [
    "# Extract Prophet predictions\n",
    "prophet_predictions = forecast_prophet['yhat'].values\n",
    "\n",
    "# Calculate RMSE for Prophet\n",
    "mse_prophet = mean_squared_error(test_data, prophet_predictions)\n",
    "rmse_prophet = np.sqrt(mse_prophet)\n",
    "print(f'Prophet Model RMSE: {rmse_prophet}')"
   ]
  },
  {
   "cell_type": "code",
   "execution_count": 38,
   "id": "fd866e5a",
   "metadata": {
    "execution": {
     "iopub.execute_input": "2025-02-13T14:22:42.103230Z",
     "iopub.status.busy": "2025-02-13T14:22:42.102874Z",
     "iopub.status.idle": "2025-02-13T14:22:43.107378Z",
     "shell.execute_reply": "2025-02-13T14:22:43.106341Z"
    },
    "papermill": {
     "duration": 1.055559,
     "end_time": "2025-02-13T14:22:43.108676",
     "exception": false,
     "start_time": "2025-02-13T14:22:42.053117",
     "status": "completed"
    },
    "tags": []
   },
   "outputs": [
    {
     "name": "stdout",
     "output_type": "stream",
     "text": [
      "\u001b[1m23/23\u001b[0m \u001b[32m━━━━━━━━━━━━━━━━━━━━\u001b[0m\u001b[37m\u001b[0m \u001b[1m1s\u001b[0m 33ms/step\n",
      "LSTM Model RMSE: 90.04336203997605\n"
     ]
    }
   ],
   "source": [
    "# Make predictions\n",
    "predictions_lstm = model_lstm.predict(X_test_lstm)\n",
    "predictions_lstm = scaler.inverse_transform(predictions_lstm)\n",
    "\n",
    "# Inverse transform the actual values\n",
    "y_test_lstm_actual = scaler.inverse_transform(y_test_lstm.reshape(-1,1))\n",
    "\n",
    "# Calculate RMSE for LSTM\n",
    "mse_lstm = mean_squared_error(y_test_lstm_actual, predictions_lstm)\n",
    "rmse_lstm = np.sqrt(mse_lstm)\n",
    "print(f'LSTM Model RMSE: {rmse_lstm}')"
   ]
  },
  {
   "cell_type": "code",
   "execution_count": 39,
   "id": "0a1c75dc",
   "metadata": {
    "execution": {
     "iopub.execute_input": "2025-02-13T14:22:43.208741Z",
     "iopub.status.busy": "2025-02-13T14:22:43.208420Z",
     "iopub.status.idle": "2025-02-13T14:22:43.213392Z",
     "shell.execute_reply": "2025-02-13T14:22:43.211954Z"
    },
    "papermill": {
     "duration": 0.058469,
     "end_time": "2025-02-13T14:22:43.214968",
     "exception": false,
     "start_time": "2025-02-13T14:22:43.156499",
     "status": "completed"
    },
    "tags": []
   },
   "outputs": [
    {
     "name": "stdout",
     "output_type": "stream",
     "text": [
      "ARIMA Model RMSE: 97.2150385816186\n",
      "Prophet Model RMSE: 90.8517287625861\n",
      "LSTM Model RMSE: 90.04336203997605\n"
     ]
    }
   ],
   "source": [
    "print(f'ARIMA Model RMSE: {rmse_arima}')\n",
    "print(f'Prophet Model RMSE: {rmse_prophet}')\n",
    "print(f'LSTM Model RMSE: {rmse_lstm}')"
   ]
  },
  {
   "cell_type": "markdown",
   "id": "10b0501a",
   "metadata": {
    "papermill": {
     "duration": 0.04717,
     "end_time": "2025-02-13T14:22:43.309734",
     "exception": false,
     "start_time": "2025-02-13T14:22:43.262564",
     "status": "completed"
    },
    "tags": []
   },
   "source": [
    "## 9. Visualizing Forecasted Expenses\n",
    "### 9.1. Plotting Actual vs Forecasted Expenses"
   ]
  },
  {
   "cell_type": "markdown",
   "id": "ede4edc4",
   "metadata": {
    "papermill": {
     "duration": 0.046976,
     "end_time": "2025-02-13T14:22:43.403197",
     "exception": false,
     "start_time": "2025-02-13T14:22:43.356221",
     "status": "completed"
    },
    "tags": []
   },
   "source": [
    "## 9. Plotting Actual vs Predicted Values"
   ]
  },
  {
   "cell_type": "code",
   "execution_count": 40,
   "id": "1aa86704",
   "metadata": {
    "execution": {
     "iopub.execute_input": "2025-02-13T14:22:43.499168Z",
     "iopub.status.busy": "2025-02-13T14:22:43.498855Z",
     "iopub.status.idle": "2025-02-13T14:22:43.503592Z",
     "shell.execute_reply": "2025-02-13T14:22:43.501871Z"
    },
    "papermill": {
     "duration": 0.054598,
     "end_time": "2025-02-13T14:22:43.505038",
     "exception": false,
     "start_time": "2025-02-13T14:22:43.450440",
     "status": "completed"
    },
    "tags": []
   },
   "outputs": [],
   "source": [
    "# For LSTM, adjust indices due to look_back\n",
    "dates = ts_data.index[look_back:]\n",
    "test_dates_lstm = dates[train_size_lstm - look_back:]"
   ]
  },
  {
   "cell_type": "code",
   "execution_count": 41,
   "id": "4e84559e",
   "metadata": {
    "execution": {
     "iopub.execute_input": "2025-02-13T14:22:43.603453Z",
     "iopub.status.busy": "2025-02-13T14:22:43.603129Z",
     "iopub.status.idle": "2025-02-13T14:22:43.837184Z",
     "shell.execute_reply": "2025-02-13T14:22:43.836025Z"
    },
    "papermill": {
     "duration": 0.2847,
     "end_time": "2025-02-13T14:22:43.838904",
     "exception": false,
     "start_time": "2025-02-13T14:22:43.554204",
     "status": "completed"
    },
    "tags": []
   },
   "outputs": [],
   "source": [
    "# Retrain ARIMA on full data\n",
    "model_arima_full = ARIMA(ts_data, order=(5,1,0))\n",
    "model_arima_full_fit = model_arima_full.fit()\n",
    "\n",
    "# Forecast future 30 days\n",
    "forecast_arima_full = model_arima_full_fit.forecast(steps=60)\n",
    "future_dates_arima = pd.date_range(start=ts_data.index[-1] + pd.Timedelta(days=1), periods=60)\n",
    "forecast_arima_df = pd.DataFrame({'date': future_dates_arima, 'forecasted_amount': forecast_arima_full})\n",
    "forecast_arima_df.set_index('date', inplace=True)"
   ]
  },
  {
   "cell_type": "code",
   "execution_count": 42,
   "id": "09e210ad",
   "metadata": {
    "execution": {
     "iopub.execute_input": "2025-02-13T14:22:43.934586Z",
     "iopub.status.busy": "2025-02-13T14:22:43.934230Z",
     "iopub.status.idle": "2025-02-13T14:22:44.551130Z",
     "shell.execute_reply": "2025-02-13T14:22:44.550327Z"
    },
    "papermill": {
     "duration": 0.666513,
     "end_time": "2025-02-13T14:22:44.552866",
     "exception": false,
     "start_time": "2025-02-13T14:22:43.886353",
     "status": "completed"
    },
    "tags": []
   },
   "outputs": [
    {
     "name": "stderr",
     "output_type": "stream",
     "text": [
      "14:22:44 - cmdstanpy - INFO - Chain [1] start processing\n",
      "14:22:44 - cmdstanpy - INFO - Chain [1] done processing\n"
     ]
    }
   ],
   "source": [
    "# Retrain Prophet on full data\n",
    "prophet_full = ts_data.reset_index().rename(columns={'date':'ds', 'amount':'y'})\n",
    "model_prophet_full = Prophet()\n",
    "model_prophet_full.fit(prophet_full)\n",
    "\n",
    "# Forecast future 30 days\n",
    "future_prophet_full = model_prophet_full.make_future_dataframe(periods=60)\n",
    "forecast_prophet_full = model_prophet_full.predict(future_prophet_full)\n",
    "forecast_prophet_future = forecast_prophet_full[['ds', 'yhat']].set_index('ds')\n",
    "forecast_prophet_future = forecast_prophet_future[~forecast_prophet_future.index.isin(ts_data.index)]"
   ]
  },
  {
   "cell_type": "code",
   "execution_count": 43,
   "id": "17f6c93c",
   "metadata": {
    "execution": {
     "iopub.execute_input": "2025-02-13T14:22:44.652535Z",
     "iopub.status.busy": "2025-02-13T14:22:44.652220Z",
     "iopub.status.idle": "2025-02-13T14:22:48.352895Z",
     "shell.execute_reply": "2025-02-13T14:22:48.351598Z"
    },
    "papermill": {
     "duration": 3.751992,
     "end_time": "2025-02-13T14:22:48.354727",
     "exception": false,
     "start_time": "2025-02-13T14:22:44.602735",
     "status": "completed"
    },
    "tags": []
   },
   "outputs": [
    {
     "name": "stdout",
     "output_type": "stream",
     "text": [
      "\u001b[1m1/1\u001b[0m \u001b[32m━━━━━━━━━━━━━━━━━━━━\u001b[0m\u001b[37m\u001b[0m \u001b[1m0s\u001b[0m 23ms/step\n",
      "\u001b[1m1/1\u001b[0m \u001b[32m━━━━━━━━━━━━━━━━━━━━\u001b[0m\u001b[37m\u001b[0m \u001b[1m0s\u001b[0m 24ms/step\n",
      "\u001b[1m1/1\u001b[0m \u001b[32m━━━━━━━━━━━━━━━━━━━━\u001b[0m\u001b[37m\u001b[0m \u001b[1m0s\u001b[0m 23ms/step\n",
      "\u001b[1m1/1\u001b[0m \u001b[32m━━━━━━━━━━━━━━━━━━━━\u001b[0m\u001b[37m\u001b[0m \u001b[1m0s\u001b[0m 22ms/step\n",
      "\u001b[1m1/1\u001b[0m \u001b[32m━━━━━━━━━━━━━━━━━━━━\u001b[0m\u001b[37m\u001b[0m \u001b[1m0s\u001b[0m 23ms/step\n",
      "\u001b[1m1/1\u001b[0m \u001b[32m━━━━━━━━━━━━━━━━━━━━\u001b[0m\u001b[37m\u001b[0m \u001b[1m0s\u001b[0m 24ms/step\n",
      "\u001b[1m1/1\u001b[0m \u001b[32m━━━━━━━━━━━━━━━━━━━━\u001b[0m\u001b[37m\u001b[0m \u001b[1m0s\u001b[0m 24ms/step\n",
      "\u001b[1m1/1\u001b[0m \u001b[32m━━━━━━━━━━━━━━━━━━━━\u001b[0m\u001b[37m\u001b[0m \u001b[1m0s\u001b[0m 23ms/step\n",
      "\u001b[1m1/1\u001b[0m \u001b[32m━━━━━━━━━━━━━━━━━━━━\u001b[0m\u001b[37m\u001b[0m \u001b[1m0s\u001b[0m 24ms/step\n",
      "\u001b[1m1/1\u001b[0m \u001b[32m━━━━━━━━━━━━━━━━━━━━\u001b[0m\u001b[37m\u001b[0m \u001b[1m0s\u001b[0m 22ms/step\n",
      "\u001b[1m1/1\u001b[0m \u001b[32m━━━━━━━━━━━━━━━━━━━━\u001b[0m\u001b[37m\u001b[0m \u001b[1m0s\u001b[0m 24ms/step\n",
      "\u001b[1m1/1\u001b[0m \u001b[32m━━━━━━━━━━━━━━━━━━━━\u001b[0m\u001b[37m\u001b[0m \u001b[1m0s\u001b[0m 22ms/step\n",
      "\u001b[1m1/1\u001b[0m \u001b[32m━━━━━━━━━━━━━━━━━━━━\u001b[0m\u001b[37m\u001b[0m \u001b[1m0s\u001b[0m 24ms/step\n",
      "\u001b[1m1/1\u001b[0m \u001b[32m━━━━━━━━━━━━━━━━━━━━\u001b[0m\u001b[37m\u001b[0m \u001b[1m0s\u001b[0m 24ms/step\n",
      "\u001b[1m1/1\u001b[0m \u001b[32m━━━━━━━━━━━━━━━━━━━━\u001b[0m\u001b[37m\u001b[0m \u001b[1m0s\u001b[0m 23ms/step\n",
      "\u001b[1m1/1\u001b[0m \u001b[32m━━━━━━━━━━━━━━━━━━━━\u001b[0m\u001b[37m\u001b[0m \u001b[1m0s\u001b[0m 23ms/step\n",
      "\u001b[1m1/1\u001b[0m \u001b[32m━━━━━━━━━━━━━━━━━━━━\u001b[0m\u001b[37m\u001b[0m \u001b[1m0s\u001b[0m 24ms/step\n",
      "\u001b[1m1/1\u001b[0m \u001b[32m━━━━━━━━━━━━━━━━━━━━\u001b[0m\u001b[37m\u001b[0m \u001b[1m0s\u001b[0m 22ms/step\n",
      "\u001b[1m1/1\u001b[0m \u001b[32m━━━━━━━━━━━━━━━━━━━━\u001b[0m\u001b[37m\u001b[0m \u001b[1m0s\u001b[0m 25ms/step\n",
      "\u001b[1m1/1\u001b[0m \u001b[32m━━━━━━━━━━━━━━━━━━━━\u001b[0m\u001b[37m\u001b[0m \u001b[1m0s\u001b[0m 24ms/step\n",
      "\u001b[1m1/1\u001b[0m \u001b[32m━━━━━━━━━━━━━━━━━━━━\u001b[0m\u001b[37m\u001b[0m \u001b[1m0s\u001b[0m 23ms/step\n",
      "\u001b[1m1/1\u001b[0m \u001b[32m━━━━━━━━━━━━━━━━━━━━\u001b[0m\u001b[37m\u001b[0m \u001b[1m0s\u001b[0m 23ms/step\n",
      "\u001b[1m1/1\u001b[0m \u001b[32m━━━━━━━━━━━━━━━━━━━━\u001b[0m\u001b[37m\u001b[0m \u001b[1m0s\u001b[0m 24ms/step\n",
      "\u001b[1m1/1\u001b[0m \u001b[32m━━━━━━━━━━━━━━━━━━━━\u001b[0m\u001b[37m\u001b[0m \u001b[1m0s\u001b[0m 22ms/step\n",
      "\u001b[1m1/1\u001b[0m \u001b[32m━━━━━━━━━━━━━━━━━━━━\u001b[0m\u001b[37m\u001b[0m \u001b[1m0s\u001b[0m 22ms/step\n",
      "\u001b[1m1/1\u001b[0m \u001b[32m━━━━━━━━━━━━━━━━━━━━\u001b[0m\u001b[37m\u001b[0m \u001b[1m0s\u001b[0m 24ms/step\n",
      "\u001b[1m1/1\u001b[0m \u001b[32m━━━━━━━━━━━━━━━━━━━━\u001b[0m\u001b[37m\u001b[0m \u001b[1m0s\u001b[0m 24ms/step\n",
      "\u001b[1m1/1\u001b[0m \u001b[32m━━━━━━━━━━━━━━━━━━━━\u001b[0m\u001b[37m\u001b[0m \u001b[1m0s\u001b[0m 22ms/step\n",
      "\u001b[1m1/1\u001b[0m \u001b[32m━━━━━━━━━━━━━━━━━━━━\u001b[0m\u001b[37m\u001b[0m \u001b[1m0s\u001b[0m 23ms/step\n",
      "\u001b[1m1/1\u001b[0m \u001b[32m━━━━━━━━━━━━━━━━━━━━\u001b[0m\u001b[37m\u001b[0m \u001b[1m0s\u001b[0m 22ms/step\n",
      "\u001b[1m1/1\u001b[0m \u001b[32m━━━━━━━━━━━━━━━━━━━━\u001b[0m\u001b[37m\u001b[0m \u001b[1m0s\u001b[0m 24ms/step\n",
      "\u001b[1m1/1\u001b[0m \u001b[32m━━━━━━━━━━━━━━━━━━━━\u001b[0m\u001b[37m\u001b[0m \u001b[1m0s\u001b[0m 23ms/step\n",
      "\u001b[1m1/1\u001b[0m \u001b[32m━━━━━━━━━━━━━━━━━━━━\u001b[0m\u001b[37m\u001b[0m \u001b[1m0s\u001b[0m 22ms/step\n",
      "\u001b[1m1/1\u001b[0m \u001b[32m━━━━━━━━━━━━━━━━━━━━\u001b[0m\u001b[37m\u001b[0m \u001b[1m0s\u001b[0m 24ms/step\n",
      "\u001b[1m1/1\u001b[0m \u001b[32m━━━━━━━━━━━━━━━━━━━━\u001b[0m\u001b[37m\u001b[0m \u001b[1m0s\u001b[0m 25ms/step\n",
      "\u001b[1m1/1\u001b[0m \u001b[32m━━━━━━━━━━━━━━━━━━━━\u001b[0m\u001b[37m\u001b[0m \u001b[1m0s\u001b[0m 24ms/step\n",
      "\u001b[1m1/1\u001b[0m \u001b[32m━━━━━━━━━━━━━━━━━━━━\u001b[0m\u001b[37m\u001b[0m \u001b[1m0s\u001b[0m 25ms/step\n",
      "\u001b[1m1/1\u001b[0m \u001b[32m━━━━━━━━━━━━━━━━━━━━\u001b[0m\u001b[37m\u001b[0m \u001b[1m0s\u001b[0m 25ms/step\n",
      "\u001b[1m1/1\u001b[0m \u001b[32m━━━━━━━━━━━━━━━━━━━━\u001b[0m\u001b[37m\u001b[0m \u001b[1m0s\u001b[0m 24ms/step\n",
      "\u001b[1m1/1\u001b[0m \u001b[32m━━━━━━━━━━━━━━━━━━━━\u001b[0m\u001b[37m\u001b[0m \u001b[1m0s\u001b[0m 23ms/step\n",
      "\u001b[1m1/1\u001b[0m \u001b[32m━━━━━━━━━━━━━━━━━━━━\u001b[0m\u001b[37m\u001b[0m \u001b[1m0s\u001b[0m 23ms/step\n",
      "\u001b[1m1/1\u001b[0m \u001b[32m━━━━━━━━━━━━━━━━━━━━\u001b[0m\u001b[37m\u001b[0m \u001b[1m0s\u001b[0m 23ms/step\n",
      "\u001b[1m1/1\u001b[0m \u001b[32m━━━━━━━━━━━━━━━━━━━━\u001b[0m\u001b[37m\u001b[0m \u001b[1m0s\u001b[0m 23ms/step\n",
      "\u001b[1m1/1\u001b[0m \u001b[32m━━━━━━━━━━━━━━━━━━━━\u001b[0m\u001b[37m\u001b[0m \u001b[1m0s\u001b[0m 22ms/step\n",
      "\u001b[1m1/1\u001b[0m \u001b[32m━━━━━━━━━━━━━━━━━━━━\u001b[0m\u001b[37m\u001b[0m \u001b[1m0s\u001b[0m 23ms/step\n",
      "\u001b[1m1/1\u001b[0m \u001b[32m━━━━━━━━━━━━━━━━━━━━\u001b[0m\u001b[37m\u001b[0m \u001b[1m0s\u001b[0m 23ms/step\n",
      "\u001b[1m1/1\u001b[0m \u001b[32m━━━━━━━━━━━━━━━━━━━━\u001b[0m\u001b[37m\u001b[0m \u001b[1m0s\u001b[0m 33ms/step\n",
      "\u001b[1m1/1\u001b[0m \u001b[32m━━━━━━━━━━━━━━━━━━━━\u001b[0m\u001b[37m\u001b[0m \u001b[1m0s\u001b[0m 26ms/step\n",
      "\u001b[1m1/1\u001b[0m \u001b[32m━━━━━━━━━━━━━━━━━━━━\u001b[0m\u001b[37m\u001b[0m \u001b[1m0s\u001b[0m 28ms/step\n",
      "\u001b[1m1/1\u001b[0m \u001b[32m━━━━━━━━━━━━━━━━━━━━\u001b[0m\u001b[37m\u001b[0m \u001b[1m0s\u001b[0m 27ms/step\n",
      "\u001b[1m1/1\u001b[0m \u001b[32m━━━━━━━━━━━━━━━━━━━━\u001b[0m\u001b[37m\u001b[0m \u001b[1m0s\u001b[0m 24ms/step\n",
      "\u001b[1m1/1\u001b[0m \u001b[32m━━━━━━━━━━━━━━━━━━━━\u001b[0m\u001b[37m\u001b[0m \u001b[1m0s\u001b[0m 25ms/step\n",
      "\u001b[1m1/1\u001b[0m \u001b[32m━━━━━━━━━━━━━━━━━━━━\u001b[0m\u001b[37m\u001b[0m \u001b[1m0s\u001b[0m 23ms/step\n",
      "\u001b[1m1/1\u001b[0m \u001b[32m━━━━━━━━━━━━━━━━━━━━\u001b[0m\u001b[37m\u001b[0m \u001b[1m0s\u001b[0m 24ms/step\n",
      "\u001b[1m1/1\u001b[0m \u001b[32m━━━━━━━━━━━━━━━━━━━━\u001b[0m\u001b[37m\u001b[0m \u001b[1m0s\u001b[0m 22ms/step\n",
      "\u001b[1m1/1\u001b[0m \u001b[32m━━━━━━━━━━━━━━━━━━━━\u001b[0m\u001b[37m\u001b[0m \u001b[1m0s\u001b[0m 23ms/step\n",
      "\u001b[1m1/1\u001b[0m \u001b[32m━━━━━━━━━━━━━━━━━━━━\u001b[0m\u001b[37m\u001b[0m \u001b[1m0s\u001b[0m 24ms/step\n",
      "\u001b[1m1/1\u001b[0m \u001b[32m━━━━━━━━━━━━━━━━━━━━\u001b[0m\u001b[37m\u001b[0m \u001b[1m0s\u001b[0m 23ms/step\n",
      "\u001b[1m1/1\u001b[0m \u001b[32m━━━━━━━━━━━━━━━━━━━━\u001b[0m\u001b[37m\u001b[0m \u001b[1m0s\u001b[0m 23ms/step\n",
      "\u001b[1m1/1\u001b[0m \u001b[32m━━━━━━━━━━━━━━━━━━━━\u001b[0m\u001b[37m\u001b[0m \u001b[1m0s\u001b[0m 22ms/step\n"
     ]
    }
   ],
   "source": [
    "# Forecast future 30 days with LSTM\n",
    "last_sequence = scaled_data[-look_back:]\n",
    "future_predictions = []\n",
    "current_sequence = last_sequence\n",
    "\n",
    "for _ in range(60):\n",
    "    pred = model_lstm.predict(current_sequence.reshape(1, look_back, 1))\n",
    "    future_predictions.append(pred[0,0])\n",
    "    current_sequence = np.append(current_sequence[1:], pred, axis=0)\n",
    "\n",
    "# Inverse transform predictions\n",
    "future_predictions_lstm = scaler.inverse_transform(np.array(future_predictions).reshape(-1,1))\n",
    "future_dates_lstm = pd.date_range(start=ts_data.index[-1] + pd.Timedelta(days=1), periods=60)\n",
    "forecast_lstm_df = pd.DataFrame({'date': future_dates_lstm, 'forecasted_amount': future_predictions_lstm.flatten()})\n",
    "forecast_lstm_df.set_index('date', inplace=True)"
   ]
  },
  {
   "cell_type": "code",
   "execution_count": 44,
   "id": "6783e512",
   "metadata": {
    "execution": {
     "iopub.execute_input": "2025-02-13T14:22:48.463684Z",
     "iopub.status.busy": "2025-02-13T14:22:48.463368Z",
     "iopub.status.idle": "2025-02-13T14:22:48.689907Z",
     "shell.execute_reply": "2025-02-13T14:22:48.688887Z"
    },
    "papermill": {
     "duration": 0.283347,
     "end_time": "2025-02-13T14:22:48.691510",
     "exception": false,
     "start_time": "2025-02-13T14:22:48.408163",
     "status": "completed"
    },
    "tags": []
   },
   "outputs": [
    {
     "data": {
      "image/png": "[encoded data removed]",
      "text/plain": [
       "<Figure size 1400x700 with 1 Axes>"
      ]
     },
     "metadata": {},
     "output_type": "display_data"
    }
   ],
   "source": [
    "# Determine the last date in the data\n",
    "end_date = ts_data.index[-1]\n",
    "\n",
    "# Determine the start date one year before the end date\n",
    "start_date = end_date - pd.DateOffset(years=1)\n",
    "\n",
    "# Subset the actual data to only include the last year's data\n",
    "ts_data_last_year = ts_data.loc[start_date:end_date]\n",
    "\n",
    "# Plotting\n",
    "plt.figure(figsize=(14,7))\n",
    "\n",
    "# Plot actual data (last year's data)\n",
    "plt.plot(ts_data_last_year.index, ts_data_last_year.values, label='Actual', color='black')\n",
    "\n",
    "# Plot ARIMA forecast\n",
    "plt.plot(forecast_arima_df.index, forecast_arima_df['forecasted_amount'], label='ARIMA Forecast', color='red')\n",
    "\n",
    "# Plot Prophet forecast\n",
    "plt.plot(forecast_prophet_future.index, forecast_prophet_future['yhat'], label='Prophet Forecast', color='green')\n",
    "\n",
    "# Plot LSTM forecast\n",
    "plt.plot(forecast_lstm_df.index, forecast_lstm_df['forecasted_amount'], label='LSTM Forecast', color='purple')\n",
    "\n",
    "# Customize the plot\n",
    "plt.title('Actual vs Forecasted Expenses (Last Year)')\n",
    "plt.xlabel('Date')\n",
    "plt.ylabel('Amount Spent')\n",
    "plt.legend()\n",
    "plt.grid(True)\n",
    "plt.show()\n"
   ]
  },
  {
   "cell_type": "code",
   "execution_count": 45,
   "id": "ab2a845a",
   "metadata": {
    "execution": {
     "iopub.execute_input": "2025-02-13T14:22:48.803912Z",
     "iopub.status.busy": "2025-02-13T14:22:48.803589Z",
     "iopub.status.idle": "2025-02-13T14:22:48.811992Z",
     "shell.execute_reply": "2025-02-13T14:22:48.810731Z"
    },
    "papermill": {
     "duration": 0.066159,
     "end_time": "2025-02-13T14:22:48.813690",
     "exception": false,
     "start_time": "2025-02-13T14:22:48.747531",
     "status": "completed"
    },
    "tags": []
   },
   "outputs": [
    {
     "name": "stdout",
     "output_type": "stream",
     "text": [
      "Creating directories...\n",
      "Created directory: /kaggle/working/financial_forecasting\n",
      "Created directory: /kaggle/working/financial_forecasting/data\n",
      "Created directory: /kaggle/working/financial_forecasting/models\n",
      "Created directory: /kaggle/working/financial_forecasting/analysis\n"
     ]
    }
   ],
   "source": [
    "import pandas as pd\n",
    "import numpy as np\n",
    "import tensorflow as tf\n",
    "from tensorflow.keras.models import load_model\n",
    "import joblib\n",
    "import json\n",
    "import os\n",
    "from datetime import datetime\n",
    "\n",
    "# Create directories\n",
    "print(\"Creating directories...\")\n",
    "base_dir = '/kaggle/working/financial_forecasting'\n",
    "dirs = [\n",
    "    f'{base_dir}',\n",
    "    f'{base_dir}/data',\n",
    "    f'{base_dir}/models',\n",
    "    f'{base_dir}/analysis'\n",
    "]\n",
    "\n",
    "for dir_path in dirs:\n",
    "    os.makedirs(dir_path, exist_ok=True)\n",
    "    print(f\"Created directory: {dir_path}\")"
   ]
  },
  {
   "cell_type": "code",
   "execution_count": 46,
   "id": "4e5acaed",
   "metadata": {
    "execution": {
     "iopub.execute_input": "2025-02-13T14:22:48.922627Z",
     "iopub.status.busy": "2025-02-13T14:22:48.922259Z",
     "iopub.status.idle": "2025-02-13T14:22:48.932078Z",
     "shell.execute_reply": "2025-02-13T14:22:48.931123Z"
    },
    "papermill": {
     "duration": 0.065261,
     "end_time": "2025-02-13T14:22:48.933897",
     "exception": false,
     "start_time": "2025-02-13T14:22:48.868636",
     "status": "completed"
    },
    "tags": []
   },
   "outputs": [
    {
     "name": "stdout",
     "output_type": "stream",
     "text": [
      "\n",
      "Step 2: Preparing daily expenses data...\n",
      "Daily expenses data shape: (4136496, 1)\n",
      "Date range: 2010-01-01 00:01:00 to 2019-10-31 23:59:00\n"
     ]
    }
   ],
   "source": [
    "print(\"\\nStep 2: Preparing daily expenses data...\")\n",
    "\n",
    "# Ensure daily_expenses has date as index and amount column\n",
    "if not isinstance(daily_expenses.index, pd.DatetimeIndex):\n",
    "    daily_expenses.index = pd.to_datetime(daily_expenses.index)\n",
    "\n",
    "# Sort index\n",
    "daily_expenses = daily_expenses.sort_index()\n",
    "\n",
    "# Print data info\n",
    "print(\"Daily expenses data shape:\", daily_expenses.shape)\n",
    "print(\"Date range:\", daily_expenses.index.min(), \"to\", daily_expenses.index.max())"
   ]
  },
  {
   "cell_type": "code",
   "execution_count": 47,
   "id": "eccb5d5b",
   "metadata": {
    "execution": {
     "iopub.execute_input": "2025-02-13T14:22:49.044407Z",
     "iopub.status.busy": "2025-02-13T14:22:49.044021Z",
     "iopub.status.idle": "2025-02-13T14:23:01.344082Z",
     "shell.execute_reply": "2025-02-13T14:23:01.343233Z"
    },
    "papermill": {
     "duration": 12.356325,
     "end_time": "2025-02-13T14:23:01.345698",
     "exception": false,
     "start_time": "2025-02-13T14:22:48.989373",
     "status": "completed"
    },
    "tags": []
   },
   "outputs": [
    {
     "name": "stdout",
     "output_type": "stream",
     "text": [
      "\n",
      "Step 3: Saving historical spending trends...\n",
      "Processing daily spending...\n",
      "Processing weekly spending...\n",
      "Processing monthly spending...\n"
     ]
    }
   ],
   "source": [
    "print(\"\\nStep 3: Saving historical spending trends...\")\n",
    "\n",
    "# 3.1 Daily Spending\n",
    "print(\"Processing daily spending...\")\n",
    "daily_spending = pd.DataFrame({\n",
    "    'date': daily_expenses.index,\n",
    "    'amount': daily_expenses['amount'],\n",
    "    'type': 'Daily'\n",
    "})\n",
    "daily_spending.to_csv(f'{base_dir}/data/daily_spending.csv', index=False)\n",
    "\n",
    "# 3.2 Weekly Spending\n",
    "print(\"Processing weekly spending...\")\n",
    "weekly_total = daily_expenses.resample('W')['amount'].sum()\n",
    "weekly_avg = daily_expenses.resample('W')['amount'].mean()\n",
    "weekly_std = daily_expenses.resample('W')['amount'].std()\n",
    "\n",
    "weekly_spending = pd.DataFrame({\n",
    "    'date': weekly_total.index,\n",
    "    'weekly_total': weekly_total.values,\n",
    "    'weekly_average': weekly_avg.values,\n",
    "    'weekly_std': weekly_std.values\n",
    "})\n",
    "weekly_spending.to_csv(f'{base_dir}/data/weekly_spending.csv', index=False)\n",
    "\n",
    "# 3.3 Monthly Spending\n",
    "print(\"Processing monthly spending...\")\n",
    "monthly_total = daily_expenses.resample('M')['amount'].sum()\n",
    "monthly_avg = daily_expenses.resample('M')['amount'].mean()\n",
    "monthly_std = daily_expenses.resample('M')['amount'].std()\n",
    "\n",
    "monthly_spending = pd.DataFrame({\n",
    "    'date': monthly_total.index,\n",
    "    'monthly_total': monthly_total.values,\n",
    "    'monthly_average': monthly_avg.values,\n",
    "    'monthly_std': monthly_std.values\n",
    "})\n",
    "monthly_spending.to_csv(f'{base_dir}/data/monthly_spending.csv', index=False)"
   ]
  },
  {
   "cell_type": "code",
   "execution_count": 48,
   "id": "24616623",
   "metadata": {
    "execution": {
     "iopub.execute_input": "2025-02-13T14:23:01.511695Z",
     "iopub.status.busy": "2025-02-13T14:23:01.511334Z",
     "iopub.status.idle": "2025-02-13T14:23:01.516778Z",
     "shell.execute_reply": "2025-02-13T14:23:01.515238Z"
    },
    "papermill": {
     "duration": 0.063407,
     "end_time": "2025-02-13T14:23:01.518438",
     "exception": false,
     "start_time": "2025-02-13T14:23:01.455031",
     "status": "completed"
    },
    "tags": []
   },
   "outputs": [],
   "source": [
    "# Ensure forecast_prophet_df is correctly defined\n",
    "forecast_prophet_df = forecast_prophet_future.rename(columns={'yhat': 'amount'})\n"
   ]
  },
  {
   "cell_type": "code",
   "execution_count": 49,
   "id": "377c6e09",
   "metadata": {
    "execution": {
     "iopub.execute_input": "2025-02-13T14:23:01.630521Z",
     "iopub.status.busy": "2025-02-13T14:23:01.630142Z",
     "iopub.status.idle": "2025-02-13T14:23:01.640151Z",
     "shell.execute_reply": "2025-02-13T14:23:01.638858Z"
    },
    "papermill": {
     "duration": 0.068197,
     "end_time": "2025-02-13T14:23:01.641907",
     "exception": false,
     "start_time": "2025-02-13T14:23:01.573710",
     "status": "completed"
    },
    "tags": []
   },
   "outputs": [
    {
     "name": "stdout",
     "output_type": "stream",
     "text": [
      "\n",
      "Step 4: Saving forecasting results...\n",
      "Verifying forecast data...\n",
      "Saved forecasting results\n"
     ]
    }
   ],
   "source": [
    "print(\"\\nStep 4: Saving forecasting results...\")\n",
    "\n",
    "# 4.1 Verify forecast data\n",
    "print(\"Verifying forecast data...\")\n",
    "required_vars = ['future_dates_arima', 'forecast_arima_full', \n",
    "                'forecast_prophet_df', 'future_predictions_lstm']\n",
    "                \n",
    "for var in required_vars:\n",
    "    if var not in globals():\n",
    "        print(f\"Warning: {var} not found!\")\n",
    "\n",
    "# 4.2 Prepare and save forecasting results\n",
    "try:\n",
    "    forecasting_results = pd.DataFrame({\n",
    "        'date': future_dates_arima,\n",
    "        'arima_forecast': forecast_arima_full,\n",
    "        'prophet_forecast': forecast_prophet_df['amount'].values,\n",
    "        'lstm_forecast': future_predictions_lstm.flatten()\n",
    "    })\n",
    "    forecasting_results.to_csv(f'{base_dir}/data/forecasting_results.csv', index=False)\n",
    "    print(\"Saved forecasting results\")\n",
    "except Exception as e:\n",
    "    print(f\"Error saving forecasting results: {str(e)}\")"
   ]
  },
  {
   "cell_type": "code",
   "execution_count": 50,
   "id": "aff390f9",
   "metadata": {
    "execution": {
     "iopub.execute_input": "2025-02-13T14:23:01.753158Z",
     "iopub.status.busy": "2025-02-13T14:23:01.752841Z",
     "iopub.status.idle": "2025-02-13T14:23:01.776211Z",
     "shell.execute_reply": "2025-02-13T14:23:01.775113Z"
    },
    "papermill": {
     "duration": 0.08002,
     "end_time": "2025-02-13T14:23:01.777640",
     "exception": false,
     "start_time": "2025-02-13T14:23:01.697620",
     "status": "completed"
    },
    "tags": []
   },
   "outputs": [
    {
     "name": "stdout",
     "output_type": "stream",
     "text": [
      "\n",
      "Step 5: Saving model comparisons...\n",
      "Length of test_data.index: 719\n",
      "Length of test_data.values: 719\n",
      "Length of forecast_arima: 719\n",
      "Length of prophet_predictions: 719\n",
      "Length of predictions_lstm.flatten(): 707\n",
      "Saved historical vs predicted comparison\n",
      "Saved model metrics\n"
     ]
    }
   ],
   "source": [
    "print(\"\\nStep 5: Saving model comparisons...\")\n",
    "\n",
    "# 5.1 Save historical vs predicted values\n",
    "try:\n",
    "    # Debugging lengths to ensure arrays match\n",
    "    print(f\"Length of test_data.index: {len(test_data.index)}\")\n",
    "    print(f\"Length of test_data.values: {len(test_data.values)}\")\n",
    "    print(f\"Length of forecast_arima: {len(forecast_arima)}\")\n",
    "    print(f\"Length of prophet_predictions: {len(prophet_predictions)}\")\n",
    "    print(f\"Length of predictions_lstm.flatten(): {len(predictions_lstm.flatten())}\")\n",
    "    \n",
    "    # Find the minimum length among all arrays\n",
    "    min_length = min(len(test_data.index), len(test_data.values), len(forecast_arima), \n",
    "                     len(prophet_predictions), len(predictions_lstm.flatten()))\n",
    "    \n",
    "    # Trim all arrays to the same length\n",
    "    historical_vs_predicted = pd.DataFrame({\n",
    "        'date': test_data.index[:min_length],\n",
    "        'actual': test_data.values[:min_length],\n",
    "        'arima_predicted': forecast_arima[:min_length],\n",
    "        'prophet_predicted': prophet_predictions[:min_length],\n",
    "        'lstm_predicted': predictions_lstm.flatten()[:min_length]\n",
    "    })\n",
    "    \n",
    "    # Save the trimmed DataFrame\n",
    "    historical_vs_predicted.to_csv(f'{base_dir}/data/historical_vs_predicted.csv', index=False)\n",
    "    print(\"Saved historical vs predicted comparison\")\n",
    "except Exception as e:\n",
    "    print(f\"Error saving model comparisons: {str(e)}\")\n",
    "\n",
    "# 5.2 Save model metrics\n",
    "try:\n",
    "    model_metrics = pd.DataFrame({\n",
    "        'model': ['ARIMA', 'Prophet', 'LSTM'],\n",
    "        'rmse': [rmse_arima, rmse_prophet, rmse_lstm],\n",
    "        'timestamp': datetime.now()\n",
    "    })\n",
    "    model_metrics.to_csv(f'{base_dir}/analysis/model_metrics.csv', index=False)\n",
    "    print(\"Saved model metrics\")\n",
    "except Exception as e:\n",
    "    print(f\"Error saving model metrics: {str(e)}\")\n"
   ]
  },
  {
   "cell_type": "code",
   "execution_count": 51,
   "id": "b3d66ffe",
   "metadata": {
    "execution": {
     "iopub.execute_input": "2025-02-13T14:23:01.890092Z",
     "iopub.status.busy": "2025-02-13T14:23:01.889748Z",
     "iopub.status.idle": "2025-02-13T14:23:02.006775Z",
     "shell.execute_reply": "2025-02-13T14:23:02.005405Z"
    },
    "papermill": {
     "duration": 0.175146,
     "end_time": "2025-02-13T14:23:02.008440",
     "exception": false,
     "start_time": "2025-02-13T14:23:01.833294",
     "status": "completed"
    },
    "tags": []
   },
   "outputs": [
    {
     "name": "stdout",
     "output_type": "stream",
     "text": [
      "\n",
      "Step 6: Saving statistical analysis...\n",
      "Saved statistical analysis\n"
     ]
    }
   ],
   "source": [
    "print(\"\\nStep 6: Saving statistical analysis...\")\n",
    "\n",
    "# 6.1 Calculate and save statistical measures\n",
    "try:\n",
    "    stats_analysis = pd.DataFrame({\n",
    "        'metric': [\n",
    "            'Total Days',\n",
    "            'Average Daily Amount',\n",
    "            'Total Amount',\n",
    "            'Standard Deviation',\n",
    "            'Minimum Amount',\n",
    "            'Maximum Amount',\n",
    "            'Number of Zero-Amount Days',\n",
    "            'Number of High-Amount Days (>95th percentile)',\n",
    "            'Data Start Date',\n",
    "            'Data End Date'\n",
    "        ],\n",
    "        'value': [\n",
    "            len(daily_expenses),\n",
    "            daily_expenses['amount'].mean(),\n",
    "            daily_expenses['amount'].sum(),\n",
    "            daily_expenses['amount'].std(),\n",
    "            daily_expenses['amount'].min(),\n",
    "            daily_expenses['amount'].max(),\n",
    "            (daily_expenses['amount'] == 0).sum(),\n",
    "            (daily_expenses['amount'] > daily_expenses['amount'].quantile(0.95)).sum(),\n",
    "            daily_expenses.index.min().strftime('%Y-%m-%d'),\n",
    "            daily_expenses.index.max().strftime('%Y-%m-%d')\n",
    "        ]\n",
    "    })\n",
    "    stats_analysis.to_csv(f'{base_dir}/analysis/statistical_analysis.csv', index=False)\n",
    "    print(\"Saved statistical analysis\")\n",
    "except Exception as e:\n",
    "    print(f\"Error saving statistical analysis: {str(e)}\")"
   ]
  },
  {
   "cell_type": "code",
   "execution_count": 52,
   "id": "ff494f24",
   "metadata": {
    "execution": {
     "iopub.execute_input": "2025-02-13T14:23:02.120525Z",
     "iopub.status.busy": "2025-02-13T14:23:02.120124Z",
     "iopub.status.idle": "2025-02-13T14:23:02.173796Z",
     "shell.execute_reply": "2025-02-13T14:23:02.172376Z"
    },
    "papermill": {
     "duration": 0.111309,
     "end_time": "2025-02-13T14:23:02.175354",
     "exception": false,
     "start_time": "2025-02-13T14:23:02.064045",
     "status": "completed"
    },
    "tags": []
   },
   "outputs": [
    {
     "name": "stdout",
     "output_type": "stream",
     "text": [
      "\n",
      "Step 7: Saving models and parameters...\n",
      "Saved LSTM model\n",
      "Saved scaler\n",
      "Saved ARIMA parameters\n"
     ]
    }
   ],
   "source": [
    "print(\"\\nStep 7: Saving models and parameters...\")\n",
    "\n",
    "# 7.1 Save LSTM model\n",
    "try:\n",
    "    model_lstm.save(f'{base_dir}/models/lstm_model.keras')\n",
    "    print(\"Saved LSTM model\")\n",
    "except Exception as e:\n",
    "    print(f\"Error saving LSTM model: {str(e)}\")\n",
    "\n",
    "# 7.2 Save scaler\n",
    "try:\n",
    "    joblib.dump(scaler, f'{base_dir}/models/scaler.keras')\n",
    "    print(\"Saved scaler\")\n",
    "except Exception as e:\n",
    "    print(f\"Error saving scaler: {str(e)}\")\n",
    "\n",
    "# 7.3 Save ARIMA parameters\n",
    "try:\n",
    "    arima_params = {\n",
    "        'order': (5,1,0),\n",
    "        'aic': model_arima_fit.aic,\n",
    "        'bic': model_arima_fit.bic,\n",
    "        'training_end_date': daily_expenses.index.max().strftime('%Y-%m-%d')\n",
    "    }\n",
    "    with open(f'{base_dir}/models/arima_params.json', 'w') as f:\n",
    "        json.dump(arima_params, f)\n",
    "    print(\"Saved ARIMA parameters\")\n",
    "except Exception as e:\n",
    "    print(f\"Error saving ARIMA parameters: {str(e)}\")"
   ]
  },
  {
   "cell_type": "code",
   "execution_count": 53,
   "id": "bac98f26",
   "metadata": {
    "execution": {
     "iopub.execute_input": "2025-02-13T14:23:02.288089Z",
     "iopub.status.busy": "2025-02-13T14:23:02.287739Z",
     "iopub.status.idle": "2025-02-13T14:23:26.291995Z",
     "shell.execute_reply": "2025-02-13T14:23:26.290704Z"
    },
    "papermill": {
     "duration": 24.060411,
     "end_time": "2025-02-13T14:23:26.293463",
     "exception": false,
     "start_time": "2025-02-13T14:23:02.233052",
     "status": "completed"
    },
    "tags": []
   },
   "outputs": [
    {
     "name": "stdout",
     "output_type": "stream",
     "text": [
      "\n",
      "Step 8: Saving additional analysis...\n",
      "Saved rolling statistics\n"
     ]
    }
   ],
   "source": [
    "print(\"\\nStep 8: Saving additional analysis...\")\n",
    "\n",
    "# 8.1 Calculate and save rolling statistics\n",
    "try:\n",
    "    rolling_stats = pd.DataFrame({\n",
    "        'date': daily_expenses.index,\n",
    "        'amount': daily_expenses['amount'],\n",
    "        'rolling_mean_7d': daily_expenses['amount'].rolling(window=7).mean(),\n",
    "        'rolling_mean_30d': daily_expenses['amount'].rolling(window=30).mean(),\n",
    "        'rolling_std_30d': daily_expenses['amount'].rolling(window=30).std()\n",
    "    })\n",
    "    rolling_stats.to_csv(f'{base_dir}/data/rolling_statistics.csv', index=True)\n",
    "    print(\"Saved rolling statistics\")\n",
    "except Exception as e:\n",
    "    print(f\"Error saving rolling statistics: {str(e)}\")"
   ]
  },
  {
   "cell_type": "code",
   "execution_count": 54,
   "id": "e061c260",
   "metadata": {
    "execution": {
     "iopub.execute_input": "2025-02-13T14:23:26.405662Z",
     "iopub.status.busy": "2025-02-13T14:23:26.405319Z",
     "iopub.status.idle": "2025-02-13T14:23:26.412937Z",
     "shell.execute_reply": "2025-02-13T14:23:26.412045Z"
    },
    "papermill": {
     "duration": 0.065526,
     "end_time": "2025-02-13T14:23:26.414289",
     "exception": false,
     "start_time": "2025-02-13T14:23:26.348763",
     "status": "completed"
    },
    "tags": []
   },
   "outputs": [
    {
     "name": "stdout",
     "output_type": "stream",
     "text": [
      "\n",
      "Step 9: Verifying saved files...\n",
      "✓ /kaggle/working/financial_forecasting/data/daily_spending.csv (Size: 139327.81 KB)\n",
      "✓ /kaggle/working/financial_forecasting/data/weekly_spending.csv (Size: 29.76 KB)\n",
      "✓ /kaggle/working/financial_forecasting/data/monthly_spending.csv (Size: 6.87 KB)\n",
      "✓ /kaggle/working/financial_forecasting/data/forecasting_results.csv (Size: 3.95 KB)\n",
      "✓ /kaggle/working/financial_forecasting/data/historical_vs_predicted.csv (Size: 53.52 KB)\n",
      "✓ /kaggle/working/financial_forecasting/data/rolling_statistics.csv (Size: 419885.93 KB)\n",
      "✓ /kaggle/working/financial_forecasting/analysis/model_metrics.csv (Size: 0.17 KB)\n",
      "✓ /kaggle/working/financial_forecasting/analysis/statistical_analysis.csv (Size: 0.31 KB)\n",
      "✗ /kaggle/working/financial_forecasting/models/lstm_model.h5 not found\n"
     ]
    }
   ],
   "source": [
    "print(\"\\nStep 9: Verifying saved files...\")\n",
    "\n",
    "def verify_file(filepath):\n",
    "    if os.path.exists(filepath):\n",
    "        size = os.path.getsize(filepath)\n",
    "        print(f\"✓ {filepath} (Size: {size/1024:.2f} KB)\")\n",
    "        # Verify file is not empty\n",
    "        if size == 0:\n",
    "            print(f\"  Warning: File is empty!\")\n",
    "        return True\n",
    "    else:\n",
    "        print(f\"✗ {filepath} not found\")\n",
    "        return False\n",
    "\n",
    "files_to_verify = [\n",
    "    f'{base_dir}/data/daily_spending.csv',\n",
    "    f'{base_dir}/data/weekly_spending.csv',\n",
    "    f'{base_dir}/data/monthly_spending.csv',\n",
    "    f'{base_dir}/data/forecasting_results.csv',\n",
    "    f'{base_dir}/data/historical_vs_predicted.csv',\n",
    "    f'{base_dir}/data/rolling_statistics.csv',\n",
    "    f'{base_dir}/analysis/model_metrics.csv',\n",
    "    f'{base_dir}/analysis/statistical_analysis.csv',\n",
    "    f'{base_dir}/models/lstm_model.h5',\n",
    "    f'{base_dir}/models/scaler.pkl',\n",
    "    f'{base_dir}/models/arima_params.json'\n",
    "]\n",
    "\n",
    "all_files_present = all(verify_file(f) for f in files_to_verify)"
   ]
  },
  {
   "cell_type": "code",
   "execution_count": 55,
   "id": "c11af287",
   "metadata": {
    "execution": {
     "iopub.execute_input": "2025-02-13T14:23:26.529083Z",
     "iopub.status.busy": "2025-02-13T14:23:26.528745Z",
     "iopub.status.idle": "2025-02-13T14:23:26.536017Z",
     "shell.execute_reply": "2025-02-13T14:23:26.535094Z"
    },
    "papermill": {
     "duration": 0.067253,
     "end_time": "2025-02-13T14:23:26.537448",
     "exception": false,
     "start_time": "2025-02-13T14:23:26.470195",
     "status": "completed"
    },
    "tags": []
   },
   "outputs": [
    {
     "name": "stdout",
     "output_type": "stream",
     "text": [
      "\n",
      "Step 10: Creating summary report...\n",
      "Created summary report\n",
      "\n",
      "Export process completed!\n"
     ]
    }
   ],
   "source": [
    "print(\"\\nStep 10: Creating summary report...\")\n",
    "\n",
    "summary_content = f\"\"\"\n",
    "Financial Forecasting Data Export Summary\n",
    "=======================================\n",
    "Generated on: {datetime.now().strftime('%Y-%m-%d %H:%M:%S')}\n",
    "\n",
    "Data Coverage:\n",
    "-------------\n",
    "Start Date: {daily_expenses.index.min().strftime('%Y-%m-%d')}\n",
    "End Date: {daily_expenses.index.max().strftime('%Y-%m-%d')}\n",
    "Total Days: {len(daily_expenses)}\n",
    "\n",
    "Files Generated:\n",
    "--------------\n",
    "Total Files: {len(files_to_verify)}\n",
    "Successfully Saved: {sum(1 for f in files_to_verify if os.path.exists(f))}\n",
    "Missing Files: {sum(1 for f in files_to_verify if not os.path.exists(f))}\n",
    "\n",
    "Model Performance:\n",
    "---------------\n",
    "ARIMA RMSE: {rmse_arima:.2f}\n",
    "Prophet RMSE: {rmse_prophet:.2f}\n",
    "LSTM RMSE: {rmse_lstm:.2f}\n",
    "\n",
    "Notes:\n",
    "-----\n",
    "- All dates are in YYYY-MM-DD format\n",
    "- All amounts are in original currency units\n",
    "- Rolling statistics include 7-day and 30-day windows\n",
    "\"\"\"\n",
    "\n",
    "with open(f'{base_dir}/export_summary.txt', 'w') as f:\n",
    "    f.write(summary_content)\n",
    "\n",
    "print(\"Created summary report\")\n",
    "print(\"\\nExport process completed!\")"
   ]
  },
  {
   "cell_type": "code",
   "execution_count": null,
   "id": "729c2397",
   "metadata": {
    "papermill": {
     "duration": 0.054856,
     "end_time": "2025-02-13T14:23:26.648285",
     "exception": false,
     "start_time": "2025-02-13T14:23:26.593429",
     "status": "completed"
    },
    "tags": []
   },
   "outputs": [],
   "source": []
  }
 ],
 "metadata": {
  "kaggle": {
   "accelerator": "none",
   "dataSources": [
    {
     "datasetId": 5988050,
     "sourceId": 9775239,
     "sourceType": "datasetVersion"
    }
   ],
   "dockerImageVersionId": 30840,
   "isGpuEnabled": false,
   "isInternetEnabled": true,
   "language": "python",
   "sourceType": "notebook"
  },
  "kernelspec": {
   "display_name": "Python 3",
   "language": "python",
   "name": "python3"
  },
  "language_info": {
   "codemirror_mode": {
    "name": "ipython",
    "version": 3
   },
   "file_extension": ".py",
   "mimetype": "text/x-python",
   "name": "python",
   "nbconvert_exporter": "python",
   "pygments_lexer": "ipython3",
   "version": "3.10.12"
  },
  "papermill": {
   "default_parameters": {},
   "duration": 190.686308,
   "end_time": "2025-02-13T14:23:30.227913",
   "environment_variables": {},
   "exception": null,
   "input_path": "__notebook__.ipynb",
   "output_path": "__notebook__.ipynb",
   "parameters": {},
   "start_time": "2025-02-13T14:20:19.541605",
   "version": "2.6.0"
  }
 },
 "nbformat": 4,
 "nbformat_minor": 5
}
